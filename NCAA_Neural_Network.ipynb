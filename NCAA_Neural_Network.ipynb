{
 "cells": [
  {
   "cell_type": "code",
   "execution_count": 1,
   "metadata": {},
   "outputs": [],
   "source": [
    "import pandas as pd\n",
    "import numpy as np\n",
    "import tensorflow as tf\n",
    "import numpy.random as nr\n",
    "import sklearn.model_selection as ms\n",
    "from sklearn import preprocessing"
   ]
  },
  {
   "cell_type": "code",
   "execution_count": 2,
   "metadata": {},
   "outputs": [
    {
     "name": "stdout",
     "output_type": "stream",
     "text": [
      "(87504, 29)\n"
     ]
    },
    {
     "data": {
      "text/html": [
       "<div>\n",
       "<style scoped>\n",
       "    .dataframe tbody tr th:only-of-type {\n",
       "        vertical-align: middle;\n",
       "    }\n",
       "\n",
       "    .dataframe tbody tr th {\n",
       "        vertical-align: top;\n",
       "    }\n",
       "\n",
       "    .dataframe thead th {\n",
       "        text-align: right;\n",
       "    }\n",
       "</style>\n",
       "<table border=\"1\" class=\"dataframe\">\n",
       "  <thead>\n",
       "    <tr style=\"text-align: right;\">\n",
       "      <th></th>\n",
       "      <th>Team2</th>\n",
       "      <th>Team1Score</th>\n",
       "      <th>Team1FGM</th>\n",
       "      <th>Team1FGA</th>\n",
       "      <th>Team1FGM3</th>\n",
       "      <th>Team1FGA3</th>\n",
       "      <th>Team1FTM</th>\n",
       "      <th>Team1FTA</th>\n",
       "      <th>Team1OR</th>\n",
       "      <th>Team1DR</th>\n",
       "      <th>...</th>\n",
       "      <th>Team2FGA3</th>\n",
       "      <th>Team2FTM</th>\n",
       "      <th>Team2FTA</th>\n",
       "      <th>Team2OR</th>\n",
       "      <th>Team2DR</th>\n",
       "      <th>Team2Ast</th>\n",
       "      <th>Team2TO</th>\n",
       "      <th>Team2Stl</th>\n",
       "      <th>Team2Blk</th>\n",
       "      <th>Team2PF</th>\n",
       "    </tr>\n",
       "  </thead>\n",
       "  <tbody>\n",
       "    <tr>\n",
       "      <th>0</th>\n",
       "      <td>1411.0</td>\n",
       "      <td>2</td>\n",
       "      <td>2</td>\n",
       "      <td>2</td>\n",
       "      <td>0</td>\n",
       "      <td>1</td>\n",
       "      <td>2</td>\n",
       "      <td>1</td>\n",
       "      <td>1</td>\n",
       "      <td>2</td>\n",
       "      <td>...</td>\n",
       "      <td>0</td>\n",
       "      <td>3</td>\n",
       "      <td>3</td>\n",
       "      <td>3</td>\n",
       "      <td>3</td>\n",
       "      <td>1</td>\n",
       "      <td>0</td>\n",
       "      <td>2</td>\n",
       "      <td>2</td>\n",
       "      <td>1</td>\n",
       "    </tr>\n",
       "    <tr>\n",
       "      <th>1</th>\n",
       "      <td>1112.0</td>\n",
       "      <td>1</td>\n",
       "      <td>1</td>\n",
       "      <td>1</td>\n",
       "      <td>0</td>\n",
       "      <td>0</td>\n",
       "      <td>2</td>\n",
       "      <td>2</td>\n",
       "      <td>1</td>\n",
       "      <td>3</td>\n",
       "      <td>...</td>\n",
       "      <td>0</td>\n",
       "      <td>3</td>\n",
       "      <td>3</td>\n",
       "      <td>3</td>\n",
       "      <td>3</td>\n",
       "      <td>3</td>\n",
       "      <td>3</td>\n",
       "      <td>1</td>\n",
       "      <td>3</td>\n",
       "      <td>0</td>\n",
       "    </tr>\n",
       "    <tr>\n",
       "      <th>2</th>\n",
       "      <td>1113.0</td>\n",
       "      <td>3</td>\n",
       "      <td>3</td>\n",
       "      <td>3</td>\n",
       "      <td>1</td>\n",
       "      <td>1</td>\n",
       "      <td>3</td>\n",
       "      <td>3</td>\n",
       "      <td>3</td>\n",
       "      <td>3</td>\n",
       "      <td>...</td>\n",
       "      <td>2</td>\n",
       "      <td>2</td>\n",
       "      <td>2</td>\n",
       "      <td>0</td>\n",
       "      <td>2</td>\n",
       "      <td>3</td>\n",
       "      <td>2</td>\n",
       "      <td>1</td>\n",
       "      <td>2</td>\n",
       "      <td>1</td>\n",
       "    </tr>\n",
       "    <tr>\n",
       "      <th>3</th>\n",
       "      <td>1141.0</td>\n",
       "      <td>3</td>\n",
       "      <td>3</td>\n",
       "      <td>2</td>\n",
       "      <td>3</td>\n",
       "      <td>2</td>\n",
       "      <td>2</td>\n",
       "      <td>0</td>\n",
       "      <td>0</td>\n",
       "      <td>3</td>\n",
       "      <td>...</td>\n",
       "      <td>2</td>\n",
       "      <td>2</td>\n",
       "      <td>1</td>\n",
       "      <td>2</td>\n",
       "      <td>0</td>\n",
       "      <td>0</td>\n",
       "      <td>0</td>\n",
       "      <td>2</td>\n",
       "      <td>0</td>\n",
       "      <td>3</td>\n",
       "    </tr>\n",
       "    <tr>\n",
       "      <th>4</th>\n",
       "      <td>1301.0</td>\n",
       "      <td>2</td>\n",
       "      <td>2</td>\n",
       "      <td>2</td>\n",
       "      <td>0</td>\n",
       "      <td>0</td>\n",
       "      <td>2</td>\n",
       "      <td>1</td>\n",
       "      <td>1</td>\n",
       "      <td>3</td>\n",
       "      <td>...</td>\n",
       "      <td>1</td>\n",
       "      <td>2</td>\n",
       "      <td>2</td>\n",
       "      <td>2</td>\n",
       "      <td>3</td>\n",
       "      <td>3</td>\n",
       "      <td>3</td>\n",
       "      <td>1</td>\n",
       "      <td>3</td>\n",
       "      <td>0</td>\n",
       "    </tr>\n",
       "  </tbody>\n",
       "</table>\n",
       "<p>5 rows × 29 columns</p>\n",
       "</div>"
      ],
      "text/plain": [
       "    Team2  Team1Score  Team1FGM  Team1FGA  Team1FGM3  Team1FGA3  Team1FTM  \\\n",
       "0  1411.0           2         2         2          0          1         2   \n",
       "1  1112.0           1         1         1          0          0         2   \n",
       "2  1113.0           3         3         3          1          1         3   \n",
       "3  1141.0           3         3         2          3          2         2   \n",
       "4  1301.0           2         2         2          0          0         2   \n",
       "\n",
       "   Team1FTA  Team1OR  Team1DR  ...  Team2FGA3  Team2FTM  Team2FTA  Team2OR  \\\n",
       "0         1        1        2  ...          0         3         3        3   \n",
       "1         2        1        3  ...          0         3         3        3   \n",
       "2         3        3        3  ...          2         2         2        0   \n",
       "3         0        0        3  ...          2         2         1        2   \n",
       "4         1        1        3  ...          1         2         2        2   \n",
       "\n",
       "   Team2DR  Team2Ast  Team2TO  Team2Stl  Team2Blk  Team2PF  \n",
       "0        3         1        0         2         2        1  \n",
       "1        3         3        3         1         3        0  \n",
       "2        2         3        2         1         2        1  \n",
       "3        0         0        0         2         0        3  \n",
       "4        3         3        3         1         3        0  \n",
       "\n",
       "[5 rows x 29 columns]"
      ]
     },
     "execution_count": 2,
     "metadata": {},
     "output_type": "execute_result"
    }
   ],
   "source": [
    "df = pd.read_csv('ncaa_matches_binned.csv')\n",
    "Labels = df['Win']\n",
    "df.drop(df.columns[0], axis=1, inplace=True)\n",
    "df.drop(['Win'], axis=1, inplace=True)\n",
    "Features = np.array(df)\n",
    "print(Features.shape)\n",
    "df.head()"
   ]
  },
  {
   "cell_type": "code",
   "execution_count": 3,
   "metadata": {},
   "outputs": [],
   "source": [
    "# Randomly sample cases to create independent training and test data\n",
    "nr.seed(1115)\n",
    "indx = range(Features.shape[0])\n",
    "indx = ms.train_test_split(indx, test_size = 5000)\n",
    "X_train = Features[indx[0],:]\n",
    "y_train = np.ravel(Labels[indx[0]])\n",
    "X_test = Features[indx[1],:]\n",
    "y_test = np.ravel(Labels[indx[1]])"
   ]
  },
  {
   "cell_type": "code",
   "execution_count": 4,
   "metadata": {
    "scrolled": true
   },
   "outputs": [
    {
     "name": "stdout",
     "output_type": "stream",
     "text": [
      "(82504, 29)\n"
     ]
    },
    {
     "data": {
      "text/plain": [
       "array([[0.56438356, 0.66666667, 1.        , 0.66666667, 0.        ,\n",
       "        0.        , 1.        , 1.        , 1.        , 1.        ,\n",
       "        0.66666667, 0.        , 0.        , 1.        , 0.        ,\n",
       "        0.66666667, 0.33333333, 0.33333333, 0.66666667, 1.        ,\n",
       "        1.        , 1.        , 0.        , 1.        , 1.        ,\n",
       "        1.        , 0.25      , 0.66666667, 0.33333333],\n",
       "       [0.62465753, 0.66666667, 0.66666667, 0.66666667, 0.        ,\n",
       "        0.        , 1.        , 0.66666667, 0.        , 0.33333333,\n",
       "        0.66666667, 0.66666667, 0.5       , 0.66666667, 0.33333333,\n",
       "        0.66666667, 0.66666667, 0.66666667, 0.33333333, 0.5       ,\n",
       "        1.        , 1.        , 0.33333333, 0.66666667, 0.66666667,\n",
       "        0.66666667, 1.        , 1.        , 0.66666667],\n",
       "       [0.16712329, 0.        , 0.        , 0.        , 1.        ,\n",
       "        1.        , 0.        , 0.        , 0.        , 0.        ,\n",
       "        0.33333333, 1.        , 0.25      , 0.        , 0.        ,\n",
       "        0.        , 0.        , 0.        , 0.66666667, 0.5       ,\n",
       "        0.        , 0.        , 0.        , 0.66666667, 0.33333333,\n",
       "        0.33333333, 0.25      , 0.        , 0.66666667],\n",
       "       [0.16164384, 0.33333333, 0.        , 0.        , 0.66666667,\n",
       "        0.5       , 0.        , 0.        , 0.        , 0.        ,\n",
       "        1.        , 0.66666667, 0.25      , 0.66666667, 0.33333333,\n",
       "        0.66666667, 0.66666667, 0.66666667, 0.        , 0.5       ,\n",
       "        1.        , 1.        , 0.66666667, 1.        , 0.66666667,\n",
       "        0.33333333, 0.25      , 1.        , 0.33333333],\n",
       "       [0.01917808, 0.66666667, 0.66666667, 0.66666667, 0.        ,\n",
       "        0.        , 0.66666667, 0.33333333, 0.33333333, 1.        ,\n",
       "        1.        , 1.        , 0.        , 0.66666667, 0.        ,\n",
       "        0.        , 0.        , 0.66666667, 0.        , 0.        ,\n",
       "        0.66666667, 0.66666667, 0.33333333, 0.33333333, 0.        ,\n",
       "        0.        , 0.5       , 0.66666667, 1.        ]])"
      ]
     },
     "execution_count": 4,
     "metadata": {},
     "output_type": "execute_result"
    }
   ],
   "source": [
    "# Rescale numeric features\n",
    "scaler = preprocessing.MinMaxScaler().fit(X_train)\n",
    "X_train = scaler.transform(X_train)\n",
    "X_test = scaler.transform(X_test)\n",
    "print(X_train.shape)\n",
    "X_train[:5,:]"
   ]
  },
  {
   "cell_type": "code",
   "execution_count": 76,
   "metadata": {},
   "outputs": [],
   "source": [
    "# I tried a alot of different neural network structures this one is one of the best. \n",
    "# More complext networks are all slightly worse than this one.\n",
    "activation_fn = tf.nn.relu"
   ]
  },
  {
   "cell_type": "code",
   "execution_count": 176,
   "metadata": {},
   "outputs": [],
   "source": [
    "inputs = tf.keras.Input(shape=(X_train.shape[1], ))  # Returns an input placeholder\n",
    "\n",
    "# A layer instance is callable on a tensor, and returns a tensor.\n",
    "x = tf.keras.layers.Dense(128, activation=activation_fn)(inputs)\n",
    "x = tf.keras.layers.Dense(128, activation=activation_fn)(x)\n",
    "x = tf.keras.layers.Dense(128, activation=activation_fn)(x)\n",
    "outputs = tf.keras.layers.Dense(1, activation=tf.keras.activations.sigmoid)(x)\n",
    "\n",
    "model = tf.keras.Model(inputs=inputs, outputs=outputs)\n",
    "\n",
    "model.compile(optimizer='adam',\n",
    "              loss=tf.keras.losses.BinaryCrossentropy(),\n",
    "              metrics=['accuracy', 'AUC', 'Precision', 'Recall'])\n"
   ]
  },
  {
   "cell_type": "code",
   "execution_count": 177,
   "metadata": {},
   "outputs": [
    {
     "name": "stdout",
     "output_type": "stream",
     "text": [
      "Train on 66003 samples, validate on 16501 samples\n",
      "Epoch 1/10\n",
      "66003/66003 [==============================] - 5s 74us/sample - loss: 0.6319 - accuracy: 0.6338 - AUC: 0.6901 - Precision: 0.6340 - Recall: 0.6286 - val_loss: 0.6244 - val_accuracy: 0.6382 - val_AUC: 0.7031 - val_Precision: 0.6664 - val_Recall: 0.5587\n",
      "Epoch 2/10\n",
      "66003/66003 [==============================] - 4s 58us/sample - loss: 0.6246 - accuracy: 0.6412 - AUC: 0.7001 - Precision: 0.6399 - Recall: 0.6416 - val_loss: 0.6234 - val_accuracy: 0.6443 - val_AUC: 0.7048 - val_Precision: 0.6284 - val_Recall: 0.7126\n",
      "Epoch 3/10\n",
      "66003/66003 [==============================] - 4s 60us/sample - loss: 0.6222 - accuracy: 0.6439 - AUC: 0.7030 - Precision: 0.6411 - Recall: 0.6498 - val_loss: 0.6249 - val_accuracy: 0.6409 - val_AUC: 0.7047 - val_Precision: 0.6652 - val_Recall: 0.5726\n",
      "Epoch 4/10\n",
      "66003/66003 [==============================] - 4s 56us/sample - loss: 0.6196 - accuracy: 0.6454 - AUC: 0.7067 - Precision: 0.6434 - Recall: 0.6485 - val_loss: 0.6200 - val_accuracy: 0.6474 - val_AUC: 0.7082 - val_Precision: 0.6354 - val_Recall: 0.6975\n",
      "Epoch 5/10\n",
      "66003/66003 [==============================] - 4s 56us/sample - loss: 0.6174 - accuracy: 0.6479 - AUC: 0.7093 - Precision: 0.6471 - Recall: 0.6467 - val_loss: 0.6157 - val_accuracy: 0.6487 - val_AUC: 0.7114 - val_Precision: 0.6439 - val_Recall: 0.6708\n",
      "Epoch 6/10\n",
      "66003/66003 [==============================] - 4s 60us/sample - loss: 0.6144 - accuracy: 0.6508 - AUC: 0.7135 - Precision: 0.6492 - Recall: 0.6520 - val_loss: 0.6268 - val_accuracy: 0.6450 - val_AUC: 0.7095 - val_Precision: 0.6687 - val_Recall: 0.5798\n",
      "Epoch 7/10\n",
      "66003/66003 [==============================] - 4s 59us/sample - loss: 0.6120 - accuracy: 0.6527 - AUC: 0.7160 - Precision: 0.6507 - Recall: 0.6553 - val_loss: 0.6177 - val_accuracy: 0.6442 - val_AUC: 0.7097 - val_Precision: 0.6283 - val_Recall: 0.7124\n",
      "Epoch 8/10\n",
      "66003/66003 [==============================] - 4s 57us/sample - loss: 0.6093 - accuracy: 0.6558 - AUC: 0.7197 - Precision: 0.6523 - Recall: 0.6635 - val_loss: 0.6195 - val_accuracy: 0.6483 - val_AUC: 0.7099 - val_Precision: 0.6434 - val_Recall: 0.6710\n",
      "Epoch 9/10\n",
      "66003/66003 [==============================] - 4s 59us/sample - loss: 0.6076 - accuracy: 0.6564 - AUC: 0.7220 - Precision: 0.6535 - Recall: 0.6620 - val_loss: 0.6165 - val_accuracy: 0.6512 - val_AUC: 0.7132 - val_Precision: 0.6416 - val_Recall: 0.6906\n",
      "Epoch 10/10\n",
      "66003/66003 [==============================] - 4s 60us/sample - loss: 0.6057 - accuracy: 0.6591 - AUC: 0.7245 - Precision: 0.6572 - Recall: 0.6613 - val_loss: 0.6138 - val_accuracy: 0.6504 - val_AUC: 0.7156 - val_Precision: 0.6480 - val_Recall: 0.6641\n",
      "5000/1 - 0s - loss: 0.6059 - accuracy: 0.6510 - AUC: 0.7139 - Precision: 0.6515 - Recall: 0.6554\n"
     ]
    },
    {
     "data": {
      "text/plain": [
       "[0.6143906691551209, 0.651, 0.71386534, 0.65148515, 0.65537846]"
      ]
     },
     "execution_count": 177,
     "metadata": {},
     "output_type": "execute_result"
    }
   ],
   "source": [
    "model.fit(X_train, y_train, epochs=10, validation_split=0.2)\n",
    "\n",
    "model.evaluate(X_test,  y_test, verbose=2)"
   ]
  },
  {
   "cell_type": "code",
   "execution_count": 178,
   "metadata": {},
   "outputs": [
    {
     "name": "stdout",
     "output_type": "stream",
     "text": [
      "Model: \"model_42\"\n",
      "_________________________________________________________________\n",
      "Layer (type)                 Output Shape              Param #   \n",
      "=================================================================\n",
      "input_43 (InputLayer)        [(None, 29)]              0         \n",
      "_________________________________________________________________\n",
      "dense_181 (Dense)            (None, 128)               3840      \n",
      "_________________________________________________________________\n",
      "dense_182 (Dense)            (None, 128)               16512     \n",
      "_________________________________________________________________\n",
      "dense_183 (Dense)            (None, 128)               16512     \n",
      "_________________________________________________________________\n",
      "dense_184 (Dense)            (None, 1)                 129       \n",
      "=================================================================\n",
      "Total params: 36,993\n",
      "Trainable params: 36,993\n",
      "Non-trainable params: 0\n",
      "_________________________________________________________________\n"
     ]
    }
   ],
   "source": [
    "model.summary()"
   ]
  },
  {
   "cell_type": "code",
   "execution_count": 179,
   "metadata": {},
   "outputs": [
    {
     "data": {
      "image/png": "[encoded data removed]",
      "text/plain": [
       "<IPython.core.display.Image object>"
      ]
     },
     "execution_count": 179,
     "metadata": {},
     "output_type": "execute_result"
    }
   ],
   "source": [
    "tf.keras.utils.plot_model(model, 'neural_network_shape_info.png', show_shapes=True)"
   ]
  },
  {
   "cell_type": "code",
   "execution_count": null,
   "metadata": {},
   "outputs": [],
   "source": []
  }
 ],
 "metadata": {
  "kernelspec": {
   "display_name": "Python 3",
   "language": "python",
   "name": "python3"
  },
  "language_info": {
   "codemirror_mode": {
    "name": "ipython",
    "version": 3
   },
   "file_extension": ".py",
   "mimetype": "text/x-python",
   "name": "python",
   "nbconvert_exporter": "python",
   "pygments_lexer": "ipython3",
   "version": "3.7.3"
  }
 },
 "nbformat": 4,
 "nbformat_minor": 2
}
