{
 "cells": [
  {
   "cell_type": "code",
   "execution_count": 1,
   "metadata": {},
   "outputs": [],
   "source": [
    "import pandas as pd\n",
    "import numpy as np\n",
    "import tensorflow as tf\n",
    "import numpy.random as nr\n",
    "import sklearn.model_selection as ms\n",
    "from sklearn import preprocessing"
   ]
  },
  {
   "cell_type": "code",
   "execution_count": 2,
   "metadata": {},
   "outputs": [
    {
     "name": "stdout",
     "output_type": "stream",
     "text": [
      "(87504, 30)\n"
     ]
    },
    {
     "data": {
      "text/html": [
       "<div>\n",
       "<style scoped>\n",
       "    .dataframe tbody tr th:only-of-type {\n",
       "        vertical-align: middle;\n",
       "    }\n",
       "\n",
       "    .dataframe tbody tr th {\n",
       "        vertical-align: top;\n",
       "    }\n",
       "\n",
       "    .dataframe thead th {\n",
       "        text-align: right;\n",
       "    }\n",
       "</style>\n",
       "<table border=\"1\" class=\"dataframe\">\n",
       "  <thead>\n",
       "    <tr style=\"text-align: right;\">\n",
       "      <th></th>\n",
       "      <th>Team1</th>\n",
       "      <th>Team2</th>\n",
       "      <th>Team1Score</th>\n",
       "      <th>Team1FGM</th>\n",
       "      <th>Team1FGA</th>\n",
       "      <th>Team1FGM3</th>\n",
       "      <th>Team1FGA3</th>\n",
       "      <th>Team1FTM</th>\n",
       "      <th>Team1FTA</th>\n",
       "      <th>Team1OR</th>\n",
       "      <th>...</th>\n",
       "      <th>Team2FGA3</th>\n",
       "      <th>Team2FTM</th>\n",
       "      <th>Team2FTA</th>\n",
       "      <th>Team2OR</th>\n",
       "      <th>Team2DR</th>\n",
       "      <th>Team2Ast</th>\n",
       "      <th>Team2TO</th>\n",
       "      <th>Team2Stl</th>\n",
       "      <th>Team2Blk</th>\n",
       "      <th>Team2PF</th>\n",
       "    </tr>\n",
       "  </thead>\n",
       "  <tbody>\n",
       "    <tr>\n",
       "      <th>0</th>\n",
       "      <td>1421.0</td>\n",
       "      <td>1411.0</td>\n",
       "      <td>2</td>\n",
       "      <td>2</td>\n",
       "      <td>2</td>\n",
       "      <td>0</td>\n",
       "      <td>1</td>\n",
       "      <td>2</td>\n",
       "      <td>1</td>\n",
       "      <td>1</td>\n",
       "      <td>...</td>\n",
       "      <td>0</td>\n",
       "      <td>3</td>\n",
       "      <td>3</td>\n",
       "      <td>3</td>\n",
       "      <td>3</td>\n",
       "      <td>1</td>\n",
       "      <td>0</td>\n",
       "      <td>2</td>\n",
       "      <td>2</td>\n",
       "      <td>1</td>\n",
       "    </tr>\n",
       "    <tr>\n",
       "      <th>1</th>\n",
       "      <td>1436.0</td>\n",
       "      <td>1112.0</td>\n",
       "      <td>1</td>\n",
       "      <td>1</td>\n",
       "      <td>1</td>\n",
       "      <td>0</td>\n",
       "      <td>0</td>\n",
       "      <td>2</td>\n",
       "      <td>2</td>\n",
       "      <td>1</td>\n",
       "      <td>...</td>\n",
       "      <td>0</td>\n",
       "      <td>3</td>\n",
       "      <td>3</td>\n",
       "      <td>3</td>\n",
       "      <td>3</td>\n",
       "      <td>3</td>\n",
       "      <td>3</td>\n",
       "      <td>1</td>\n",
       "      <td>3</td>\n",
       "      <td>0</td>\n",
       "    </tr>\n",
       "    <tr>\n",
       "      <th>2</th>\n",
       "      <td>1272.0</td>\n",
       "      <td>1113.0</td>\n",
       "      <td>3</td>\n",
       "      <td>3</td>\n",
       "      <td>3</td>\n",
       "      <td>1</td>\n",
       "      <td>1</td>\n",
       "      <td>3</td>\n",
       "      <td>3</td>\n",
       "      <td>3</td>\n",
       "      <td>...</td>\n",
       "      <td>2</td>\n",
       "      <td>2</td>\n",
       "      <td>2</td>\n",
       "      <td>0</td>\n",
       "      <td>2</td>\n",
       "      <td>3</td>\n",
       "      <td>2</td>\n",
       "      <td>1</td>\n",
       "      <td>2</td>\n",
       "      <td>1</td>\n",
       "    </tr>\n",
       "    <tr>\n",
       "      <th>3</th>\n",
       "      <td>1166.0</td>\n",
       "      <td>1141.0</td>\n",
       "      <td>3</td>\n",
       "      <td>3</td>\n",
       "      <td>2</td>\n",
       "      <td>3</td>\n",
       "      <td>2</td>\n",
       "      <td>2</td>\n",
       "      <td>0</td>\n",
       "      <td>0</td>\n",
       "      <td>...</td>\n",
       "      <td>2</td>\n",
       "      <td>2</td>\n",
       "      <td>1</td>\n",
       "      <td>2</td>\n",
       "      <td>0</td>\n",
       "      <td>0</td>\n",
       "      <td>0</td>\n",
       "      <td>2</td>\n",
       "      <td>0</td>\n",
       "      <td>3</td>\n",
       "    </tr>\n",
       "    <tr>\n",
       "      <th>4</th>\n",
       "      <td>1143.0</td>\n",
       "      <td>1301.0</td>\n",
       "      <td>2</td>\n",
       "      <td>2</td>\n",
       "      <td>2</td>\n",
       "      <td>0</td>\n",
       "      <td>0</td>\n",
       "      <td>2</td>\n",
       "      <td>1</td>\n",
       "      <td>1</td>\n",
       "      <td>...</td>\n",
       "      <td>1</td>\n",
       "      <td>2</td>\n",
       "      <td>2</td>\n",
       "      <td>2</td>\n",
       "      <td>3</td>\n",
       "      <td>3</td>\n",
       "      <td>3</td>\n",
       "      <td>1</td>\n",
       "      <td>3</td>\n",
       "      <td>0</td>\n",
       "    </tr>\n",
       "  </tbody>\n",
       "</table>\n",
       "<p>5 rows × 30 columns</p>\n",
       "</div>"
      ],
      "text/plain": [
       "    Team1   Team2  Team1Score  Team1FGM  Team1FGA  Team1FGM3  Team1FGA3  \\\n",
       "0  1421.0  1411.0           2         2         2          0          1   \n",
       "1  1436.0  1112.0           1         1         1          0          0   \n",
       "2  1272.0  1113.0           3         3         3          1          1   \n",
       "3  1166.0  1141.0           3         3         2          3          2   \n",
       "4  1143.0  1301.0           2         2         2          0          0   \n",
       "\n",
       "   Team1FTM  Team1FTA  Team1OR  ...  Team2FGA3  Team2FTM  Team2FTA  Team2OR  \\\n",
       "0         2         1        1  ...          0         3         3        3   \n",
       "1         2         2        1  ...          0         3         3        3   \n",
       "2         3         3        3  ...          2         2         2        0   \n",
       "3         2         0        0  ...          2         2         1        2   \n",
       "4         2         1        1  ...          1         2         2        2   \n",
       "\n",
       "   Team2DR  Team2Ast  Team2TO  Team2Stl  Team2Blk  Team2PF  \n",
       "0        3         1        0         2         2        1  \n",
       "1        3         3        3         1         3        0  \n",
       "2        2         3        2         1         2        1  \n",
       "3        0         0        0         2         0        3  \n",
       "4        3         3        3         1         3        0  \n",
       "\n",
       "[5 rows x 30 columns]"
      ]
     },
     "execution_count": 2,
     "metadata": {},
     "output_type": "execute_result"
    }
   ],
   "source": [
    "df = pd.read_csv('ncaa_matches_binned.csv')\n",
    "Labels = df['Win']\n",
    "df.drop(df.columns[0], axis=1, inplace=True)\n",
    "df.drop(['Win'], axis=1, inplace=True)\n",
    "Features = np.array(df)\n",
    "print(Features.shape)\n",
    "df.head()"
   ]
  },
  {
   "cell_type": "code",
   "execution_count": 2,
   "metadata": {},
   "outputs": [],
   "source": [
    "def split_and_rescale_data(Features, Labels):\n",
    "    # Randomly sample cases to create independent training and test data\n",
    "    nr.seed(1115)\n",
    "    indx = range(Features.shape[0])\n",
    "    indx = ms.train_test_split(indx, test_size = int(Features.shape[0]*0.25))\n",
    "    X_train = Features[indx[0],:]\n",
    "    y_train = np.ravel(Labels[indx[0]])\n",
    "    X_test = Features[indx[1],:]\n",
    "    y_test = np.ravel(Labels[indx[1]])\n",
    "    \n",
    "    # Rescale numeric features\n",
    "    scaler = preprocessing.MinMaxScaler().fit(X_train)\n",
    "    X_train = scaler.transform(X_train)\n",
    "    X_test = scaler.transform(X_test)\n",
    "    print(X_train.shape)\n",
    "    #X_train[:5,:]\n",
    "    return X_train, y_train, X_test, y_test"
   ]
  },
  {
   "cell_type": "raw",
   "metadata": {},
   "source": [
    "# Randomly sample cases to create independent training and test data\n",
    "nr.seed(1115)\n",
    "indx = range(Features.shape[0])\n",
    "indx = ms.train_test_split(indx, test_size = 5000)\n",
    "X_train = Features[indx[0],:]\n",
    "y_train = np.ravel(Labels[indx[0]])\n",
    "X_test = Features[indx[1],:]\n",
    "y_test = np.ravel(Labels[indx[1]])"
   ]
  },
  {
   "cell_type": "raw",
   "metadata": {
    "scrolled": true
   },
   "source": [
    "# Rescale numeric features\n",
    "scaler = preprocessing.MinMaxScaler().fit(X_train)\n",
    "X_train = scaler.transform(X_train)\n",
    "X_test = scaler.transform(X_test)\n",
    "print(X_train.shape)\n",
    "X_train[:5,:]"
   ]
  },
  {
   "cell_type": "markdown",
   "metadata": {},
   "source": [
    "# Model1 All Features Binned"
   ]
  },
  {
   "cell_type": "code",
   "execution_count": 4,
   "metadata": {},
   "outputs": [],
   "source": [
    "# I tried a alot of different neural network structures this one is one of the best. \n",
    "# More complext networks are all slightly worse than this one."
   ]
  },
  {
   "cell_type": "code",
   "execution_count": 5,
   "metadata": {},
   "outputs": [
    {
     "name": "stdout",
     "output_type": "stream",
     "text": [
      "(65628, 30)\n"
     ]
    }
   ],
   "source": [
    "X_train, y_train, X_test, y_test = split_and_rescale_data(Features, Labels)"
   ]
  },
  {
   "cell_type": "code",
   "execution_count": 6,
   "metadata": {},
   "outputs": [],
   "source": [
    "tf.random.set_seed(1115)\n",
    "activation_fn = tf.nn.relu\n",
    "inputs = tf.keras.Input(shape=(X_train.shape[1], ))  # Returns an input placeholder\n",
    "\n",
    "x = tf.keras.layers.Dense(256, activation=activation_fn)(inputs)\n",
    "x = tf.keras.layers.Dense(256, activation=activation_fn)(x)\n",
    "x = tf.keras.layers.Dense(128, activation=activation_fn)(x)\n",
    "x = tf.keras.layers.Dense(64, activation=activation_fn)(x)\n",
    "x = tf.keras.layers.Dense(32, activation=activation_fn)(x)\n",
    "x = tf.keras.layers.Dropout(0.2)(x)\n",
    "outputs = tf.keras.layers.Dense(1, activation=tf.keras.activations.sigmoid)(x)\n",
    "\n",
    "model = tf.keras.Model(inputs=inputs, outputs=outputs)\n",
    "\n",
    "model.compile(optimizer='adam',\n",
    "              loss=tf.keras.losses.BinaryCrossentropy(),\n",
    "              metrics=['accuracy', 'AUC', 'Precision', 'Recall'])\n"
   ]
  },
  {
   "cell_type": "code",
   "execution_count": 7,
   "metadata": {
    "scrolled": true
   },
   "outputs": [
    {
     "name": "stdout",
     "output_type": "stream",
     "text": [
      "Train on 52502 samples, validate on 13126 samples\n",
      "Epoch 1/100\n",
      "52502/52502 [==============================] - 6s 106us/sample - loss: 0.6364 - accuracy: 0.6295 - AUC: 0.6852 - Precision: 0.6275 - Recall: 0.6304 - val_loss: 0.6266 - val_accuracy: 0.6462 - val_AUC: 0.7028 - val_Precision: 0.6571 - val_Recall: 0.6208\n",
      "Epoch 2/100\n",
      "52502/52502 [==============================] - 4s 77us/sample - loss: 0.6296 - accuracy: 0.6387 - AUC: 0.6957 - Precision: 0.6322 - Recall: 0.6564 - val_loss: 0.6239 - val_accuracy: 0.6423 - val_AUC: 0.7019 - val_Precision: 0.6519 - val_Recall: 0.6202\n",
      "Epoch 3/100\n",
      "52502/52502 [==============================] - 4s 75us/sample - loss: 0.6270 - accuracy: 0.6383 - AUC: 0.6978 - Precision: 0.6312 - Recall: 0.6589 - val_loss: 0.6246 - val_accuracy: 0.6501 - val_AUC: 0.7061 - val_Precision: 0.6466 - val_Recall: 0.6717\n",
      "Epoch 4/100\n",
      "52502/52502 [==============================] - 4s 76us/sample - loss: 0.6239 - accuracy: 0.6423 - AUC: 0.7022 - Precision: 0.6379 - Recall: 0.6521 - val_loss: 0.6245 - val_accuracy: 0.6388 - val_AUC: 0.7054 - val_Precision: 0.6775 - val_Recall: 0.5383\n",
      "Epoch 5/100\n",
      "52502/52502 [==============================] - 4s 75us/sample - loss: 0.6221 - accuracy: 0.6447 - AUC: 0.7050 - Precision: 0.6414 - Recall: 0.6503 - val_loss: 0.6193 - val_accuracy: 0.6483 - val_AUC: 0.7082 - val_Precision: 0.6645 - val_Recall: 0.6080\n",
      "Epoch 6/100\n",
      "52502/52502 [==============================] - 4s 76us/sample - loss: 0.6193 - accuracy: 0.6466 - AUC: 0.7083 - Precision: 0.6422 - Recall: 0.6560 - val_loss: 0.6193 - val_accuracy: 0.6447 - val_AUC: 0.7078 - val_Precision: 0.6594 - val_Recall: 0.6077\n",
      "Epoch 7/100\n",
      "52502/52502 [==============================] - 4s 75us/sample - loss: 0.6171 - accuracy: 0.6494 - AUC: 0.7114 - Precision: 0.6411 - Recall: 0.6727 - val_loss: 0.6219 - val_accuracy: 0.6407 - val_AUC: 0.7055 - val_Precision: 0.6259 - val_Recall: 0.7105\n",
      "Epoch 8/100\n",
      "52502/52502 [==============================] - 4s 75us/sample - loss: 0.6153 - accuracy: 0.6532 - AUC: 0.7141 - Precision: 0.6473 - Recall: 0.6672 - val_loss: 0.6255 - val_accuracy: 0.6448 - val_AUC: 0.7081 - val_Precision: 0.6731 - val_Recall: 0.5713\n",
      "Epoch 9/100\n",
      "52502/52502 [==============================] - 4s 76us/sample - loss: 0.6125 - accuracy: 0.6549 - AUC: 0.7166 - Precision: 0.6500 - Recall: 0.6657 - val_loss: 0.6206 - val_accuracy: 0.6485 - val_AUC: 0.7088 - val_Precision: 0.6438 - val_Recall: 0.6744\n"
     ]
    },
    {
     "data": {
      "text/plain": [
       "<tensorflow.python.keras.callbacks.History at 0x1a3c8f8630>"
      ]
     },
     "execution_count": 7,
     "metadata": {},
     "output_type": "execute_result"
    }
   ],
   "source": [
    "callback = [tf.keras.callbacks.EarlyStopping(monitor='val_loss', patience=3)]\n",
    "model.fit(X_train, y_train, epochs=100, validation_split=0.2, callbacks=callback)"
   ]
  },
  {
   "cell_type": "code",
   "execution_count": 8,
   "metadata": {},
   "outputs": [
    {
     "name": "stdout",
     "output_type": "stream",
     "text": [
      "65628/1 - 2s - loss: 0.6140 - accuracy: 0.6575 - AUC: 0.7231 - Precision: 0.6485 - Recall: 0.6853\n"
     ]
    },
    {
     "data": {
      "text/plain": [
       "[0.6075262983451125, 0.6575395, 0.72307724, 0.64849484, 0.68529993]"
      ]
     },
     "execution_count": 8,
     "metadata": {},
     "output_type": "execute_result"
    }
   ],
   "source": [
    "# Prediction on training\n",
    "model.evaluate(X_train, y_train, verbose=2)"
   ]
  },
  {
   "cell_type": "code",
   "execution_count": 9,
   "metadata": {},
   "outputs": [
    {
     "name": "stdout",
     "output_type": "stream",
     "text": [
      "21876/1 - 1s - loss: 0.5946 - accuracy: 0.6470 - AUC: 0.7092 - Precision: 0.6411 - Recall: 0.6697\n"
     ]
    },
    {
     "data": {
      "text/plain": [
       "[0.6188119750045558, 0.64701045, 0.7092022, 0.64105254, 0.6697415]"
      ]
     },
     "execution_count": 9,
     "metadata": {},
     "output_type": "execute_result"
    }
   ],
   "source": [
    "# Prediction on training\n",
    "model.evaluate(X_test,  y_test, verbose=2)"
   ]
  },
  {
   "cell_type": "code",
   "execution_count": 10,
   "metadata": {},
   "outputs": [
    {
     "name": "stdout",
     "output_type": "stream",
     "text": [
      "Model: \"model\"\n",
      "_________________________________________________________________\n",
      "Layer (type)                 Output Shape              Param #   \n",
      "=================================================================\n",
      "input_1 (InputLayer)         [(None, 30)]              0         \n",
      "_________________________________________________________________\n",
      "dense (Dense)                (None, 256)               7936      \n",
      "_________________________________________________________________\n",
      "dense_1 (Dense)              (None, 256)               65792     \n",
      "_________________________________________________________________\n",
      "dense_2 (Dense)              (None, 128)               32896     \n",
      "_________________________________________________________________\n",
      "dense_3 (Dense)              (None, 64)                8256      \n",
      "_________________________________________________________________\n",
      "dense_4 (Dense)              (None, 32)                2080      \n",
      "_________________________________________________________________\n",
      "dropout (Dropout)            (None, 32)                0         \n",
      "_________________________________________________________________\n",
      "dense_5 (Dense)              (None, 1)                 33        \n",
      "=================================================================\n",
      "Total params: 116,993\n",
      "Trainable params: 116,993\n",
      "Non-trainable params: 0\n",
      "_________________________________________________________________\n"
     ]
    }
   ],
   "source": [
    "model.summary()"
   ]
  },
  {
   "cell_type": "code",
   "execution_count": 11,
   "metadata": {},
   "outputs": [
    {
     "data": {
      "image/png": "[encoded data removed]",
      "text/plain": [
       "<IPython.core.display.Image object>"
      ]
     },
     "execution_count": 11,
     "metadata": {},
     "output_type": "execute_result"
    }
   ],
   "source": [
    "tf.keras.utils.plot_model(model, 'neural_network_shape_info.png', show_shapes=True)"
   ]
  },
  {
   "cell_type": "markdown",
   "metadata": {},
   "source": [
    "# Model2 Only Team Scores Binned"
   ]
  },
  {
   "cell_type": "code",
   "execution_count": 12,
   "metadata": {},
   "outputs": [
    {
     "name": "stdout",
     "output_type": "stream",
     "text": [
      "(65628, 4)\n"
     ]
    }
   ],
   "source": [
    "Features2 = np.array(df[['Team1', 'Team2', 'Team1Score', 'Team2Score']])#, 'Team1FGM', 'Team1FGA', 'Team2FGM', 'Team2FGA']])\n",
    "X_train2, y_train2, X_test2, y_test2 = split_and_rescale_data(Features2, Labels)"
   ]
  },
  {
   "cell_type": "code",
   "execution_count": 13,
   "metadata": {},
   "outputs": [],
   "source": [
    "tf.random.set_seed(1115)\n",
    "activation_fn = tf.nn.relu\n",
    "inputs = tf.keras.Input(shape=(X_train2.shape[1], ))  # Returns an input placeholder\n",
    "\n",
    "x = tf.keras.layers.Dense(32, activation=activation_fn)(inputs)\n",
    "x = tf.keras.layers.Dense(8, activation=activation_fn)(x)\n",
    "x = tf.keras.layers.Dropout(0.2)(x)\n",
    "outputs = tf.keras.layers.Dense(1, activation=tf.keras.activations.sigmoid)(x)\n",
    "\n",
    "model2 = tf.keras.Model(inputs=inputs, outputs=outputs)\n",
    "\n",
    "model2.compile(optimizer='adam',\n",
    "              loss=tf.keras.losses.BinaryCrossentropy(),\n",
    "              metrics=['accuracy', 'AUC', 'Precision', 'Recall'])"
   ]
  },
  {
   "cell_type": "code",
   "execution_count": 14,
   "metadata": {},
   "outputs": [
    {
     "name": "stdout",
     "output_type": "stream",
     "text": [
      "Train on 52502 samples, validate on 13126 samples\n",
      "Epoch 1/100\n",
      "52502/52502 [==============================] - 4s 69us/sample - loss: 0.6696 - accuracy: 0.5864 - AUC: 0.6232 - Precision: 0.5856 - Recall: 0.5802 - val_loss: 0.6614 - val_accuracy: 0.5954 - val_AUC: 0.6460 - val_Precision: 0.6109 - val_Recall: 0.5392\n",
      "Epoch 2/100\n",
      "52502/52502 [==============================] - 3s 48us/sample - loss: 0.6662 - accuracy: 0.5895 - AUC: 0.6307 - Precision: 0.5836 - Recall: 0.6136 - val_loss: 0.6592 - val_accuracy: 0.5987 - val_AUC: 0.6469 - val_Precision: 0.6089 - val_Recall: 0.5657\n",
      "Epoch 3/100\n",
      "52502/52502 [==============================] - 3s 48us/sample - loss: 0.6654 - accuracy: 0.5931 - AUC: 0.6326 - Precision: 0.5882 - Recall: 0.6106 - val_loss: 0.6593 - val_accuracy: 0.6020 - val_AUC: 0.6471 - val_Precision: 0.5888 - val_Recall: 0.6925\n",
      "Epoch 4/100\n",
      "52502/52502 [==============================] - 2s 47us/sample - loss: 0.6649 - accuracy: 0.5926 - AUC: 0.6326 - Precision: 0.5869 - Recall: 0.6148 - val_loss: 0.6592 - val_accuracy: 0.5984 - val_AUC: 0.6482 - val_Precision: 0.6205 - val_Recall: 0.5195\n",
      "Epoch 5/100\n",
      "52502/52502 [==============================] - 2s 47us/sample - loss: 0.6650 - accuracy: 0.5927 - AUC: 0.6330 - Precision: 0.5887 - Recall: 0.6045 - val_loss: 0.6597 - val_accuracy: 0.5976 - val_AUC: 0.6485 - val_Precision: 0.6322 - val_Recall: 0.4786\n",
      "Epoch 6/100\n",
      "52502/52502 [==============================] - 2s 47us/sample - loss: 0.6647 - accuracy: 0.5925 - AUC: 0.6332 - Precision: 0.5907 - Recall: 0.5922 - val_loss: 0.6576 - val_accuracy: 0.6000 - val_AUC: 0.6481 - val_Precision: 0.5964 - val_Recall: 0.6337\n",
      "Epoch 7/100\n",
      "52502/52502 [==============================] - 2s 47us/sample - loss: 0.6645 - accuracy: 0.5929 - AUC: 0.6338 - Precision: 0.5896 - Recall: 0.6013 - val_loss: 0.6608 - val_accuracy: 0.5963 - val_AUC: 0.6478 - val_Precision: 0.6142 - val_Recall: 0.5313\n",
      "Epoch 8/100\n",
      "52502/52502 [==============================] - 3s 48us/sample - loss: 0.6643 - accuracy: 0.5935 - AUC: 0.6344 - Precision: 0.5950 - Recall: 0.5757 - val_loss: 0.6601 - val_accuracy: 0.5980 - val_AUC: 0.6485 - val_Precision: 0.6089 - val_Recall: 0.5621\n",
      "Epoch 9/100\n",
      "52502/52502 [==============================] - 3s 48us/sample - loss: 0.6651 - accuracy: 0.5932 - AUC: 0.6329 - Precision: 0.5928 - Recall: 0.5851 - val_loss: 0.6586 - val_accuracy: 0.5979 - val_AUC: 0.6484 - val_Precision: 0.6113 - val_Recall: 0.5515\n"
     ]
    },
    {
     "data": {
      "text/plain": [
       "<tensorflow.python.keras.callbacks.History at 0x1a3e5b6f98>"
      ]
     },
     "execution_count": 14,
     "metadata": {},
     "output_type": "execute_result"
    }
   ],
   "source": [
    "callback = [tf.keras.callbacks.EarlyStopping(monitor='val_loss', patience=3)]\n",
    "model2.fit(X_train2, y_train2, epochs=100, validation_split=0.2, callbacks=callback)"
   ]
  },
  {
   "cell_type": "code",
   "execution_count": 15,
   "metadata": {},
   "outputs": [
    {
     "name": "stdout",
     "output_type": "stream",
     "text": [
      "65628/1 - 2s - loss: 0.6511 - accuracy: 0.5959 - AUC: 0.6400 - Precision: 0.6026 - Recall: 0.5591\n"
     ]
    },
    {
     "data": {
      "text/plain": [
       "[0.6613427002134827, 0.5959499, 0.6399871, 0.60263246, 0.5591208]"
      ]
     },
     "execution_count": 15,
     "metadata": {},
     "output_type": "execute_result"
    }
   ],
   "source": [
    "# Prediction on training\n",
    "model2.evaluate(X_train2, y_train2, verbose=2)"
   ]
  },
  {
   "cell_type": "code",
   "execution_count": 16,
   "metadata": {},
   "outputs": [
    {
     "name": "stdout",
     "output_type": "stream",
     "text": [
      "21876/1 - 1s - loss: 0.6550 - accuracy: 0.5920 - AUC: 0.6373 - Precision: 0.5995 - Recall: 0.5569\n"
     ]
    },
    {
     "data": {
      "text/plain": [
       "[0.6620842393431156, 0.59201866, 0.6373043, 0.5994888, 0.55694586]"
      ]
     },
     "execution_count": 16,
     "metadata": {},
     "output_type": "execute_result"
    }
   ],
   "source": [
    "# Prediction on training\n",
    "model2.evaluate(X_test2,  y_test2, verbose=2)"
   ]
  },
  {
   "cell_type": "code",
   "execution_count": 17,
   "metadata": {
    "scrolled": true
   },
   "outputs": [
    {
     "name": "stdout",
     "output_type": "stream",
     "text": [
      "Model: \"model_1\"\n",
      "_________________________________________________________________\n",
      "Layer (type)                 Output Shape              Param #   \n",
      "=================================================================\n",
      "input_2 (InputLayer)         [(None, 4)]               0         \n",
      "_________________________________________________________________\n",
      "dense_6 (Dense)              (None, 32)                160       \n",
      "_________________________________________________________________\n",
      "dense_7 (Dense)              (None, 8)                 264       \n",
      "_________________________________________________________________\n",
      "dropout_1 (Dropout)          (None, 8)                 0         \n",
      "_________________________________________________________________\n",
      "dense_8 (Dense)              (None, 1)                 9         \n",
      "=================================================================\n",
      "Total params: 433\n",
      "Trainable params: 433\n",
      "Non-trainable params: 0\n",
      "_________________________________________________________________\n"
     ]
    }
   ],
   "source": [
    "model2.summary()"
   ]
  },
  {
   "cell_type": "code",
   "execution_count": 18,
   "metadata": {},
   "outputs": [
    {
     "data": {
      "image/png": "[encoded data removed]",
      "text/plain": [
       "<IPython.core.display.Image object>"
      ]
     },
     "execution_count": 18,
     "metadata": {},
     "output_type": "execute_result"
    }
   ],
   "source": [
    "tf.keras.utils.plot_model(model2, 'neural_network_shape_info2.png', show_shapes=True)"
   ]
  },
  {
   "cell_type": "markdown",
   "metadata": {},
   "source": [
    "# Model3 Features Binned Selected by PCA"
   ]
  },
  {
   "cell_type": "code",
   "execution_count": 19,
   "metadata": {},
   "outputs": [
    {
     "name": "stdout",
     "output_type": "stream",
     "text": [
      "(65628, 22)\n"
     ]
    }
   ],
   "source": [
    "Features3 = np.array(df[['Team1', 'Team2', 'Team1Score', 'Team1FGM', 'Team1FGA', 'Team1FGM3', 'Team1FGA3', 'Team1FTM', 'Team1FTA', 'Team1OR', 'Team1DR', 'Team1Ast', \n",
    "                        'Team2Score', 'Team2FGM', 'Team2FGA', 'Team2FGM3', 'Team2FGA3', 'Team2FTM', 'Team2FTA', 'Team2OR', 'Team2DR', 'Team2Ast']])\n",
    "X_train3, y_train3, X_test3, y_test3 = split_and_rescale_data(Features3, Labels)"
   ]
  },
  {
   "cell_type": "code",
   "execution_count": 20,
   "metadata": {},
   "outputs": [],
   "source": [
    "tf.random.set_seed(1115)\n",
    "activation_fn = tf.nn.relu\n",
    "inputs = tf.keras.Input(shape=(X_train3.shape[1], ))  # Returns an input placeholder\n",
    "\n",
    "x = tf.keras.layers.Dense(256, activation=activation_fn)(inputs)\n",
    "x = tf.keras.layers.Dense(256, activation=activation_fn)(x)\n",
    "x = tf.keras.layers.Dropout(0.2)(x)\n",
    "outputs = tf.keras.layers.Dense(1, activation=tf.keras.activations.sigmoid)(x)\n",
    "\n",
    "model3 = tf.keras.Model(inputs=inputs, outputs=outputs)\n",
    "\n",
    "model3.compile(optimizer='adam',\n",
    "              loss=tf.keras.losses.BinaryCrossentropy(),\n",
    "              metrics=['accuracy', 'AUC', 'Precision', 'Recall'])"
   ]
  },
  {
   "cell_type": "code",
   "execution_count": 21,
   "metadata": {},
   "outputs": [
    {
     "name": "stdout",
     "output_type": "stream",
     "text": [
      "Train on 52502 samples, validate on 13126 samples\n",
      "Epoch 1/100\n",
      "52502/52502 [==============================] - 5s 89us/sample - loss: 0.6498 - accuracy: 0.6133 - AUC: 0.6619 - Precision: 0.6125 - Recall: 0.6088 - val_loss: 0.6404 - val_accuracy: 0.6259 - val_AUC: 0.6783 - val_Precision: 0.6236 - val_Recall: 0.6466\n",
      "Epoch 2/100\n",
      "52502/52502 [==============================] - 3s 66us/sample - loss: 0.6451 - accuracy: 0.6190 - AUC: 0.6697 - Precision: 0.6160 - Recall: 0.6241 - val_loss: 0.6389 - val_accuracy: 0.6312 - val_AUC: 0.6816 - val_Precision: 0.6253 - val_Recall: 0.6660\n",
      "Epoch 3/100\n",
      "52502/52502 [==============================] - 3s 67us/sample - loss: 0.6429 - accuracy: 0.6203 - AUC: 0.6723 - Precision: 0.6203 - Recall: 0.6129 - val_loss: 0.6407 - val_accuracy: 0.6310 - val_AUC: 0.6830 - val_Precision: 0.6403 - val_Recall: 0.6083\n",
      "Epoch 4/100\n",
      "52502/52502 [==============================] - 4s 68us/sample - loss: 0.6399 - accuracy: 0.6252 - AUC: 0.6767 - Precision: 0.6260 - Recall: 0.6147 - val_loss: 0.6376 - val_accuracy: 0.6300 - val_AUC: 0.6840 - val_Precision: 0.6543 - val_Recall: 0.5613\n",
      "Epoch 5/100\n",
      "52502/52502 [==============================] - 3s 64us/sample - loss: 0.6380 - accuracy: 0.6255 - AUC: 0.6795 - Precision: 0.6242 - Recall: 0.6232 - val_loss: 0.6367 - val_accuracy: 0.6316 - val_AUC: 0.6825 - val_Precision: 0.6428 - val_Recall: 0.6027\n",
      "Epoch 6/100\n",
      "52502/52502 [==============================] - 3s 66us/sample - loss: 0.6361 - accuracy: 0.6262 - AUC: 0.6826 - Precision: 0.6270 - Recall: 0.6157 - val_loss: 0.6377 - val_accuracy: 0.6304 - val_AUC: 0.6840 - val_Precision: 0.6525 - val_Recall: 0.5677\n",
      "Epoch 7/100\n",
      "52502/52502 [==============================] - 4s 69us/sample - loss: 0.6347 - accuracy: 0.6293 - AUC: 0.6849 - Precision: 0.6276 - Recall: 0.6288 - val_loss: 0.6385 - val_accuracy: 0.6312 - val_AUC: 0.6811 - val_Precision: 0.6390 - val_Recall: 0.6136\n",
      "Epoch 8/100\n",
      "52502/52502 [==============================] - 4s 70us/sample - loss: 0.6326 - accuracy: 0.6331 - AUC: 0.6879 - Precision: 0.6343 - Recall: 0.6222 - val_loss: 0.6388 - val_accuracy: 0.6326 - val_AUC: 0.6866 - val_Precision: 0.6615 - val_Recall: 0.5522\n"
     ]
    },
    {
     "data": {
      "text/plain": [
       "<tensorflow.python.keras.callbacks.History at 0x1a44603e80>"
      ]
     },
     "execution_count": 21,
     "metadata": {},
     "output_type": "execute_result"
    }
   ],
   "source": [
    "callback = [tf.keras.callbacks.EarlyStopping(monitor='val_loss', patience=3)]\n",
    "model3.fit(X_train3, y_train3, epochs=100, validation_split=0.2, callbacks=callback)"
   ]
  },
  {
   "cell_type": "code",
   "execution_count": 22,
   "metadata": {},
   "outputs": [
    {
     "name": "stdout",
     "output_type": "stream",
     "text": [
      "65628/1 - 2s - loss: 0.6319 - accuracy: 0.6348 - AUC: 0.6947 - Precision: 0.6593 - Recall: 0.5552\n"
     ]
    },
    {
     "data": {
      "text/plain": [
       "[0.630912161126988, 0.63479, 0.69465405, 0.65928286, 0.5551824]"
      ]
     },
     "execution_count": 22,
     "metadata": {},
     "output_type": "execute_result"
    }
   ],
   "source": [
    "# Prediction on training\n",
    "model3.evaluate(X_train3, y_train3, verbose=2)"
   ]
  },
  {
   "cell_type": "code",
   "execution_count": 23,
   "metadata": {},
   "outputs": [
    {
     "name": "stdout",
     "output_type": "stream",
     "text": [
      "21876/1 - 1s - loss: 0.6201 - accuracy: 0.6226 - AUC: 0.6825 - Precision: 0.6461 - Recall: 0.5438\n"
     ]
    },
    {
     "data": {
      "text/plain": [
       "[0.6387078868752097, 0.62260014, 0.6824659, 0.6461204, 0.543794]"
      ]
     },
     "execution_count": 23,
     "metadata": {},
     "output_type": "execute_result"
    }
   ],
   "source": [
    "# Prediction on test\n",
    "model3.evaluate(X_test3,  y_test3, verbose=2)"
   ]
  },
  {
   "cell_type": "code",
   "execution_count": 24,
   "metadata": {},
   "outputs": [
    {
     "name": "stdout",
     "output_type": "stream",
     "text": [
      "Model: \"model_2\"\n",
      "_________________________________________________________________\n",
      "Layer (type)                 Output Shape              Param #   \n",
      "=================================================================\n",
      "input_3 (InputLayer)         [(None, 22)]              0         \n",
      "_________________________________________________________________\n",
      "dense_9 (Dense)              (None, 256)               5888      \n",
      "_________________________________________________________________\n",
      "dense_10 (Dense)             (None, 256)               65792     \n",
      "_________________________________________________________________\n",
      "dropout_2 (Dropout)          (None, 256)               0         \n",
      "_________________________________________________________________\n",
      "dense_11 (Dense)             (None, 1)                 257       \n",
      "=================================================================\n",
      "Total params: 71,937\n",
      "Trainable params: 71,937\n",
      "Non-trainable params: 0\n",
      "_________________________________________________________________\n"
     ]
    }
   ],
   "source": [
    "model3.summary()"
   ]
  },
  {
   "cell_type": "code",
   "execution_count": 25,
   "metadata": {},
   "outputs": [
    {
     "data": {
      "image/png": "[encoded data removed]",
      "text/plain": [
       "<IPython.core.display.Image object>"
      ]
     },
     "execution_count": 25,
     "metadata": {},
     "output_type": "execute_result"
    }
   ],
   "source": [
    "tf.keras.utils.plot_model(model2, 'neural_network_shape_info3.png', show_shapes=True)"
   ]
  },
  {
   "cell_type": "markdown",
   "metadata": {},
   "source": [
    "# Model4: Delta and Team Features - NOT Binned"
   ]
  },
  {
   "cell_type": "code",
   "execution_count": 26,
   "metadata": {},
   "outputs": [
    {
     "name": "stdout",
     "output_type": "stream",
     "text": [
      "(87504, 44)\n"
     ]
    },
    {
     "data": {
      "text/html": [
       "<div>\n",
       "<style scoped>\n",
       "    .dataframe tbody tr th:only-of-type {\n",
       "        vertical-align: middle;\n",
       "    }\n",
       "\n",
       "    .dataframe tbody tr th {\n",
       "        vertical-align: top;\n",
       "    }\n",
       "\n",
       "    .dataframe thead th {\n",
       "        text-align: right;\n",
       "    }\n",
       "</style>\n",
       "<table border=\"1\" class=\"dataframe\">\n",
       "  <thead>\n",
       "    <tr style=\"text-align: right;\">\n",
       "      <th></th>\n",
       "      <th>Team1</th>\n",
       "      <th>Team2</th>\n",
       "      <th>Team1Score</th>\n",
       "      <th>Team1FGM</th>\n",
       "      <th>Team1FGA</th>\n",
       "      <th>Team1FGM3</th>\n",
       "      <th>Team1FGA3</th>\n",
       "      <th>Team1FTM</th>\n",
       "      <th>Team1FTA</th>\n",
       "      <th>Team1OR</th>\n",
       "      <th>...</th>\n",
       "      <th>FGA3</th>\n",
       "      <th>FTM</th>\n",
       "      <th>FTA</th>\n",
       "      <th>OR</th>\n",
       "      <th>DR</th>\n",
       "      <th>Ast</th>\n",
       "      <th>TO</th>\n",
       "      <th>Stl</th>\n",
       "      <th>Blk</th>\n",
       "      <th>PF</th>\n",
       "    </tr>\n",
       "  </thead>\n",
       "  <tbody>\n",
       "    <tr>\n",
       "      <th>0</th>\n",
       "      <td>1421.0</td>\n",
       "      <td>1411.0</td>\n",
       "      <td>70.857116</td>\n",
       "      <td>24.835506</td>\n",
       "      <td>56.434951</td>\n",
       "      <td>6.414692</td>\n",
       "      <td>18.565785</td>\n",
       "      <td>14.771413</td>\n",
       "      <td>20.665618</td>\n",
       "      <td>10.963364</td>\n",
       "      <td>...</td>\n",
       "      <td>0.881936</td>\n",
       "      <td>-0.939267</td>\n",
       "      <td>-3.340163</td>\n",
       "      <td>-0.742632</td>\n",
       "      <td>-0.677068</td>\n",
       "      <td>1.729802</td>\n",
       "      <td>-0.756330</td>\n",
       "      <td>0.648304</td>\n",
       "      <td>0.664272</td>\n",
       "      <td>-0.607997</td>\n",
       "    </tr>\n",
       "    <tr>\n",
       "      <th>1</th>\n",
       "      <td>1436.0</td>\n",
       "      <td>1112.0</td>\n",
       "      <td>69.855278</td>\n",
       "      <td>24.480532</td>\n",
       "      <td>53.811272</td>\n",
       "      <td>5.963383</td>\n",
       "      <td>16.755914</td>\n",
       "      <td>14.930832</td>\n",
       "      <td>21.279172</td>\n",
       "      <td>10.879975</td>\n",
       "      <td>...</td>\n",
       "      <td>-0.800801</td>\n",
       "      <td>-1.394677</td>\n",
       "      <td>-0.973109</td>\n",
       "      <td>-0.543107</td>\n",
       "      <td>-0.034545</td>\n",
       "      <td>-1.456050</td>\n",
       "      <td>0.284372</td>\n",
       "      <td>-0.239265</td>\n",
       "      <td>0.017690</td>\n",
       "      <td>0.474607</td>\n",
       "    </tr>\n",
       "    <tr>\n",
       "      <th>2</th>\n",
       "      <td>1272.0</td>\n",
       "      <td>1113.0</td>\n",
       "      <td>74.907473</td>\n",
       "      <td>26.294729</td>\n",
       "      <td>58.543421</td>\n",
       "      <td>6.600664</td>\n",
       "      <td>19.351685</td>\n",
       "      <td>15.717352</td>\n",
       "      <td>23.277168</td>\n",
       "      <td>12.826705</td>\n",
       "      <td>...</td>\n",
       "      <td>-0.985461</td>\n",
       "      <td>0.735616</td>\n",
       "      <td>1.798324</td>\n",
       "      <td>2.440904</td>\n",
       "      <td>1.049760</td>\n",
       "      <td>0.727133</td>\n",
       "      <td>0.345803</td>\n",
       "      <td>1.952151</td>\n",
       "      <td>1.948516</td>\n",
       "      <td>0.417965</td>\n",
       "    </tr>\n",
       "    <tr>\n",
       "      <th>3</th>\n",
       "      <td>1166.0</td>\n",
       "      <td>1141.0</td>\n",
       "      <td>73.853850</td>\n",
       "      <td>25.786073</td>\n",
       "      <td>55.304019</td>\n",
       "      <td>8.163962</td>\n",
       "      <td>21.624711</td>\n",
       "      <td>14.117741</td>\n",
       "      <td>19.608092</td>\n",
       "      <td>9.641230</td>\n",
       "      <td>...</td>\n",
       "      <td>-0.370801</td>\n",
       "      <td>-0.531874</td>\n",
       "      <td>-1.177037</td>\n",
       "      <td>-1.441776</td>\n",
       "      <td>2.729467</td>\n",
       "      <td>3.557566</td>\n",
       "      <td>-1.665977</td>\n",
       "      <td>-0.634785</td>\n",
       "      <td>0.228078</td>\n",
       "      <td>-2.998282</td>\n",
       "    </tr>\n",
       "    <tr>\n",
       "      <th>4</th>\n",
       "      <td>1143.0</td>\n",
       "      <td>1301.0</td>\n",
       "      <td>70.866565</td>\n",
       "      <td>25.397341</td>\n",
       "      <td>56.385076</td>\n",
       "      <td>5.714419</td>\n",
       "      <td>16.266095</td>\n",
       "      <td>14.357464</td>\n",
       "      <td>20.499749</td>\n",
       "      <td>10.694625</td>\n",
       "      <td>...</td>\n",
       "      <td>-2.476242</td>\n",
       "      <td>-0.625295</td>\n",
       "      <td>-0.568383</td>\n",
       "      <td>-0.464428</td>\n",
       "      <td>0.210106</td>\n",
       "      <td>-0.569521</td>\n",
       "      <td>-0.228914</td>\n",
       "      <td>-0.782866</td>\n",
       "      <td>-0.714186</td>\n",
       "      <td>0.253653</td>\n",
       "    </tr>\n",
       "  </tbody>\n",
       "</table>\n",
       "<p>5 rows × 44 columns</p>\n",
       "</div>"
      ],
      "text/plain": [
       "    Team1   Team2  Team1Score   Team1FGM   Team1FGA  Team1FGM3  Team1FGA3  \\\n",
       "0  1421.0  1411.0   70.857116  24.835506  56.434951   6.414692  18.565785   \n",
       "1  1436.0  1112.0   69.855278  24.480532  53.811272   5.963383  16.755914   \n",
       "2  1272.0  1113.0   74.907473  26.294729  58.543421   6.600664  19.351685   \n",
       "3  1166.0  1141.0   73.853850  25.786073  55.304019   8.163962  21.624711   \n",
       "4  1143.0  1301.0   70.866565  25.397341  56.385076   5.714419  16.266095   \n",
       "\n",
       "    Team1FTM   Team1FTA    Team1OR  ...      FGA3       FTM       FTA  \\\n",
       "0  14.771413  20.665618  10.963364  ...  0.881936 -0.939267 -3.340163   \n",
       "1  14.930832  21.279172  10.879975  ... -0.800801 -1.394677 -0.973109   \n",
       "2  15.717352  23.277168  12.826705  ... -0.985461  0.735616  1.798324   \n",
       "3  14.117741  19.608092   9.641230  ... -0.370801 -0.531874 -1.177037   \n",
       "4  14.357464  20.499749  10.694625  ... -2.476242 -0.625295 -0.568383   \n",
       "\n",
       "         OR        DR       Ast        TO       Stl       Blk        PF  \n",
       "0 -0.742632 -0.677068  1.729802 -0.756330  0.648304  0.664272 -0.607997  \n",
       "1 -0.543107 -0.034545 -1.456050  0.284372 -0.239265  0.017690  0.474607  \n",
       "2  2.440904  1.049760  0.727133  0.345803  1.952151  1.948516  0.417965  \n",
       "3 -1.441776  2.729467  3.557566 -1.665977 -0.634785  0.228078 -2.998282  \n",
       "4 -0.464428  0.210106 -0.569521 -0.228914 -0.782866 -0.714186  0.253653  \n",
       "\n",
       "[5 rows x 44 columns]"
      ]
     },
     "execution_count": 26,
     "metadata": {},
     "output_type": "execute_result"
    }
   ],
   "source": [
    "df2 = pd.read_csv('delta_matches.csv')\n",
    "Labels = df2['Win']\n",
    "df2.drop(df2.columns[0], axis=1, inplace=True)\n",
    "df2.drop(['Win'], axis=1, inplace=True)\n",
    "Features2 = np.array(df2)\n",
    "print(Features2.shape)\n",
    "df2.head()"
   ]
  },
  {
   "cell_type": "code",
   "execution_count": 27,
   "metadata": {},
   "outputs": [
    {
     "name": "stdout",
     "output_type": "stream",
     "text": [
      "(65628, 44)\n"
     ]
    }
   ],
   "source": [
    "X_train4, y_train4, X_test4, y_test4 = split_and_rescale_data(Features2, Labels)"
   ]
  },
  {
   "cell_type": "code",
   "execution_count": 28,
   "metadata": {},
   "outputs": [],
   "source": [
    "tf.random.set_seed(1115)\n",
    "activation_fn = tf.nn.relu\n",
    "inputs = tf.keras.Input(shape=(X_train4.shape[1], ))  # Returns an input placeholder\n",
    "\n",
    "x = tf.keras.layers.Dense(2048, activation=activation_fn)(inputs)\n",
    "x = tf.keras.layers.BatchNormalization()(x)\n",
    "x = tf.keras.layers.Dense(1024, activation=activation_fn)(x)\n",
    "x = tf.keras.layers.BatchNormalization()(x)\n",
    "x = tf.keras.layers.Dense(1024, activation=activation_fn)(x)\n",
    "x = tf.keras.layers.BatchNormalization()(x)\n",
    "x = tf.keras.layers.Dense(1024, activation=activation_fn)(x)\n",
    "x = tf.keras.layers.Dropout(0.2)(x)\n",
    "outputs = tf.keras.layers.Dense(1, activation=tf.keras.activations.sigmoid)(x)\n",
    "\n",
    "model4 = tf.keras.Model(inputs=inputs, outputs=outputs)\n",
    "\n",
    "model4.compile(optimizer='adam',\n",
    "              loss=tf.keras.losses.BinaryCrossentropy(),\n",
    "              metrics=['accuracy', 'AUC', 'Precision', 'Recall'])"
   ]
  },
  {
   "cell_type": "code",
   "execution_count": 29,
   "metadata": {},
   "outputs": [
    {
     "name": "stdout",
     "output_type": "stream",
     "text": [
      "Train on 52502 samples, validate on 13126 samples\n",
      "Epoch 1/100\n",
      "52502/52502 [==============================] - 42s 809us/sample - loss: 0.6888 - accuracy: 0.6235 - AUC: 0.6696 - Precision: 0.6238 - Recall: 0.6152 - val_loss: 0.6294 - val_accuracy: 0.6291 - val_AUC: 0.6974 - val_Precision: 0.6645 - val_Recall: 0.5310\n",
      "Epoch 2/100\n",
      "52502/52502 [==============================] - 39s 736us/sample - loss: 0.6296 - accuracy: 0.6430 - AUC: 0.7010 - Precision: 0.6408 - Recall: 0.6446 - val_loss: 0.6393 - val_accuracy: 0.6127 - val_AUC: 0.7112 - val_Precision: 0.7643 - val_Recall: 0.3328\n",
      "Epoch 3/100\n",
      "52502/52502 [==============================] - 39s 737us/sample - loss: 0.6250 - accuracy: 0.6477 - AUC: 0.7068 - Precision: 0.6436 - Recall: 0.6558 - val_loss: 0.6100 - val_accuracy: 0.6554 - val_AUC: 0.7196 - val_Precision: 0.6564 - val_Recall: 0.6613\n",
      "Epoch 4/100\n",
      "52502/52502 [==============================] - 39s 736us/sample - loss: 0.6227 - accuracy: 0.6498 - AUC: 0.7093 - Precision: 0.6488 - Recall: 0.6471 - val_loss: 0.6108 - val_accuracy: 0.6500 - val_AUC: 0.7198 - val_Precision: 0.6815 - val_Recall: 0.5713\n",
      "Epoch 5/100\n",
      "52502/52502 [==============================] - 40s 752us/sample - loss: 0.6220 - accuracy: 0.6514 - AUC: 0.7094 - Precision: 0.6495 - Recall: 0.6521 - val_loss: 0.6121 - val_accuracy: 0.6494 - val_AUC: 0.7188 - val_Precision: 0.6323 - val_Recall: 0.7244\n",
      "Epoch 6/100\n",
      "52502/52502 [==============================] - 39s 743us/sample - loss: 0.6207 - accuracy: 0.6502 - AUC: 0.7109 - Precision: 0.6485 - Recall: 0.6503 - val_loss: 0.6118 - val_accuracy: 0.6563 - val_AUC: 0.7204 - val_Precision: 0.6720 - val_Recall: 0.6192\n"
     ]
    },
    {
     "data": {
      "text/plain": [
       "<tensorflow.python.keras.callbacks.History at 0x1a42ecc898>"
      ]
     },
     "execution_count": 29,
     "metadata": {},
     "output_type": "execute_result"
    }
   ],
   "source": [
    "callback = [tf.keras.callbacks.EarlyStopping(monitor='val_loss', patience=3)]\n",
    "model4.fit(X_train4, y_train4, epochs=100, validation_split=0.2, callbacks=callback)"
   ]
  },
  {
   "cell_type": "code",
   "execution_count": 30,
   "metadata": {},
   "outputs": [
    {
     "name": "stdout",
     "output_type": "stream",
     "text": [
      "65628/1 - 10s - loss: 0.5971 - accuracy: 0.6545 - AUC: 0.7198 - Precision: 0.6656 - Recall: 0.6188\n"
     ]
    },
    {
     "data": {
      "text/plain": [
       "[0.6114723057003455, 0.6545377, 0.7198282, 0.6655502, 0.6187758]"
      ]
     },
     "execution_count": 30,
     "metadata": {},
     "output_type": "execute_result"
    }
   ],
   "source": [
    "# Prediction on training\n",
    "model4.evaluate(X_train4, y_train4, verbose=2)"
   ]
  },
  {
   "cell_type": "code",
   "execution_count": 31,
   "metadata": {},
   "outputs": [
    {
     "name": "stdout",
     "output_type": "stream",
     "text": [
      "21876/1 - 3s - loss: 0.6060 - accuracy: 0.6521 - AUC: 0.7176 - Precision: 0.6650 - Recall: 0.6143\n"
     ]
    },
    {
     "data": {
      "text/plain": [
       "[0.6129494197605341, 0.65208447, 0.7176101, 0.6650188, 0.6143027]"
      ]
     },
     "execution_count": 31,
     "metadata": {},
     "output_type": "execute_result"
    }
   ],
   "source": [
    "# Prediction on test\n",
    "model4.evaluate(X_test4,  y_test4, verbose=2)"
   ]
  },
  {
   "cell_type": "code",
   "execution_count": 32,
   "metadata": {},
   "outputs": [
    {
     "name": "stdout",
     "output_type": "stream",
     "text": [
      "Model: \"model_3\"\n",
      "_________________________________________________________________\n",
      "Layer (type)                 Output Shape              Param #   \n",
      "=================================================================\n",
      "input_4 (InputLayer)         [(None, 44)]              0         \n",
      "_________________________________________________________________\n",
      "dense_12 (Dense)             (None, 2048)              92160     \n",
      "_________________________________________________________________\n",
      "batch_normalization (BatchNo (None, 2048)              8192      \n",
      "_________________________________________________________________\n",
      "dense_13 (Dense)             (None, 1024)              2098176   \n",
      "_________________________________________________________________\n",
      "batch_normalization_1 (Batch (None, 1024)              4096      \n",
      "_________________________________________________________________\n",
      "dense_14 (Dense)             (None, 1024)              1049600   \n",
      "_________________________________________________________________\n",
      "batch_normalization_2 (Batch (None, 1024)              4096      \n",
      "_________________________________________________________________\n",
      "dense_15 (Dense)             (None, 1024)              1049600   \n",
      "_________________________________________________________________\n",
      "dropout_3 (Dropout)          (None, 1024)              0         \n",
      "_________________________________________________________________\n",
      "dense_16 (Dense)             (None, 1)                 1025      \n",
      "=================================================================\n",
      "Total params: 4,306,945\n",
      "Trainable params: 4,298,753\n",
      "Non-trainable params: 8,192\n",
      "_________________________________________________________________\n"
     ]
    }
   ],
   "source": [
    "model4.summary()"
   ]
  },
  {
   "cell_type": "markdown",
   "metadata": {},
   "source": [
    "# Model5: All Features and NOT Binned"
   ]
  },
  {
   "cell_type": "code",
   "execution_count": 33,
   "metadata": {},
   "outputs": [
    {
     "name": "stdout",
     "output_type": "stream",
     "text": [
      "(87504, 30)\n"
     ]
    },
    {
     "data": {
      "text/html": [
       "<div>\n",
       "<style scoped>\n",
       "    .dataframe tbody tr th:only-of-type {\n",
       "        vertical-align: middle;\n",
       "    }\n",
       "\n",
       "    .dataframe tbody tr th {\n",
       "        vertical-align: top;\n",
       "    }\n",
       "\n",
       "    .dataframe thead th {\n",
       "        text-align: right;\n",
       "    }\n",
       "</style>\n",
       "<table border=\"1\" class=\"dataframe\">\n",
       "  <thead>\n",
       "    <tr style=\"text-align: right;\">\n",
       "      <th></th>\n",
       "      <th>Team1</th>\n",
       "      <th>Team2</th>\n",
       "      <th>Team1Score</th>\n",
       "      <th>Team1FGM</th>\n",
       "      <th>Team1FGA</th>\n",
       "      <th>Team1FGM3</th>\n",
       "      <th>Team1FGA3</th>\n",
       "      <th>Team1FTM</th>\n",
       "      <th>Team1FTA</th>\n",
       "      <th>Team1OR</th>\n",
       "      <th>...</th>\n",
       "      <th>Team2FGA3</th>\n",
       "      <th>Team2FTM</th>\n",
       "      <th>Team2FTA</th>\n",
       "      <th>Team2OR</th>\n",
       "      <th>Team2DR</th>\n",
       "      <th>Team2Ast</th>\n",
       "      <th>Team2TO</th>\n",
       "      <th>Team2Stl</th>\n",
       "      <th>Team2Blk</th>\n",
       "      <th>Team2PF</th>\n",
       "    </tr>\n",
       "  </thead>\n",
       "  <tbody>\n",
       "    <tr>\n",
       "      <th>0</th>\n",
       "      <td>1421.0</td>\n",
       "      <td>1411.0</td>\n",
       "      <td>70.857116</td>\n",
       "      <td>24.835506</td>\n",
       "      <td>56.434951</td>\n",
       "      <td>6.414692</td>\n",
       "      <td>18.565785</td>\n",
       "      <td>14.771413</td>\n",
       "      <td>20.665618</td>\n",
       "      <td>10.963364</td>\n",
       "      <td>...</td>\n",
       "      <td>17.683849</td>\n",
       "      <td>15.710680</td>\n",
       "      <td>24.005781</td>\n",
       "      <td>11.705997</td>\n",
       "      <td>24.357526</td>\n",
       "      <td>12.123150</td>\n",
       "      <td>15.493189</td>\n",
       "      <td>6.690597</td>\n",
       "      <td>3.153172</td>\n",
       "      <td>18.467932</td>\n",
       "    </tr>\n",
       "    <tr>\n",
       "      <th>1</th>\n",
       "      <td>1436.0</td>\n",
       "      <td>1112.0</td>\n",
       "      <td>69.855278</td>\n",
       "      <td>24.480532</td>\n",
       "      <td>53.811272</td>\n",
       "      <td>5.963383</td>\n",
       "      <td>16.755914</td>\n",
       "      <td>14.930832</td>\n",
       "      <td>21.279172</td>\n",
       "      <td>10.879975</td>\n",
       "      <td>...</td>\n",
       "      <td>17.556715</td>\n",
       "      <td>16.325509</td>\n",
       "      <td>22.252281</td>\n",
       "      <td>11.423081</td>\n",
       "      <td>25.023546</td>\n",
       "      <td>14.801796</td>\n",
       "      <td>12.812651</td>\n",
       "      <td>6.345888</td>\n",
       "      <td>3.615896</td>\n",
       "      <td>16.994665</td>\n",
       "    </tr>\n",
       "    <tr>\n",
       "      <th>2</th>\n",
       "      <td>1272.0</td>\n",
       "      <td>1113.0</td>\n",
       "      <td>74.907473</td>\n",
       "      <td>26.294729</td>\n",
       "      <td>58.543421</td>\n",
       "      <td>6.600664</td>\n",
       "      <td>19.351685</td>\n",
       "      <td>15.717352</td>\n",
       "      <td>23.277168</td>\n",
       "      <td>12.826705</td>\n",
       "      <td>...</td>\n",
       "      <td>20.337147</td>\n",
       "      <td>14.981736</td>\n",
       "      <td>21.478844</td>\n",
       "      <td>10.385801</td>\n",
       "      <td>23.829096</td>\n",
       "      <td>14.160912</td>\n",
       "      <td>13.034717</td>\n",
       "      <td>6.020814</td>\n",
       "      <td>3.427225</td>\n",
       "      <td>18.325749</td>\n",
       "    </tr>\n",
       "    <tr>\n",
       "      <th>3</th>\n",
       "      <td>1166.0</td>\n",
       "      <td>1141.0</td>\n",
       "      <td>73.853850</td>\n",
       "      <td>25.786073</td>\n",
       "      <td>55.304019</td>\n",
       "      <td>8.163962</td>\n",
       "      <td>21.624711</td>\n",
       "      <td>14.117741</td>\n",
       "      <td>19.608092</td>\n",
       "      <td>9.641230</td>\n",
       "      <td>...</td>\n",
       "      <td>21.995512</td>\n",
       "      <td>14.649615</td>\n",
       "      <td>20.785129</td>\n",
       "      <td>11.083005</td>\n",
       "      <td>21.987842</td>\n",
       "      <td>11.666412</td>\n",
       "      <td>14.050869</td>\n",
       "      <td>6.743972</td>\n",
       "      <td>2.753055</td>\n",
       "      <td>20.340310</td>\n",
       "    </tr>\n",
       "    <tr>\n",
       "      <th>4</th>\n",
       "      <td>1143.0</td>\n",
       "      <td>1301.0</td>\n",
       "      <td>70.866565</td>\n",
       "      <td>25.397341</td>\n",
       "      <td>56.385076</td>\n",
       "      <td>5.714419</td>\n",
       "      <td>16.266095</td>\n",
       "      <td>14.357464</td>\n",
       "      <td>20.499749</td>\n",
       "      <td>10.694625</td>\n",
       "      <td>...</td>\n",
       "      <td>18.742337</td>\n",
       "      <td>14.982759</td>\n",
       "      <td>21.068132</td>\n",
       "      <td>11.159053</td>\n",
       "      <td>24.149595</td>\n",
       "      <td>14.311193</td>\n",
       "      <td>12.886297</td>\n",
       "      <td>6.121473</td>\n",
       "      <td>4.054906</td>\n",
       "      <td>17.563236</td>\n",
       "    </tr>\n",
       "  </tbody>\n",
       "</table>\n",
       "<p>5 rows × 30 columns</p>\n",
       "</div>"
      ],
      "text/plain": [
       "    Team1   Team2  Team1Score   Team1FGM   Team1FGA  Team1FGM3  Team1FGA3  \\\n",
       "0  1421.0  1411.0   70.857116  24.835506  56.434951   6.414692  18.565785   \n",
       "1  1436.0  1112.0   69.855278  24.480532  53.811272   5.963383  16.755914   \n",
       "2  1272.0  1113.0   74.907473  26.294729  58.543421   6.600664  19.351685   \n",
       "3  1166.0  1141.0   73.853850  25.786073  55.304019   8.163962  21.624711   \n",
       "4  1143.0  1301.0   70.866565  25.397341  56.385076   5.714419  16.266095   \n",
       "\n",
       "    Team1FTM   Team1FTA    Team1OR  ...  Team2FGA3   Team2FTM   Team2FTA  \\\n",
       "0  14.771413  20.665618  10.963364  ...  17.683849  15.710680  24.005781   \n",
       "1  14.930832  21.279172  10.879975  ...  17.556715  16.325509  22.252281   \n",
       "2  15.717352  23.277168  12.826705  ...  20.337147  14.981736  21.478844   \n",
       "3  14.117741  19.608092   9.641230  ...  21.995512  14.649615  20.785129   \n",
       "4  14.357464  20.499749  10.694625  ...  18.742337  14.982759  21.068132   \n",
       "\n",
       "     Team2OR    Team2DR   Team2Ast    Team2TO  Team2Stl  Team2Blk    Team2PF  \n",
       "0  11.705997  24.357526  12.123150  15.493189  6.690597  3.153172  18.467932  \n",
       "1  11.423081  25.023546  14.801796  12.812651  6.345888  3.615896  16.994665  \n",
       "2  10.385801  23.829096  14.160912  13.034717  6.020814  3.427225  18.325749  \n",
       "3  11.083005  21.987842  11.666412  14.050869  6.743972  2.753055  20.340310  \n",
       "4  11.159053  24.149595  14.311193  12.886297  6.121473  4.054906  17.563236  \n",
       "\n",
       "[5 rows x 30 columns]"
      ]
     },
     "execution_count": 33,
     "metadata": {},
     "output_type": "execute_result"
    }
   ],
   "source": [
    "df3 = pd.read_csv('matches.csv').dropna()\n",
    "Labels = df3['Win']\n",
    "#df3.drop(df3.columns[0], axis=1, inplace=True)\n",
    "df3.drop(['Win'], axis=1, inplace=True)\n",
    "Features3 = np.array(df3)\n",
    "print(Features3.shape)\n",
    "df3.head()"
   ]
  },
  {
   "cell_type": "code",
   "execution_count": 34,
   "metadata": {},
   "outputs": [
    {
     "name": "stdout",
     "output_type": "stream",
     "text": [
      "(65628, 30)\n"
     ]
    }
   ],
   "source": [
    "X_train5, y_train5, X_test5, y_test5 = split_and_rescale_data(Features3, Labels)"
   ]
  },
  {
   "cell_type": "code",
   "execution_count": 64,
   "metadata": {},
   "outputs": [],
   "source": [
    "tf.random.set_seed(1115)\n",
    "activation_fn = tf.nn.relu\n",
    "inputs = tf.keras.Input(shape=(X_train5.shape[1], ))  # Returns an input placeholder\n",
    "\n",
    "x = tf.keras.layers.Dense(2048, activation=activation_fn)(inputs)\n",
    "x = tf.keras.layers.BatchNormalization()(x)\n",
    "x = tf.keras.layers.Dense(1024, activation=activation_fn)(x)\n",
    "x = tf.keras.layers.BatchNormalization()(x)\n",
    "x = tf.keras.layers.Dense(1024, activation=activation_fn)(x)\n",
    "x = tf.keras.layers.BatchNormalization()(x)\n",
    "x = tf.keras.layers.Dense(1024, activation=activation_fn)(x)\n",
    "x = tf.keras.layers.BatchNormalization()(x)\n",
    "x = tf.keras.layers.Dense(1024, activation=activation_fn)(x)\n",
    "x = tf.keras.layers.Dropout(0.2)(x)\n",
    "outputs = tf.keras.layers.Dense(1, activation=tf.keras.activations.sigmoid)(x)\n",
    "\n",
    "model5 = tf.keras.Model(inputs=inputs, outputs=outputs)\n",
    "\n",
    "model5.compile(optimizer='adam',\n",
    "              loss=tf.keras.losses.BinaryCrossentropy(),\n",
    "              metrics=['accuracy', 'AUC', 'Precision', 'Recall'])"
   ]
  },
  {
   "cell_type": "code",
   "execution_count": 65,
   "metadata": {},
   "outputs": [
    {
     "name": "stdout",
     "output_type": "stream",
     "text": [
      "Train on 52502 samples, validate on 13126 samples\n",
      "Epoch 1/100\n",
      "52502/52502 [==============================] - 47s 902us/sample - loss: 0.6891 - accuracy: 0.6185 - AUC: 0.6636 - Precision: 0.6170 - Recall: 0.6172 - val_loss: 0.6459 - val_accuracy: 0.6103 - val_AUC: 0.6864 - val_Precision: 0.5760 - val_Recall: 0.8542\n",
      "Epoch 2/100\n",
      "52502/52502 [==============================] - 47s 900us/sample - loss: 0.6306 - accuracy: 0.6431 - AUC: 0.7003 - Precision: 0.6434 - Recall: 0.6361 - val_loss: 0.6203 - val_accuracy: 0.6496 - val_AUC: 0.7160 - val_Precision: 0.6865 - val_Recall: 0.5586\n",
      "Epoch 3/100\n",
      "52502/52502 [==============================] - 46s 871us/sample - loss: 0.6260 - accuracy: 0.6486 - AUC: 0.7053 - Precision: 0.6432 - Recall: 0.6617 - val_loss: 0.6273 - val_accuracy: 0.6347 - val_AUC: 0.7179 - val_Precision: 0.5983 - val_Recall: 0.8337\n",
      "Epoch 4/100\n",
      "52502/52502 [==============================] - 46s 871us/sample - loss: 0.6235 - accuracy: 0.6497 - AUC: 0.7086 - Precision: 0.6460 - Recall: 0.6566 - val_loss: 0.6187 - val_accuracy: 0.6439 - val_AUC: 0.7205 - val_Precision: 0.7171 - val_Recall: 0.4826\n",
      "Epoch 5/100\n",
      "52502/52502 [==============================] - 46s 873us/sample - loss: 0.6228 - accuracy: 0.6510 - AUC: 0.7088 - Precision: 0.6495 - Recall: 0.6503 - val_loss: 0.6107 - val_accuracy: 0.6547 - val_AUC: 0.7203 - val_Precision: 0.6497 - val_Recall: 0.6806\n",
      "Epoch 6/100\n",
      "52502/52502 [==============================] - 46s 877us/sample - loss: 0.6214 - accuracy: 0.6504 - AUC: 0.7106 - Precision: 0.6505 - Recall: 0.6443 - val_loss: 0.6453 - val_accuracy: 0.6339 - val_AUC: 0.7198 - val_Precision: 0.7312 - val_Recall: 0.4308\n",
      "Epoch 7/100\n",
      "52502/52502 [==============================] - 46s 879us/sample - loss: 0.6204 - accuracy: 0.6501 - AUC: 0.7117 - Precision: 0.6513 - Recall: 0.6402 - val_loss: 0.6308 - val_accuracy: 0.6438 - val_AUC: 0.7145 - val_Precision: 0.6922 - val_Recall: 0.5259\n",
      "Epoch 8/100\n",
      "52502/52502 [==============================] - 47s 894us/sample - loss: 0.6204 - accuracy: 0.6523 - AUC: 0.7115 - Precision: 0.6520 - Recall: 0.6473 - val_loss: 0.6220 - val_accuracy: 0.6518 - val_AUC: 0.7209 - val_Precision: 0.6827 - val_Recall: 0.5753\n"
     ]
    },
    {
     "data": {
      "text/plain": [
       "<tensorflow.python.keras.callbacks.History at 0x1a721e80f0>"
      ]
     },
     "execution_count": 65,
     "metadata": {},
     "output_type": "execute_result"
    }
   ],
   "source": [
    "callback = [tf.keras.callbacks.EarlyStopping(monitor='val_loss', patience=3)]\n",
    "model5.fit(X_train5, y_train5, epochs=100, validation_split=0.2, callbacks=callback)"
   ]
  },
  {
   "cell_type": "code",
   "execution_count": 66,
   "metadata": {},
   "outputs": [
    {
     "name": "stdout",
     "output_type": "stream",
     "text": [
      "65628/1 - 11s - loss: 0.6144 - accuracy: 0.6523 - AUC: 0.7216 - Precision: 0.6788 - Recall: 0.5758\n"
     ]
    },
    {
     "data": {
      "text/plain": [
       "[0.6209212286443112, 0.65228254, 0.7216066, 0.67877066, 0.5758205]"
      ]
     },
     "execution_count": 66,
     "metadata": {},
     "output_type": "execute_result"
    }
   ],
   "source": [
    "# Prediction on training\n",
    "model5.evaluate(X_train5, y_train5, verbose=2)"
   ]
  },
  {
   "cell_type": "code",
   "execution_count": 67,
   "metadata": {},
   "outputs": [
    {
     "name": "stdout",
     "output_type": "stream",
     "text": [
      "21876/1 - 4s - loss: 0.6292 - accuracy: 0.6532 - AUC: 0.7217 - Precision: 0.6819 - Recall: 0.5758\n"
     ]
    },
    {
     "data": {
      "text/plain": [
       "[0.6214546585109164, 0.65322727, 0.7217171, 0.6818821, 0.57576036]"
      ]
     },
     "execution_count": 67,
     "metadata": {},
     "output_type": "execute_result"
    }
   ],
   "source": [
    "# Prediction on test\n",
    "model5.evaluate(X_test5,  y_test5, verbose=2)"
   ]
  },
  {
   "cell_type": "code",
   "execution_count": 68,
   "metadata": {},
   "outputs": [
    {
     "name": "stdout",
     "output_type": "stream",
     "text": [
      "Model: \"model_9\"\n",
      "_________________________________________________________________\n",
      "Layer (type)                 Output Shape              Param #   \n",
      "=================================================================\n",
      "input_10 (InputLayer)        [(None, 30)]              0         \n",
      "_________________________________________________________________\n",
      "dense_46 (Dense)             (None, 2048)              63488     \n",
      "_________________________________________________________________\n",
      "batch_normalization_20 (Batc (None, 2048)              8192      \n",
      "_________________________________________________________________\n",
      "dense_47 (Dense)             (None, 1024)              2098176   \n",
      "_________________________________________________________________\n",
      "batch_normalization_21 (Batc (None, 1024)              4096      \n",
      "_________________________________________________________________\n",
      "dense_48 (Dense)             (None, 1024)              1049600   \n",
      "_________________________________________________________________\n",
      "batch_normalization_22 (Batc (None, 1024)              4096      \n",
      "_________________________________________________________________\n",
      "dense_49 (Dense)             (None, 1024)              1049600   \n",
      "_________________________________________________________________\n",
      "batch_normalization_23 (Batc (None, 1024)              4096      \n",
      "_________________________________________________________________\n",
      "dense_50 (Dense)             (None, 1024)              1049600   \n",
      "_________________________________________________________________\n",
      "dropout_9 (Dropout)          (None, 1024)              0         \n",
      "_________________________________________________________________\n",
      "dense_51 (Dense)             (None, 1)                 1025      \n",
      "=================================================================\n",
      "Total params: 5,331,969\n",
      "Trainable params: 5,321,729\n",
      "Non-trainable params: 10,240\n",
      "_________________________________________________________________\n"
     ]
    }
   ],
   "source": [
    "model5.summary()"
   ]
  },
  {
   "cell_type": "markdown",
   "metadata": {},
   "source": [
    "# Modeel6: Team ID and Scores Unbinned"
   ]
  },
  {
   "cell_type": "code",
   "execution_count": 40,
   "metadata": {},
   "outputs": [
    {
     "name": "stdout",
     "output_type": "stream",
     "text": [
      "(65628, 4)\n"
     ]
    }
   ],
   "source": [
    "Features4 = np.array(df3[['Team1', 'Team2', 'Team1Score', 'Team2Score']])#, 'Team1FGM', 'Team1FGA', 'Team2FGM', 'Team2FGA']])\n",
    "X_train6, y_train6, X_test6, y_test6 = split_and_rescale_data(Features4, Labels)"
   ]
  },
  {
   "cell_type": "code",
   "execution_count": 41,
   "metadata": {},
   "outputs": [],
   "source": [
    "tf.random.set_seed(1115)\n",
    "activation_fn = tf.nn.relu\n",
    "inputs = tf.keras.Input(shape=(X_train6.shape[1], ))  # Returns an input placeholder\n",
    "\n",
    "x = tf.keras.layers.Dense(1024, activation=activation_fn)(inputs)\n",
    "x = tf.keras.layers.Dense(512, activation=activation_fn)(x)\n",
    "x = tf.keras.layers.Dense(1024, activation=activation_fn)(x)\n",
    "x = tf.keras.layers.Dropout(0.2)(x)\n",
    "outputs = tf.keras.layers.Dense(1, activation=tf.keras.activations.sigmoid)(x)\n",
    "\n",
    "model6 = tf.keras.Model(inputs=inputs, outputs=outputs)\n",
    "\n",
    "model6.compile(optimizer='adam',\n",
    "              loss=tf.keras.losses.BinaryCrossentropy(),\n",
    "              metrics=['accuracy', 'AUC', 'Precision', 'Recall'])"
   ]
  },
  {
   "cell_type": "code",
   "execution_count": 42,
   "metadata": {},
   "outputs": [
    {
     "name": "stdout",
     "output_type": "stream",
     "text": [
      "Train on 52502 samples, validate on 13126 samples\n",
      "Epoch 1/100\n",
      "52502/52502 [==============================] - 13s 255us/sample - loss: 0.6632 - accuracy: 0.5967 - AUC: 0.6370 - Precision: 0.5932 - Recall: 0.6055 - val_loss: 0.6514 - val_accuracy: 0.6117 - val_AUC: 0.6607 - val_Precision: 0.6156 - val_Recall: 0.6075\n",
      "Epoch 2/100\n",
      "52502/52502 [==============================] - 12s 235us/sample - loss: 0.6602 - accuracy: 0.6015 - AUC: 0.6434 - Precision: 0.6044 - Recall: 0.5789 - val_loss: 0.6537 - val_accuracy: 0.6103 - val_AUC: 0.6596 - val_Precision: 0.6175 - val_Recall: 0.5925\n",
      "Epoch 3/100\n",
      "52502/52502 [==============================] - 12s 236us/sample - loss: 0.6594 - accuracy: 0.6014 - AUC: 0.6445 - Precision: 0.6010 - Recall: 0.5940 - val_loss: 0.6577 - val_accuracy: 0.6137 - val_AUC: 0.6596 - val_Precision: 0.6125 - val_Recall: 0.6320\n",
      "Epoch 4/100\n",
      "52502/52502 [==============================] - 12s 236us/sample - loss: 0.6589 - accuracy: 0.6026 - AUC: 0.6450 - Precision: 0.6048 - Recall: 0.5834 - val_loss: 0.6543 - val_accuracy: 0.6070 - val_AUC: 0.6595 - val_Precision: 0.6444 - val_Recall: 0.4886\n"
     ]
    },
    {
     "data": {
      "text/plain": [
       "<tensorflow.python.keras.callbacks.History at 0x1a5f06c0f0>"
      ]
     },
     "execution_count": 42,
     "metadata": {},
     "output_type": "execute_result"
    }
   ],
   "source": [
    "callback = [tf.keras.callbacks.EarlyStopping(monitor='val_loss', patience=3)]\n",
    "model6.fit(X_train6, y_train6, epochs=100, validation_split=0.2, callbacks=callback)"
   ]
  },
  {
   "cell_type": "code",
   "execution_count": 43,
   "metadata": {},
   "outputs": [
    {
     "name": "stdout",
     "output_type": "stream",
     "text": [
      "65628/1 - 6s - loss: 0.6584 - accuracy: 0.6015 - AUC: 0.6512 - Precision: 0.6316 - Recall: 0.4837\n"
     ]
    },
    {
     "data": {
      "text/plain": [
       "[0.6572127004765996, 0.60149634, 0.6511786, 0.6315873, 0.4837124]"
      ]
     },
     "execution_count": 43,
     "metadata": {},
     "output_type": "execute_result"
    }
   ],
   "source": [
    "# Prediction on training\n",
    "model6.evaluate(X_train6, y_train6, verbose=2)"
   ]
  },
  {
   "cell_type": "code",
   "execution_count": 44,
   "metadata": {},
   "outputs": [
    {
     "name": "stdout",
     "output_type": "stream",
     "text": [
      "21876/1 - 2s - loss: 0.6585 - accuracy: 0.5998 - AUC: 0.6505 - Precision: 0.6310 - Recall: 0.4828\n"
     ]
    },
    {
     "data": {
      "text/plain": [
       "[0.6574800712335566, 0.59983546, 0.6505113, 0.6310135, 0.48278382]"
      ]
     },
     "execution_count": 44,
     "metadata": {},
     "output_type": "execute_result"
    }
   ],
   "source": [
    "# Prediction on test\n",
    "model6.evaluate(X_test6,  y_test6, verbose=2)"
   ]
  },
  {
   "cell_type": "code",
   "execution_count": 45,
   "metadata": {},
   "outputs": [
    {
     "name": "stdout",
     "output_type": "stream",
     "text": [
      "Model: \"model_5\"\n",
      "_________________________________________________________________\n",
      "Layer (type)                 Output Shape              Param #   \n",
      "=================================================================\n",
      "input_6 (InputLayer)         [(None, 4)]               0         \n",
      "_________________________________________________________________\n",
      "dense_24 (Dense)             (None, 1024)              5120      \n",
      "_________________________________________________________________\n",
      "dense_25 (Dense)             (None, 512)               524800    \n",
      "_________________________________________________________________\n",
      "dense_26 (Dense)             (None, 1024)              525312    \n",
      "_________________________________________________________________\n",
      "dropout_5 (Dropout)          (None, 1024)              0         \n",
      "_________________________________________________________________\n",
      "dense_27 (Dense)             (None, 1)                 1025      \n",
      "=================================================================\n",
      "Total params: 1,056,257\n",
      "Trainable params: 1,056,257\n",
      "Non-trainable params: 0\n",
      "_________________________________________________________________\n"
     ]
    }
   ],
   "source": [
    "model6.summary()"
   ]
  },
  {
   "cell_type": "markdown",
   "metadata": {},
   "source": [
    "# Model6: All Features, Unbinned with L1 Regularization"
   ]
  },
  {
   "cell_type": "code",
   "execution_count": 3,
   "metadata": {},
   "outputs": [
    {
     "name": "stdout",
     "output_type": "stream",
     "text": [
      "(87504, 30)\n"
     ]
    },
    {
     "data": {
      "text/html": [
       "<div>\n",
       "<style scoped>\n",
       "    .dataframe tbody tr th:only-of-type {\n",
       "        vertical-align: middle;\n",
       "    }\n",
       "\n",
       "    .dataframe tbody tr th {\n",
       "        vertical-align: top;\n",
       "    }\n",
       "\n",
       "    .dataframe thead th {\n",
       "        text-align: right;\n",
       "    }\n",
       "</style>\n",
       "<table border=\"1\" class=\"dataframe\">\n",
       "  <thead>\n",
       "    <tr style=\"text-align: right;\">\n",
       "      <th></th>\n",
       "      <th>Team1</th>\n",
       "      <th>Team2</th>\n",
       "      <th>Team1Score</th>\n",
       "      <th>Team1FGM</th>\n",
       "      <th>Team1FGA</th>\n",
       "      <th>Team1FGM3</th>\n",
       "      <th>Team1FGA3</th>\n",
       "      <th>Team1FTM</th>\n",
       "      <th>Team1FTA</th>\n",
       "      <th>Team1OR</th>\n",
       "      <th>...</th>\n",
       "      <th>Team2FGA3</th>\n",
       "      <th>Team2FTM</th>\n",
       "      <th>Team2FTA</th>\n",
       "      <th>Team2OR</th>\n",
       "      <th>Team2DR</th>\n",
       "      <th>Team2Ast</th>\n",
       "      <th>Team2TO</th>\n",
       "      <th>Team2Stl</th>\n",
       "      <th>Team2Blk</th>\n",
       "      <th>Team2PF</th>\n",
       "    </tr>\n",
       "  </thead>\n",
       "  <tbody>\n",
       "    <tr>\n",
       "      <th>0</th>\n",
       "      <td>1421.0</td>\n",
       "      <td>1411.0</td>\n",
       "      <td>70.857116</td>\n",
       "      <td>24.835506</td>\n",
       "      <td>56.434951</td>\n",
       "      <td>6.414692</td>\n",
       "      <td>18.565785</td>\n",
       "      <td>14.771413</td>\n",
       "      <td>20.665618</td>\n",
       "      <td>10.963364</td>\n",
       "      <td>...</td>\n",
       "      <td>17.683849</td>\n",
       "      <td>15.710680</td>\n",
       "      <td>24.005781</td>\n",
       "      <td>11.705997</td>\n",
       "      <td>24.357526</td>\n",
       "      <td>12.123150</td>\n",
       "      <td>15.493189</td>\n",
       "      <td>6.690597</td>\n",
       "      <td>3.153172</td>\n",
       "      <td>18.467932</td>\n",
       "    </tr>\n",
       "    <tr>\n",
       "      <th>1</th>\n",
       "      <td>1436.0</td>\n",
       "      <td>1112.0</td>\n",
       "      <td>69.855278</td>\n",
       "      <td>24.480532</td>\n",
       "      <td>53.811272</td>\n",
       "      <td>5.963383</td>\n",
       "      <td>16.755914</td>\n",
       "      <td>14.930832</td>\n",
       "      <td>21.279172</td>\n",
       "      <td>10.879975</td>\n",
       "      <td>...</td>\n",
       "      <td>17.556715</td>\n",
       "      <td>16.325509</td>\n",
       "      <td>22.252281</td>\n",
       "      <td>11.423081</td>\n",
       "      <td>25.023546</td>\n",
       "      <td>14.801796</td>\n",
       "      <td>12.812651</td>\n",
       "      <td>6.345888</td>\n",
       "      <td>3.615896</td>\n",
       "      <td>16.994665</td>\n",
       "    </tr>\n",
       "    <tr>\n",
       "      <th>2</th>\n",
       "      <td>1272.0</td>\n",
       "      <td>1113.0</td>\n",
       "      <td>74.907473</td>\n",
       "      <td>26.294729</td>\n",
       "      <td>58.543421</td>\n",
       "      <td>6.600664</td>\n",
       "      <td>19.351685</td>\n",
       "      <td>15.717352</td>\n",
       "      <td>23.277168</td>\n",
       "      <td>12.826705</td>\n",
       "      <td>...</td>\n",
       "      <td>20.337147</td>\n",
       "      <td>14.981736</td>\n",
       "      <td>21.478844</td>\n",
       "      <td>10.385801</td>\n",
       "      <td>23.829096</td>\n",
       "      <td>14.160912</td>\n",
       "      <td>13.034717</td>\n",
       "      <td>6.020814</td>\n",
       "      <td>3.427225</td>\n",
       "      <td>18.325749</td>\n",
       "    </tr>\n",
       "    <tr>\n",
       "      <th>3</th>\n",
       "      <td>1166.0</td>\n",
       "      <td>1141.0</td>\n",
       "      <td>73.853850</td>\n",
       "      <td>25.786073</td>\n",
       "      <td>55.304019</td>\n",
       "      <td>8.163962</td>\n",
       "      <td>21.624711</td>\n",
       "      <td>14.117741</td>\n",
       "      <td>19.608092</td>\n",
       "      <td>9.641230</td>\n",
       "      <td>...</td>\n",
       "      <td>21.995512</td>\n",
       "      <td>14.649615</td>\n",
       "      <td>20.785129</td>\n",
       "      <td>11.083005</td>\n",
       "      <td>21.987842</td>\n",
       "      <td>11.666412</td>\n",
       "      <td>14.050869</td>\n",
       "      <td>6.743972</td>\n",
       "      <td>2.753055</td>\n",
       "      <td>20.340310</td>\n",
       "    </tr>\n",
       "    <tr>\n",
       "      <th>4</th>\n",
       "      <td>1143.0</td>\n",
       "      <td>1301.0</td>\n",
       "      <td>70.866565</td>\n",
       "      <td>25.397341</td>\n",
       "      <td>56.385076</td>\n",
       "      <td>5.714419</td>\n",
       "      <td>16.266095</td>\n",
       "      <td>14.357464</td>\n",
       "      <td>20.499749</td>\n",
       "      <td>10.694625</td>\n",
       "      <td>...</td>\n",
       "      <td>18.742337</td>\n",
       "      <td>14.982759</td>\n",
       "      <td>21.068132</td>\n",
       "      <td>11.159053</td>\n",
       "      <td>24.149595</td>\n",
       "      <td>14.311193</td>\n",
       "      <td>12.886297</td>\n",
       "      <td>6.121473</td>\n",
       "      <td>4.054906</td>\n",
       "      <td>17.563236</td>\n",
       "    </tr>\n",
       "  </tbody>\n",
       "</table>\n",
       "<p>5 rows × 30 columns</p>\n",
       "</div>"
      ],
      "text/plain": [
       "    Team1   Team2  Team1Score   Team1FGM   Team1FGA  Team1FGM3  Team1FGA3  \\\n",
       "0  1421.0  1411.0   70.857116  24.835506  56.434951   6.414692  18.565785   \n",
       "1  1436.0  1112.0   69.855278  24.480532  53.811272   5.963383  16.755914   \n",
       "2  1272.0  1113.0   74.907473  26.294729  58.543421   6.600664  19.351685   \n",
       "3  1166.0  1141.0   73.853850  25.786073  55.304019   8.163962  21.624711   \n",
       "4  1143.0  1301.0   70.866565  25.397341  56.385076   5.714419  16.266095   \n",
       "\n",
       "    Team1FTM   Team1FTA    Team1OR  ...  Team2FGA3   Team2FTM   Team2FTA  \\\n",
       "0  14.771413  20.665618  10.963364  ...  17.683849  15.710680  24.005781   \n",
       "1  14.930832  21.279172  10.879975  ...  17.556715  16.325509  22.252281   \n",
       "2  15.717352  23.277168  12.826705  ...  20.337147  14.981736  21.478844   \n",
       "3  14.117741  19.608092   9.641230  ...  21.995512  14.649615  20.785129   \n",
       "4  14.357464  20.499749  10.694625  ...  18.742337  14.982759  21.068132   \n",
       "\n",
       "     Team2OR    Team2DR   Team2Ast    Team2TO  Team2Stl  Team2Blk    Team2PF  \n",
       "0  11.705997  24.357526  12.123150  15.493189  6.690597  3.153172  18.467932  \n",
       "1  11.423081  25.023546  14.801796  12.812651  6.345888  3.615896  16.994665  \n",
       "2  10.385801  23.829096  14.160912  13.034717  6.020814  3.427225  18.325749  \n",
       "3  11.083005  21.987842  11.666412  14.050869  6.743972  2.753055  20.340310  \n",
       "4  11.159053  24.149595  14.311193  12.886297  6.121473  4.054906  17.563236  \n",
       "\n",
       "[5 rows x 30 columns]"
      ]
     },
     "execution_count": 3,
     "metadata": {},
     "output_type": "execute_result"
    }
   ],
   "source": [
    "df4 = pd.read_csv('matches.csv').dropna()\n",
    "Labels = df4['Win']\n",
    "#df3.drop(df3.columns[0], axis=1, inplace=True)\n",
    "df4.drop(['Win'], axis=1, inplace=True)\n",
    "Features4 = np.array(df4)\n",
    "print(Features4.shape)\n",
    "df4.head()"
   ]
  },
  {
   "cell_type": "code",
   "execution_count": 70,
   "metadata": {},
   "outputs": [
    {
     "name": "stdout",
     "output_type": "stream",
     "text": [
      "(65628, 30)\n"
     ]
    }
   ],
   "source": [
    "X_train6, y_train6, X_test6, y_test6 = split_and_rescale_data(Features4, Labels)"
   ]
  },
  {
   "cell_type": "code",
   "execution_count": 76,
   "metadata": {},
   "outputs": [],
   "source": [
    "tf.random.set_seed(1115)\n",
    "activation_fn = tf.nn.relu\n",
    "regularization_fn = tf.keras.regularizers.l1\n",
    "regularization_rate=1e-6\n",
    "inputs = tf.keras.Input(shape=(X_train6.shape[1], ))  # Returns an input placeholder\n",
    "\n",
    "x = tf.keras.layers.Dense(2048, activation=activation_fn, kernel_regularizer=regularization_fn(regularization_rate))(inputs)\n",
    "x = tf.keras.layers.BatchNormalization()(x)\n",
    "x = tf.keras.layers.Dense(1024, activation=activation_fn, kernel_regularizer=regularization_fn(regularization_rate))(x)\n",
    "x = tf.keras.layers.BatchNormalization()(x)\n",
    "x = tf.keras.layers.Dense(1024, activation=activation_fn, kernel_regularizer=regularization_fn(regularization_rate))(x)\n",
    "x = tf.keras.layers.BatchNormalization()(x)\n",
    "x = tf.keras.layers.Dense(1024, activation=activation_fn, kernel_regularizer=regularization_fn(regularization_rate))(x)\n",
    "x = tf.keras.layers.BatchNormalization()(x)\n",
    "x = tf.keras.layers.Dense(1024, activation=activation_fn, kernel_regularizer=regularization_fn(regularization_rate))(x)\n",
    "x = tf.keras.layers.Dropout(0.2)(x)\n",
    "outputs = tf.keras.layers.Dense(1, activation=tf.keras.activations.sigmoid)(x)\n",
    "\n",
    "model6 = tf.keras.Model(inputs=inputs, outputs=outputs)\n",
    "\n",
    "model6.compile(optimizer='adam',\n",
    "              loss=tf.keras.losses.BinaryCrossentropy(),\n",
    "              metrics=['accuracy', 'AUC', 'Precision', 'Recall'])"
   ]
  },
  {
   "cell_type": "code",
   "execution_count": 77,
   "metadata": {},
   "outputs": [
    {
     "name": "stdout",
     "output_type": "stream",
     "text": [
      "Train on 52502 samples, validate on 13126 samples\n",
      "Epoch 1/100\n",
      "52502/52502 [==============================] - 66s 1ms/sample - loss: 0.8092 - accuracy: 0.6216 - AUC: 0.6669 - Precision: 0.6205 - Recall: 0.6186 - val_loss: 0.7497 - val_accuracy: 0.6338 - val_AUC: 0.6995 - val_Precision: 0.6840 - val_Recall: 0.5058\n",
      "Epoch 2/100\n",
      "52502/52502 [==============================] - 63s 1ms/sample - loss: 0.7279 - accuracy: 0.6432 - AUC: 0.6992 - Precision: 0.6408 - Recall: 0.6453 - val_loss: 0.7129 - val_accuracy: 0.6207 - val_AUC: 0.7135 - val_Precision: 0.7559 - val_Recall: 0.3634\n",
      "Epoch 3/100\n",
      "52502/52502 [==============================] - 64s 1ms/sample - loss: 0.6885 - accuracy: 0.6458 - AUC: 0.7038 - Precision: 0.6422 - Recall: 0.6524 - val_loss: 0.6742 - val_accuracy: 0.5955 - val_AUC: 0.7158 - val_Precision: 0.5587 - val_Recall: 0.9326\n",
      "Epoch 4/100\n",
      "52502/52502 [==============================] - 63s 1ms/sample - loss: 0.6564 - accuracy: 0.6439 - AUC: 0.7037 - Precision: 0.6423 - Recall: 0.6436 - val_loss: 0.6374 - val_accuracy: 0.6512 - val_AUC: 0.7202 - val_Precision: 0.6623 - val_Recall: 0.6258\n",
      "Epoch 5/100\n",
      "52502/52502 [==============================] - 61s 1ms/sample - loss: 0.6438 - accuracy: 0.6479 - AUC: 0.7047 - Precision: 0.6480 - Recall: 0.6418 - val_loss: 0.6501 - val_accuracy: 0.6177 - val_AUC: 0.7157 - val_Precision: 0.5783 - val_Recall: 0.8870\n",
      "Epoch 6/100\n",
      "52502/52502 [==============================] - 62s 1ms/sample - loss: 0.6384 - accuracy: 0.6462 - AUC: 0.7073 - Precision: 0.6489 - Recall: 0.6313 - val_loss: 0.6334 - val_accuracy: 0.6516 - val_AUC: 0.7204 - val_Precision: 0.6898 - val_Recall: 0.5589\n",
      "Epoch 7/100\n",
      "52502/52502 [==============================] - 62s 1ms/sample - loss: 0.6355 - accuracy: 0.6494 - AUC: 0.7094 - Precision: 0.6498 - Recall: 0.6423 - val_loss: 0.7434 - val_accuracy: 0.6219 - val_AUC: 0.7132 - val_Precision: 0.7268 - val_Recall: 0.3981\n",
      "Epoch 8/100\n",
      "52502/52502 [==============================] - 62s 1ms/sample - loss: 0.6343 - accuracy: 0.6523 - AUC: 0.7102 - Precision: 0.6525 - Recall: 0.6459 - val_loss: 0.6302 - val_accuracy: 0.6355 - val_AUC: 0.7197 - val_Precision: 0.7293 - val_Recall: 0.4382\n",
      "Epoch 9/100\n",
      "52502/52502 [==============================] - 62s 1ms/sample - loss: 0.6315 - accuracy: 0.6510 - AUC: 0.7113 - Precision: 0.6546 - Recall: 0.6337 - val_loss: 0.6196 - val_accuracy: 0.6537 - val_AUC: 0.7211 - val_Precision: 0.6507 - val_Recall: 0.6726\n",
      "Epoch 10/100\n",
      "52502/52502 [==============================] - 62s 1ms/sample - loss: 0.6291 - accuracy: 0.6492 - AUC: 0.7115 - Precision: 0.6490 - Recall: 0.6440 - val_loss: 0.6176 - val_accuracy: 0.6576 - val_AUC: 0.7224 - val_Precision: 0.6499 - val_Recall: 0.6928\n",
      "Epoch 11/100\n",
      "52502/52502 [==============================] - 62s 1ms/sample - loss: 0.6282 - accuracy: 0.6496 - AUC: 0.7116 - Precision: 0.6543 - Recall: 0.6286 - val_loss: 0.6192 - val_accuracy: 0.6509 - val_AUC: 0.7217 - val_Precision: 0.6802 - val_Recall: 0.5778\n",
      "Epoch 12/100\n",
      "52502/52502 [==============================] - 62s 1ms/sample - loss: 0.6266 - accuracy: 0.6514 - AUC: 0.7125 - Precision: 0.6536 - Recall: 0.6386 - val_loss: 0.6284 - val_accuracy: 0.6563 - val_AUC: 0.7220 - val_Precision: 0.6480 - val_Recall: 0.6938\n",
      "Epoch 13/100\n",
      "52502/52502 [==============================] - 61s 1ms/sample - loss: 0.6258 - accuracy: 0.6513 - AUC: 0.7129 - Precision: 0.6567 - Recall: 0.6285 - val_loss: 0.6283 - val_accuracy: 0.6567 - val_AUC: 0.7215 - val_Precision: 0.6454 - val_Recall: 0.7050\n"
     ]
    },
    {
     "data": {
      "text/plain": [
       "<tensorflow.python.keras.callbacks.History at 0x1a7edb1c50>"
      ]
     },
     "execution_count": 77,
     "metadata": {},
     "output_type": "execute_result"
    }
   ],
   "source": [
    "callback = [tf.keras.callbacks.EarlyStopping(monitor='val_loss', patience=3)]\n",
    "model6.fit(X_train6, y_train6, epochs=100, validation_split=0.2, callbacks=callback)"
   ]
  },
  {
   "cell_type": "code",
   "execution_count": 78,
   "metadata": {},
   "outputs": [
    {
     "name": "stdout",
     "output_type": "stream",
     "text": [
      "65628/1 - 18s - loss: 0.6191 - accuracy: 0.6552 - AUC: 0.7214 - Precision: 0.6410 - Recall: 0.7027\n"
     ]
    },
    {
     "data": {
      "text/plain": [
       "[0.628824746204758, 0.6552082, 0.7213898, 0.64102495, 0.70267135]"
      ]
     },
     "execution_count": 78,
     "metadata": {},
     "output_type": "execute_result"
    }
   ],
   "source": [
    "# Prediction on training\n",
    "model6.evaluate(X_train6, y_train6, verbose=2)"
   ]
  },
  {
   "cell_type": "code",
   "execution_count": 79,
   "metadata": {},
   "outputs": [
    {
     "name": "stdout",
     "output_type": "stream",
     "text": [
      "21876/1 - 6s - loss: 0.6057 - accuracy: 0.6533 - AUC: 0.7197 - Precision: 0.6398 - Recall: 0.7033\n"
     ]
    },
    {
     "data": {
      "text/plain": [
       "[0.6295277572545693, 0.6533187, 0.7196746, 0.6398006, 0.7032606]"
      ]
     },
     "execution_count": 79,
     "metadata": {},
     "output_type": "execute_result"
    }
   ],
   "source": [
    "# Prediction on test\n",
    "model6.evaluate(X_test6,  y_test6, verbose=2)"
   ]
  },
  {
   "cell_type": "code",
   "execution_count": 80,
   "metadata": {},
   "outputs": [
    {
     "name": "stdout",
     "output_type": "stream",
     "text": [
      "Model: \"model_11\"\n",
      "_________________________________________________________________\n",
      "Layer (type)                 Output Shape              Param #   \n",
      "=================================================================\n",
      "input_12 (InputLayer)        [(None, 30)]              0         \n",
      "_________________________________________________________________\n",
      "dense_58 (Dense)             (None, 2048)              63488     \n",
      "_________________________________________________________________\n",
      "batch_normalization_28 (Batc (None, 2048)              8192      \n",
      "_________________________________________________________________\n",
      "dense_59 (Dense)             (None, 1024)              2098176   \n",
      "_________________________________________________________________\n",
      "batch_normalization_29 (Batc (None, 1024)              4096      \n",
      "_________________________________________________________________\n",
      "dense_60 (Dense)             (None, 1024)              1049600   \n",
      "_________________________________________________________________\n",
      "batch_normalization_30 (Batc (None, 1024)              4096      \n",
      "_________________________________________________________________\n",
      "dense_61 (Dense)             (None, 1024)              1049600   \n",
      "_________________________________________________________________\n",
      "batch_normalization_31 (Batc (None, 1024)              4096      \n",
      "_________________________________________________________________\n",
      "dense_62 (Dense)             (None, 1024)              1049600   \n",
      "_________________________________________________________________\n",
      "dropout_11 (Dropout)         (None, 1024)              0         \n",
      "_________________________________________________________________\n",
      "dense_63 (Dense)             (None, 1)                 1025      \n",
      "=================================================================\n",
      "Total params: 5,331,969\n",
      "Trainable params: 5,321,729\n",
      "Non-trainable params: 10,240\n",
      "_________________________________________________________________\n"
     ]
    }
   ],
   "source": [
    "model6.summary()"
   ]
  },
  {
   "cell_type": "markdown",
   "metadata": {},
   "source": [
    "# Model7: Unbinned Features selected by PCA"
   ]
  },
  {
   "cell_type": "code",
   "execution_count": 4,
   "metadata": {},
   "outputs": [
    {
     "name": "stdout",
     "output_type": "stream",
     "text": [
      "(65628, 20)\n"
     ]
    }
   ],
   "source": [
    "Features5 = np.array(df4[['Team1', 'Team2', 'Team1Score', 'Team1FGM', 'Team1FGA', 'Team1FGM3', 'Team1FGA3', 'Team1FTM', 'Team1FTA', 'Team1OR', 'Team1DR', \n",
    "                        'Team2Score', 'Team2FGM', 'Team2FGA', 'Team2FGM3', 'Team2FGA3', 'Team2FTM', 'Team2FTA', 'Team2OR', 'Team2DR']])\n",
    "X_train7, y_train7, X_test7, y_test7 = split_and_rescale_data(Features5, Labels)"
   ]
  },
  {
   "cell_type": "code",
   "execution_count": 85,
   "metadata": {},
   "outputs": [],
   "source": [
    "tf.random.set_seed(1115)\n",
    "activation_fn = tf.nn.relu\n",
    "inputs = tf.keras.Input(shape=(X_train7.shape[1], ))  # Returns an input placeholder\n",
    "\n",
    "x = tf.keras.layers.Dense(256, activation=activation_fn)(inputs)\n",
    "x = tf.keras.layers.BatchNormalization()(x)\n",
    "x = tf.keras.layers.Dense(256, activation=activation_fn)(x)\n",
    "x = tf.keras.layers.Dropout(0.2)(x)\n",
    "outputs = tf.keras.layers.Dense(1, activation=tf.keras.activations.sigmoid)(x)\n",
    "\n",
    "model7 = tf.keras.Model(inputs=inputs, outputs=outputs)\n",
    "\n",
    "model7.compile(optimizer='adam',\n",
    "              loss=tf.keras.losses.BinaryCrossentropy(),\n",
    "              metrics=['accuracy', 'AUC', 'Precision', 'Recall'])"
   ]
  },
  {
   "cell_type": "code",
   "execution_count": 86,
   "metadata": {},
   "outputs": [
    {
     "name": "stdout",
     "output_type": "stream",
     "text": [
      "Train on 52502 samples, validate on 13126 samples\n",
      "Epoch 1/100\n",
      "52502/52502 [==============================] - 6s 110us/sample - loss: 0.6503 - accuracy: 0.6177 - AUC: 0.6668 - Precision: 0.6157 - Recall: 0.6185 - val_loss: 0.6397 - val_accuracy: 0.6243 - val_AUC: 0.6860 - val_Precision: 0.6595 - val_Recall: 0.5236\n",
      "Epoch 2/100\n",
      "52502/52502 [==============================] - 4s 76us/sample - loss: 0.6365 - accuracy: 0.6304 - AUC: 0.6845 - Precision: 0.6290 - Recall: 0.6290 - val_loss: 0.6415 - val_accuracy: 0.6267 - val_AUC: 0.6893 - val_Precision: 0.6920 - val_Recall: 0.4650\n",
      "Epoch 3/100\n",
      "52502/52502 [==============================] - 4s 75us/sample - loss: 0.6357 - accuracy: 0.6301 - AUC: 0.6860 - Precision: 0.6276 - Recall: 0.6332 - val_loss: 0.6607 - val_accuracy: 0.5977 - val_AUC: 0.6874 - val_Precision: 0.5642 - val_Recall: 0.8810\n",
      "Epoch 4/100\n",
      "52502/52502 [==============================] - 4s 73us/sample - loss: 0.6354 - accuracy: 0.6329 - AUC: 0.6869 - Precision: 0.6310 - Recall: 0.6338 - val_loss: 0.6362 - val_accuracy: 0.6305 - val_AUC: 0.6936 - val_Precision: 0.6754 - val_Recall: 0.5114\n",
      "Epoch 5/100\n",
      "52502/52502 [==============================] - 4s 71us/sample - loss: 0.6346 - accuracy: 0.6325 - AUC: 0.6872 - Precision: 0.6316 - Recall: 0.6294 - val_loss: 0.6417 - val_accuracy: 0.6224 - val_AUC: 0.6905 - val_Precision: 0.5932 - val_Recall: 0.7939\n",
      "Epoch 6/100\n",
      "52502/52502 [==============================] - 4s 72us/sample - loss: 0.6343 - accuracy: 0.6315 - AUC: 0.6879 - Precision: 0.6312 - Recall: 0.6257 - val_loss: 0.6785 - val_accuracy: 0.6076 - val_AUC: 0.6894 - val_Precision: 0.7182 - val_Recall: 0.3624\n",
      "Epoch 7/100\n",
      "52502/52502 [==============================] - 4s 73us/sample - loss: 0.6335 - accuracy: 0.6334 - AUC: 0.6895 - Precision: 0.6335 - Recall: 0.6267 - val_loss: 0.6351 - val_accuracy: 0.6323 - val_AUC: 0.6905 - val_Precision: 0.6646 - val_Recall: 0.5432\n",
      "Epoch 8/100\n",
      "52502/52502 [==============================] - 4s 75us/sample - loss: 0.6334 - accuracy: 0.6335 - AUC: 0.6893 - Precision: 0.6326 - Recall: 0.6303 - val_loss: 0.6477 - val_accuracy: 0.6291 - val_AUC: 0.6947 - val_Precision: 0.6881 - val_Recall: 0.4806\n",
      "Epoch 9/100\n",
      "52502/52502 [==============================] - 4s 74us/sample - loss: 0.6333 - accuracy: 0.6345 - AUC: 0.6901 - Precision: 0.6359 - Recall: 0.6225 - val_loss: 0.6324 - val_accuracy: 0.6299 - val_AUC: 0.6913 - val_Precision: 0.6580 - val_Recall: 0.5506\n",
      "Epoch 10/100\n",
      "52502/52502 [==============================] - 4s 75us/sample - loss: 0.6325 - accuracy: 0.6367 - AUC: 0.6914 - Precision: 0.6371 - Recall: 0.6285 - val_loss: 0.6386 - val_accuracy: 0.6328 - val_AUC: 0.6979 - val_Precision: 0.6027 - val_Recall: 0.7924\n",
      "Epoch 11/100\n",
      "52502/52502 [==============================] - 4s 73us/sample - loss: 0.6321 - accuracy: 0.6353 - AUC: 0.6903 - Precision: 0.6355 - Recall: 0.6280 - val_loss: 0.6392 - val_accuracy: 0.6240 - val_AUC: 0.6956 - val_Precision: 0.5942 - val_Recall: 0.7968\n",
      "Epoch 12/100\n",
      "52502/52502 [==============================] - 4s 71us/sample - loss: 0.6324 - accuracy: 0.6331 - AUC: 0.6909 - Precision: 0.6334 - Recall: 0.6253 - val_loss: 0.6326 - val_accuracy: 0.6371 - val_AUC: 0.6959 - val_Precision: 0.6720 - val_Recall: 0.5447\n"
     ]
    },
    {
     "data": {
      "text/plain": [
       "<tensorflow.python.keras.callbacks.History at 0x1a5f2f6128>"
      ]
     },
     "execution_count": 86,
     "metadata": {},
     "output_type": "execute_result"
    }
   ],
   "source": [
    "callback = [tf.keras.callbacks.EarlyStopping(monitor='val_loss', patience=3)]\n",
    "model7.fit(X_train7, y_train7, epochs=100, validation_split=0.2, callbacks=callback)"
   ]
  },
  {
   "cell_type": "code",
   "execution_count": 87,
   "metadata": {},
   "outputs": [
    {
     "name": "stdout",
     "output_type": "stream",
     "text": [
      "65628/1 - 2s - loss: 0.6261 - accuracy: 0.6364 - AUC: 0.6978 - Precision: 0.6662 - Recall: 0.5443\n"
     ]
    },
    {
     "data": {
      "text/plain": [
       "[0.6306048589780997, 0.6364357, 0.6978005, 0.66619337, 0.54428333]"
      ]
     },
     "execution_count": 87,
     "metadata": {},
     "output_type": "execute_result"
    }
   ],
   "source": [
    "# Prediction on training\n",
    "model7.evaluate(X_train7, y_train7, verbose=2)"
   ]
  },
  {
   "cell_type": "code",
   "execution_count": 88,
   "metadata": {},
   "outputs": [
    {
     "name": "stdout",
     "output_type": "stream",
     "text": [
      "21876/1 - 1s - loss: 0.6225 - accuracy: 0.6353 - AUC: 0.6971 - Precision: 0.6670 - Recall: 0.5418\n"
     ]
    },
    {
     "data": {
      "text/plain": [
       "[0.6319591470579056, 0.63526237, 0.69714063, 0.6669665, 0.54178464]"
      ]
     },
     "execution_count": 88,
     "metadata": {},
     "output_type": "execute_result"
    }
   ],
   "source": [
    "# Prediction on test\n",
    "model7.evaluate(X_test7,  y_test7, verbose=2)"
   ]
  },
  {
   "cell_type": "code",
   "execution_count": 89,
   "metadata": {},
   "outputs": [
    {
     "name": "stdout",
     "output_type": "stream",
     "text": [
      "Model: \"model_16\"\n",
      "_________________________________________________________________\n",
      "Layer (type)                 Output Shape              Param #   \n",
      "=================================================================\n",
      "input_17 (InputLayer)        [(None, 20)]              0         \n",
      "_________________________________________________________________\n",
      "dense_60 (Dense)             (None, 256)               5376      \n",
      "_________________________________________________________________\n",
      "batch_normalization_27 (Batc (None, 256)               1024      \n",
      "_________________________________________________________________\n",
      "dense_61 (Dense)             (None, 256)               65792     \n",
      "_________________________________________________________________\n",
      "dropout_16 (Dropout)         (None, 256)               0         \n",
      "_________________________________________________________________\n",
      "dense_62 (Dense)             (None, 1)                 257       \n",
      "=================================================================\n",
      "Total params: 72,449\n",
      "Trainable params: 71,937\n",
      "Non-trainable params: 512\n",
      "_________________________________________________________________\n"
     ]
    }
   ],
   "source": [
    "model7.summary()"
   ]
  },
  {
   "cell_type": "markdown",
   "metadata": {},
   "source": [
    "# Model8: CNN - All features - Unbinned"
   ]
  },
  {
   "cell_type": "code",
   "execution_count": 3,
   "metadata": {},
   "outputs": [
    {
     "name": "stdout",
     "output_type": "stream",
     "text": [
      "(87504, 30)\n"
     ]
    },
    {
     "data": {
      "text/html": [
       "<div>\n",
       "<style scoped>\n",
       "    .dataframe tbody tr th:only-of-type {\n",
       "        vertical-align: middle;\n",
       "    }\n",
       "\n",
       "    .dataframe tbody tr th {\n",
       "        vertical-align: top;\n",
       "    }\n",
       "\n",
       "    .dataframe thead th {\n",
       "        text-align: right;\n",
       "    }\n",
       "</style>\n",
       "<table border=\"1\" class=\"dataframe\">\n",
       "  <thead>\n",
       "    <tr style=\"text-align: right;\">\n",
       "      <th></th>\n",
       "      <th>Team1</th>\n",
       "      <th>Team2</th>\n",
       "      <th>Team1Score</th>\n",
       "      <th>Team1FGM</th>\n",
       "      <th>Team1FGA</th>\n",
       "      <th>Team1FGM3</th>\n",
       "      <th>Team1FGA3</th>\n",
       "      <th>Team1FTM</th>\n",
       "      <th>Team1FTA</th>\n",
       "      <th>Team1OR</th>\n",
       "      <th>...</th>\n",
       "      <th>Team2FGA3</th>\n",
       "      <th>Team2FTM</th>\n",
       "      <th>Team2FTA</th>\n",
       "      <th>Team2OR</th>\n",
       "      <th>Team2DR</th>\n",
       "      <th>Team2Ast</th>\n",
       "      <th>Team2TO</th>\n",
       "      <th>Team2Stl</th>\n",
       "      <th>Team2Blk</th>\n",
       "      <th>Team2PF</th>\n",
       "    </tr>\n",
       "  </thead>\n",
       "  <tbody>\n",
       "    <tr>\n",
       "      <th>0</th>\n",
       "      <td>1421.0</td>\n",
       "      <td>1411.0</td>\n",
       "      <td>70.857116</td>\n",
       "      <td>24.835506</td>\n",
       "      <td>56.434951</td>\n",
       "      <td>6.414692</td>\n",
       "      <td>18.565785</td>\n",
       "      <td>14.771413</td>\n",
       "      <td>20.665618</td>\n",
       "      <td>10.963364</td>\n",
       "      <td>...</td>\n",
       "      <td>17.683849</td>\n",
       "      <td>15.710680</td>\n",
       "      <td>24.005781</td>\n",
       "      <td>11.705997</td>\n",
       "      <td>24.357526</td>\n",
       "      <td>12.123150</td>\n",
       "      <td>15.493189</td>\n",
       "      <td>6.690597</td>\n",
       "      <td>3.153172</td>\n",
       "      <td>18.467932</td>\n",
       "    </tr>\n",
       "    <tr>\n",
       "      <th>1</th>\n",
       "      <td>1436.0</td>\n",
       "      <td>1112.0</td>\n",
       "      <td>69.855278</td>\n",
       "      <td>24.480532</td>\n",
       "      <td>53.811272</td>\n",
       "      <td>5.963383</td>\n",
       "      <td>16.755914</td>\n",
       "      <td>14.930832</td>\n",
       "      <td>21.279172</td>\n",
       "      <td>10.879975</td>\n",
       "      <td>...</td>\n",
       "      <td>17.556715</td>\n",
       "      <td>16.325509</td>\n",
       "      <td>22.252281</td>\n",
       "      <td>11.423081</td>\n",
       "      <td>25.023546</td>\n",
       "      <td>14.801796</td>\n",
       "      <td>12.812651</td>\n",
       "      <td>6.345888</td>\n",
       "      <td>3.615896</td>\n",
       "      <td>16.994665</td>\n",
       "    </tr>\n",
       "    <tr>\n",
       "      <th>2</th>\n",
       "      <td>1272.0</td>\n",
       "      <td>1113.0</td>\n",
       "      <td>74.907473</td>\n",
       "      <td>26.294729</td>\n",
       "      <td>58.543421</td>\n",
       "      <td>6.600664</td>\n",
       "      <td>19.351685</td>\n",
       "      <td>15.717352</td>\n",
       "      <td>23.277168</td>\n",
       "      <td>12.826705</td>\n",
       "      <td>...</td>\n",
       "      <td>20.337147</td>\n",
       "      <td>14.981736</td>\n",
       "      <td>21.478844</td>\n",
       "      <td>10.385801</td>\n",
       "      <td>23.829096</td>\n",
       "      <td>14.160912</td>\n",
       "      <td>13.034717</td>\n",
       "      <td>6.020814</td>\n",
       "      <td>3.427225</td>\n",
       "      <td>18.325749</td>\n",
       "    </tr>\n",
       "    <tr>\n",
       "      <th>3</th>\n",
       "      <td>1166.0</td>\n",
       "      <td>1141.0</td>\n",
       "      <td>73.853850</td>\n",
       "      <td>25.786073</td>\n",
       "      <td>55.304019</td>\n",
       "      <td>8.163962</td>\n",
       "      <td>21.624711</td>\n",
       "      <td>14.117741</td>\n",
       "      <td>19.608092</td>\n",
       "      <td>9.641230</td>\n",
       "      <td>...</td>\n",
       "      <td>21.995512</td>\n",
       "      <td>14.649615</td>\n",
       "      <td>20.785129</td>\n",
       "      <td>11.083005</td>\n",
       "      <td>21.987842</td>\n",
       "      <td>11.666412</td>\n",
       "      <td>14.050869</td>\n",
       "      <td>6.743972</td>\n",
       "      <td>2.753055</td>\n",
       "      <td>20.340310</td>\n",
       "    </tr>\n",
       "    <tr>\n",
       "      <th>4</th>\n",
       "      <td>1143.0</td>\n",
       "      <td>1301.0</td>\n",
       "      <td>70.866565</td>\n",
       "      <td>25.397341</td>\n",
       "      <td>56.385076</td>\n",
       "      <td>5.714419</td>\n",
       "      <td>16.266095</td>\n",
       "      <td>14.357464</td>\n",
       "      <td>20.499749</td>\n",
       "      <td>10.694625</td>\n",
       "      <td>...</td>\n",
       "      <td>18.742337</td>\n",
       "      <td>14.982759</td>\n",
       "      <td>21.068132</td>\n",
       "      <td>11.159053</td>\n",
       "      <td>24.149595</td>\n",
       "      <td>14.311193</td>\n",
       "      <td>12.886297</td>\n",
       "      <td>6.121473</td>\n",
       "      <td>4.054906</td>\n",
       "      <td>17.563236</td>\n",
       "    </tr>\n",
       "  </tbody>\n",
       "</table>\n",
       "<p>5 rows × 30 columns</p>\n",
       "</div>"
      ],
      "text/plain": [
       "    Team1   Team2  Team1Score   Team1FGM   Team1FGA  Team1FGM3  Team1FGA3  \\\n",
       "0  1421.0  1411.0   70.857116  24.835506  56.434951   6.414692  18.565785   \n",
       "1  1436.0  1112.0   69.855278  24.480532  53.811272   5.963383  16.755914   \n",
       "2  1272.0  1113.0   74.907473  26.294729  58.543421   6.600664  19.351685   \n",
       "3  1166.0  1141.0   73.853850  25.786073  55.304019   8.163962  21.624711   \n",
       "4  1143.0  1301.0   70.866565  25.397341  56.385076   5.714419  16.266095   \n",
       "\n",
       "    Team1FTM   Team1FTA    Team1OR  ...  Team2FGA3   Team2FTM   Team2FTA  \\\n",
       "0  14.771413  20.665618  10.963364  ...  17.683849  15.710680  24.005781   \n",
       "1  14.930832  21.279172  10.879975  ...  17.556715  16.325509  22.252281   \n",
       "2  15.717352  23.277168  12.826705  ...  20.337147  14.981736  21.478844   \n",
       "3  14.117741  19.608092   9.641230  ...  21.995512  14.649615  20.785129   \n",
       "4  14.357464  20.499749  10.694625  ...  18.742337  14.982759  21.068132   \n",
       "\n",
       "     Team2OR    Team2DR   Team2Ast    Team2TO  Team2Stl  Team2Blk    Team2PF  \n",
       "0  11.705997  24.357526  12.123150  15.493189  6.690597  3.153172  18.467932  \n",
       "1  11.423081  25.023546  14.801796  12.812651  6.345888  3.615896  16.994665  \n",
       "2  10.385801  23.829096  14.160912  13.034717  6.020814  3.427225  18.325749  \n",
       "3  11.083005  21.987842  11.666412  14.050869  6.743972  2.753055  20.340310  \n",
       "4  11.159053  24.149595  14.311193  12.886297  6.121473  4.054906  17.563236  \n",
       "\n",
       "[5 rows x 30 columns]"
      ]
     },
     "execution_count": 3,
     "metadata": {},
     "output_type": "execute_result"
    }
   ],
   "source": [
    "df5 = pd.read_csv('matches.csv').dropna()\n",
    "Labels = df5['Win']\n",
    "#df3.drop(df3.columns[0], axis=1, inplace=True)\n",
    "df5.drop(['Win'], axis=1, inplace=True)\n",
    "Features5 = np.array(df5)\n",
    "print(Features5.shape)\n",
    "df5.head()"
   ]
  },
  {
   "cell_type": "code",
   "execution_count": 62,
   "metadata": {},
   "outputs": [
    {
     "name": "stdout",
     "output_type": "stream",
     "text": [
      "(65628, 30)\n"
     ]
    }
   ],
   "source": [
    "X_train8, y_train8, X_test8, y_test8 = split_and_rescale_data(Features5, Labels)"
   ]
  },
  {
   "cell_type": "code",
   "execution_count": 63,
   "metadata": {},
   "outputs": [
    {
     "name": "stdout",
     "output_type": "stream",
     "text": [
      "(65628, 30, 1)\n"
     ]
    },
    {
     "name": "stderr",
     "output_type": "stream",
     "text": [
      "/Users/grahamcooper/anaconda3/lib/python3.7/site-packages/ipykernel_launcher.py:2: DeprecationWarning: Both axis > a.ndim and axis < -a.ndim - 1 are deprecated and will raise an AxisError in the future.\n",
      "  \n",
      "/Users/grahamcooper/anaconda3/lib/python3.7/site-packages/ipykernel_launcher.py:4: DeprecationWarning: Both axis > a.ndim and axis < -a.ndim - 1 are deprecated and will raise an AxisError in the future.\n",
      "  after removing the cwd from sys.path.\n"
     ]
    }
   ],
   "source": [
    "X_train8 = np.expand_dims(X_train8, axis=2)\n",
    "y_train8 = np.expand_dims(y_train8, axis=2)\n",
    "X_test8 = np.expand_dims(X_test8, axis=2)\n",
    "y_test8 = np.expand_dims(y_test8, axis=2)\n",
    "print(X_train8.shape)\n",
    "#X_train8"
   ]
  },
  {
   "cell_type": "code",
   "execution_count": 64,
   "metadata": {},
   "outputs": [],
   "source": [
    "tf.random.set_seed(1115)\n",
    "activation_fn = tf.nn.relu #tf.nn.elu\n",
    "regularization_fn = tf.keras.regularizers.l2\n",
    "n_filters = 256\n",
    "n_kernals = 3\n",
    "residual_tower_size = 4\n",
    "regularization_rate=1e-4\n",
    "\n",
    "inputs = tf.keras.Input(shape=(X_train8.shape[1], X_train8.shape[2]), name='img')\n",
    "x = tf.keras.layers.Conv1D(n_filters, n_kernals, kernel_regularizer=regularization_fn(regularization_rate), padding='same')(inputs)\n",
    "x = tf.keras.layers.BatchNormalization()(x)\n",
    "block_output = activation_fn(x)\n",
    "\n",
    "# Build residual tower\n",
    "for _ in range(residual_tower_size):\n",
    "    x = tf.keras.layers.Conv1D(n_filters, n_kernals, kernel_regularizer=regularization_fn(regularization_rate), padding='same')(block_output)\n",
    "    x = tf.keras.layers.BatchNormalization()(x)\n",
    "    x = activation_fn(x)\n",
    "    x = tf.keras.layers.Conv1D(n_filters, n_kernals, kernel_regularizer=regularization_fn(regularization_rate), padding='same')(x)\n",
    "    x = tf.keras.layers.BatchNormalization()(x)\n",
    "    x = tf.keras.layers.add([x, block_output])\n",
    "    block_output = activation_fn(x)\n",
    "\n",
    "x = tf.keras.layers.Conv1D(2, 1, kernel_regularizer=regularization_fn(regularization_rate), padding='same')(block_output)\n",
    "x = tf.keras.layers.BatchNormalization()(x)\n",
    "x = activation_fn(x)\n",
    "x = tf.keras.layers.Flatten()(x)\n",
    "x = tf.keras.layers.Dense(256, kernel_regularizer=regularization_fn(regularization_rate))(x)\n",
    "#x = tf.keras.layers.BatchNormalization()(x)\n",
    "x = activation_fn(x)\n",
    "#x = tf.keras.layers.Dropout(0.5)(x)\n",
    "outputs = tf.keras.layers.Dense(1, activation=tf.keras.activations.sigmoid)(x)\n"
   ]
  },
  {
   "cell_type": "code",
   "execution_count": 65,
   "metadata": {},
   "outputs": [],
   "source": [
    "model8 = tf.keras.Model(inputs=inputs, outputs=outputs)\n",
    "\n",
    "model8.compile(optimizer='adam',\n",
    "              loss=tf.keras.losses.BinaryCrossentropy(),\n",
    "              metrics=['accuracy', 'AUC', 'Precision', 'Recall'])"
   ]
  },
  {
   "cell_type": "code",
   "execution_count": 66,
   "metadata": {},
   "outputs": [
    {
     "name": "stdout",
     "output_type": "stream",
     "text": [
      "Train on 52502 samples, validate on 13126 samples\n",
      "Epoch 1/100\n",
      "52502/52502 [==============================] - 145s 3ms/sample - loss: 0.7024 - accuracy: 0.6370 - AUC: 0.6981 - Precision: 0.6371 - Recall: 0.6301 - val_loss: 0.6383 - val_accuracy: 0.6458 - val_AUC: 0.7088 - val_Precision: 0.6538 - val_Recall: 0.6293\n",
      "Epoch 2/100\n",
      "52502/52502 [==============================] - 141s 3ms/sample - loss: 0.6377 - accuracy: 0.6449 - AUC: 0.7055 - Precision: 0.6441 - Recall: 0.6416 - val_loss: 0.6328 - val_accuracy: 0.6428 - val_AUC: 0.7113 - val_Precision: 0.6234 - val_Recall: 0.7323\n",
      "Epoch 3/100\n",
      "52502/52502 [==============================] - 148s 3ms/sample - loss: 0.6322 - accuracy: 0.6462 - AUC: 0.7096 - Precision: 0.6447 - Recall: 0.6455 - val_loss: 0.6279 - val_accuracy: 0.6507 - val_AUC: 0.7162 - val_Precision: 0.6729 - val_Recall: 0.5949\n",
      "Epoch 4/100\n",
      "52502/52502 [==============================] - 144s 3ms/sample - loss: 0.6281 - accuracy: 0.6485 - AUC: 0.7128 - Precision: 0.6465 - Recall: 0.6491 - val_loss: 0.6269 - val_accuracy: 0.6467 - val_AUC: 0.7141 - val_Precision: 0.6817 - val_Recall: 0.5584\n",
      "Epoch 5/100\n",
      "52502/52502 [==============================] - 142s 3ms/sample - loss: 0.6249 - accuracy: 0.6507 - AUC: 0.7160 - Precision: 0.6504 - Recall: 0.6460 - val_loss: 0.6255 - val_accuracy: 0.6472 - val_AUC: 0.7133 - val_Precision: 0.6469 - val_Recall: 0.6578\n",
      "Epoch 6/100\n",
      "52502/52502 [==============================] - 146s 3ms/sample - loss: 0.6219 - accuracy: 0.6510 - AUC: 0.7167 - Precision: 0.6504 - Recall: 0.6471 - val_loss: 0.6252 - val_accuracy: 0.6491 - val_AUC: 0.7128 - val_Precision: 0.6379 - val_Recall: 0.6999\n",
      "Epoch 7/100\n",
      "52502/52502 [==============================] - 148s 3ms/sample - loss: 0.6186 - accuracy: 0.6536 - AUC: 0.7202 - Precision: 0.6526 - Recall: 0.6510 - val_loss: 0.6220 - val_accuracy: 0.6512 - val_AUC: 0.7156 - val_Precision: 0.6577 - val_Recall: 0.6398\n",
      "Epoch 8/100\n",
      "52502/52502 [==============================] - 147s 3ms/sample - loss: 0.6168 - accuracy: 0.6554 - AUC: 0.7217 - Precision: 0.6545 - Recall: 0.6528 - val_loss: 0.6263 - val_accuracy: 0.6473 - val_AUC: 0.7122 - val_Precision: 0.6634 - val_Recall: 0.6069\n",
      "Epoch 9/100\n",
      "52502/52502 [==============================] - 144s 3ms/sample - loss: 0.6151 - accuracy: 0.6549 - AUC: 0.7226 - Precision: 0.6541 - Recall: 0.6518 - val_loss: 0.6177 - val_accuracy: 0.6539 - val_AUC: 0.7191 - val_Precision: 0.6562 - val_Recall: 0.6555\n",
      "Epoch 10/100\n",
      "52502/52502 [==============================] - 141s 3ms/sample - loss: 0.6135 - accuracy: 0.6582 - AUC: 0.7242 - Precision: 0.6569 - Recall: 0.6571 - val_loss: 0.6189 - val_accuracy: 0.6522 - val_AUC: 0.7166 - val_Precision: 0.6376 - val_Recall: 0.7153\n",
      "Epoch 11/100\n",
      "52502/52502 [==============================] - 141s 3ms/sample - loss: 0.6121 - accuracy: 0.6587 - AUC: 0.7248 - Precision: 0.6584 - Recall: 0.6540 - val_loss: 0.6155 - val_accuracy: 0.6547 - val_AUC: 0.7177 - val_Precision: 0.6556 - val_Recall: 0.6610\n",
      "Epoch 12/100\n",
      "52502/52502 [==============================] - 143s 3ms/sample - loss: 0.6103 - accuracy: 0.6590 - AUC: 0.7265 - Precision: 0.6576 - Recall: 0.6579 - val_loss: 0.6170 - val_accuracy: 0.6503 - val_AUC: 0.7183 - val_Precision: 0.6513 - val_Recall: 0.6564\n",
      "Epoch 13/100\n",
      "52502/52502 [==============================] - 142s 3ms/sample - loss: 0.6098 - accuracy: 0.6593 - AUC: 0.7272 - Precision: 0.6592 - Recall: 0.6540 - val_loss: 0.6176 - val_accuracy: 0.6541 - val_AUC: 0.7159 - val_Precision: 0.6595 - val_Recall: 0.6461\n",
      "Epoch 14/100\n",
      "52502/52502 [==============================] - 143s 3ms/sample - loss: 0.6086 - accuracy: 0.6618 - AUC: 0.7282 - Precision: 0.6606 - Recall: 0.6600 - val_loss: 0.6110 - val_accuracy: 0.6561 - val_AUC: 0.7229 - val_Precision: 0.6643 - val_Recall: 0.6398\n",
      "Epoch 15/100\n",
      "52502/52502 [==============================] - 143s 3ms/sample - loss: 0.6075 - accuracy: 0.6609 - AUC: 0.7295 - Precision: 0.6592 - Recall: 0.6611 - val_loss: 0.6114 - val_accuracy: 0.6565 - val_AUC: 0.7217 - val_Precision: 0.6593 - val_Recall: 0.6564\n",
      "Epoch 16/100\n",
      "52502/52502 [==============================] - 144s 3ms/sample - loss: 0.6075 - accuracy: 0.6635 - AUC: 0.7299 - Precision: 0.6622 - Recall: 0.6623 - val_loss: 0.6129 - val_accuracy: 0.6558 - val_AUC: 0.7216 - val_Precision: 0.6696 - val_Recall: 0.6234\n",
      "Epoch 17/100\n",
      "52502/52502 [==============================] - 145s 3ms/sample - loss: 0.6068 - accuracy: 0.6617 - AUC: 0.7303 - Precision: 0.6596 - Recall: 0.6627 - val_loss: 0.6124 - val_accuracy: 0.6562 - val_AUC: 0.7203 - val_Precision: 0.6619 - val_Recall: 0.6473\n"
     ]
    },
    {
     "data": {
      "text/plain": [
       "<tensorflow.python.keras.callbacks.History at 0x1a6e1fa9b0>"
      ]
     },
     "execution_count": 66,
     "metadata": {},
     "output_type": "execute_result"
    }
   ],
   "source": [
    "callback = [tf.keras.callbacks.EarlyStopping(monitor='val_loss', patience=3)]\n",
    "model8.fit(X_train8, y_train8, epochs=100, validation_split=0.2, callbacks=callback)"
   ]
  },
  {
   "cell_type": "code",
   "execution_count": 67,
   "metadata": {},
   "outputs": [
    {
     "name": "stdout",
     "output_type": "stream",
     "text": [
      "65628/1 - 47s - loss: 0.6050 - accuracy: 0.6643 - AUC: 0.7338 - Precision: 0.6673 - Recall: 0.6530\n"
     ]
    },
    {
     "data": {
      "text/plain": [
       "[0.6042438514120597, 0.66433537, 0.73382664, 0.6673323, 0.652969]"
      ]
     },
     "execution_count": 67,
     "metadata": {},
     "output_type": "execute_result"
    }
   ],
   "source": [
    "# Prediction on training\n",
    "model8.evaluate(X_train8, y_train8, verbose=2)"
   ]
  },
  {
   "cell_type": "code",
   "execution_count": 68,
   "metadata": {},
   "outputs": [
    {
     "name": "stdout",
     "output_type": "stream",
     "text": [
      "21876/1 - 15s - loss: 0.5965 - accuracy: 0.6559 - AUC: 0.7231 - Precision: 0.6596 - Recall: 0.6455\n"
     ]
    },
    {
     "data": {
      "text/plain": [
       "[0.6117246757588585, 0.6558786, 0.72309494, 0.659636, 0.6455384]"
      ]
     },
     "execution_count": 68,
     "metadata": {},
     "output_type": "execute_result"
    }
   ],
   "source": [
    "# Prediction on test\n",
    "model8.evaluate(X_test8,  y_test8, verbose=2)"
   ]
  },
  {
   "cell_type": "code",
   "execution_count": 69,
   "metadata": {},
   "outputs": [
    {
     "name": "stdout",
     "output_type": "stream",
     "text": [
      "Model: \"model_9\"\n",
      "__________________________________________________________________________________________________\n",
      "Layer (type)                    Output Shape         Param #     Connected to                     \n",
      "==================================================================================================\n",
      "img (InputLayer)                [(None, 30, 1)]      0                                            \n",
      "__________________________________________________________________________________________________\n",
      "conv1d_70 (Conv1D)              (None, 30, 256)      1024        img[0][0]                        \n",
      "__________________________________________________________________________________________________\n",
      "batch_normalization_76 (BatchNo (None, 30, 256)      1024        conv1d_70[0][0]                  \n",
      "__________________________________________________________________________________________________\n",
      "tf_op_layer_Relu_77 (TensorFlow [(None, 30, 256)]    0           batch_normalization_76[0][0]     \n",
      "__________________________________________________________________________________________________\n",
      "conv1d_71 (Conv1D)              (None, 30, 256)      196864      tf_op_layer_Relu_77[0][0]        \n",
      "__________________________________________________________________________________________________\n",
      "batch_normalization_77 (BatchNo (None, 30, 256)      1024        conv1d_71[0][0]                  \n",
      "__________________________________________________________________________________________________\n",
      "tf_op_layer_Relu_78 (TensorFlow [(None, 30, 256)]    0           batch_normalization_77[0][0]     \n",
      "__________________________________________________________________________________________________\n",
      "conv1d_72 (Conv1D)              (None, 30, 256)      196864      tf_op_layer_Relu_78[0][0]        \n",
      "__________________________________________________________________________________________________\n",
      "batch_normalization_78 (BatchNo (None, 30, 256)      1024        conv1d_72[0][0]                  \n",
      "__________________________________________________________________________________________________\n",
      "add_25 (Add)                    (None, 30, 256)      0           batch_normalization_78[0][0]     \n",
      "                                                                 tf_op_layer_Relu_77[0][0]        \n",
      "__________________________________________________________________________________________________\n",
      "tf_op_layer_Relu_79 (TensorFlow [(None, 30, 256)]    0           add_25[0][0]                     \n",
      "__________________________________________________________________________________________________\n",
      "conv1d_73 (Conv1D)              (None, 30, 256)      196864      tf_op_layer_Relu_79[0][0]        \n",
      "__________________________________________________________________________________________________\n",
      "batch_normalization_79 (BatchNo (None, 30, 256)      1024        conv1d_73[0][0]                  \n",
      "__________________________________________________________________________________________________\n",
      "tf_op_layer_Relu_80 (TensorFlow [(None, 30, 256)]    0           batch_normalization_79[0][0]     \n",
      "__________________________________________________________________________________________________\n",
      "conv1d_74 (Conv1D)              (None, 30, 256)      196864      tf_op_layer_Relu_80[0][0]        \n",
      "__________________________________________________________________________________________________\n",
      "batch_normalization_80 (BatchNo (None, 30, 256)      1024        conv1d_74[0][0]                  \n",
      "__________________________________________________________________________________________________\n",
      "add_26 (Add)                    (None, 30, 256)      0           batch_normalization_80[0][0]     \n",
      "                                                                 tf_op_layer_Relu_79[0][0]        \n",
      "__________________________________________________________________________________________________\n",
      "tf_op_layer_Relu_81 (TensorFlow [(None, 30, 256)]    0           add_26[0][0]                     \n",
      "__________________________________________________________________________________________________\n",
      "conv1d_75 (Conv1D)              (None, 30, 256)      196864      tf_op_layer_Relu_81[0][0]        \n",
      "__________________________________________________________________________________________________\n",
      "batch_normalization_81 (BatchNo (None, 30, 256)      1024        conv1d_75[0][0]                  \n",
      "__________________________________________________________________________________________________\n",
      "tf_op_layer_Relu_82 (TensorFlow [(None, 30, 256)]    0           batch_normalization_81[0][0]     \n",
      "__________________________________________________________________________________________________\n",
      "conv1d_76 (Conv1D)              (None, 30, 256)      196864      tf_op_layer_Relu_82[0][0]        \n",
      "__________________________________________________________________________________________________\n",
      "batch_normalization_82 (BatchNo (None, 30, 256)      1024        conv1d_76[0][0]                  \n",
      "__________________________________________________________________________________________________\n",
      "add_27 (Add)                    (None, 30, 256)      0           batch_normalization_82[0][0]     \n",
      "                                                                 tf_op_layer_Relu_81[0][0]        \n",
      "__________________________________________________________________________________________________\n",
      "tf_op_layer_Relu_83 (TensorFlow [(None, 30, 256)]    0           add_27[0][0]                     \n",
      "__________________________________________________________________________________________________\n",
      "conv1d_77 (Conv1D)              (None, 30, 256)      196864      tf_op_layer_Relu_83[0][0]        \n",
      "__________________________________________________________________________________________________\n",
      "batch_normalization_83 (BatchNo (None, 30, 256)      1024        conv1d_77[0][0]                  \n",
      "__________________________________________________________________________________________________\n",
      "tf_op_layer_Relu_84 (TensorFlow [(None, 30, 256)]    0           batch_normalization_83[0][0]     \n",
      "__________________________________________________________________________________________________\n",
      "conv1d_78 (Conv1D)              (None, 30, 256)      196864      tf_op_layer_Relu_84[0][0]        \n",
      "__________________________________________________________________________________________________\n",
      "batch_normalization_84 (BatchNo (None, 30, 256)      1024        conv1d_78[0][0]                  \n",
      "__________________________________________________________________________________________________\n",
      "add_28 (Add)                    (None, 30, 256)      0           batch_normalization_84[0][0]     \n",
      "                                                                 tf_op_layer_Relu_83[0][0]        \n",
      "__________________________________________________________________________________________________\n",
      "tf_op_layer_Relu_85 (TensorFlow [(None, 30, 256)]    0           add_28[0][0]                     \n",
      "__________________________________________________________________________________________________\n",
      "conv1d_79 (Conv1D)              (None, 30, 2)        514         tf_op_layer_Relu_85[0][0]        \n",
      "__________________________________________________________________________________________________\n",
      "batch_normalization_85 (BatchNo (None, 30, 2)        8           conv1d_79[0][0]                  \n",
      "__________________________________________________________________________________________________\n",
      "tf_op_layer_Relu_86 (TensorFlow [(None, 30, 2)]      0           batch_normalization_85[0][0]     \n",
      "__________________________________________________________________________________________________\n",
      "flatten_9 (Flatten)             (None, 60)           0           tf_op_layer_Relu_86[0][0]        \n",
      "__________________________________________________________________________________________________\n",
      "dense_18 (Dense)                (None, 256)          15616       flatten_9[0][0]                  \n",
      "__________________________________________________________________________________________________\n",
      "tf_op_layer_Relu_87 (TensorFlow [(None, 256)]        0           dense_18[0][0]                   \n",
      "__________________________________________________________________________________________________\n",
      "dense_19 (Dense)                (None, 1)            257         tf_op_layer_Relu_87[0][0]        \n",
      "==================================================================================================\n",
      "Total params: 1,601,547\n",
      "Trainable params: 1,596,935\n",
      "Non-trainable params: 4,612\n",
      "__________________________________________________________________________________________________\n"
     ]
    }
   ],
   "source": [
    "model8.summary()"
   ]
  },
  {
   "cell_type": "markdown",
   "metadata": {},
   "source": [
    "# Model9: RNN - All Features - Unbinned"
   ]
  },
  {
   "cell_type": "code",
   "execution_count": 3,
   "metadata": {},
   "outputs": [
    {
     "name": "stdout",
     "output_type": "stream",
     "text": [
      "(87504, 30)\n"
     ]
    },
    {
     "data": {
      "text/html": [
       "<div>\n",
       "<style scoped>\n",
       "    .dataframe tbody tr th:only-of-type {\n",
       "        vertical-align: middle;\n",
       "    }\n",
       "\n",
       "    .dataframe tbody tr th {\n",
       "        vertical-align: top;\n",
       "    }\n",
       "\n",
       "    .dataframe thead th {\n",
       "        text-align: right;\n",
       "    }\n",
       "</style>\n",
       "<table border=\"1\" class=\"dataframe\">\n",
       "  <thead>\n",
       "    <tr style=\"text-align: right;\">\n",
       "      <th></th>\n",
       "      <th>Team1</th>\n",
       "      <th>Team2</th>\n",
       "      <th>Team1Score</th>\n",
       "      <th>Team1FGM</th>\n",
       "      <th>Team1FGA</th>\n",
       "      <th>Team1FGM3</th>\n",
       "      <th>Team1FGA3</th>\n",
       "      <th>Team1FTM</th>\n",
       "      <th>Team1FTA</th>\n",
       "      <th>Team1OR</th>\n",
       "      <th>...</th>\n",
       "      <th>Team2FGA3</th>\n",
       "      <th>Team2FTM</th>\n",
       "      <th>Team2FTA</th>\n",
       "      <th>Team2OR</th>\n",
       "      <th>Team2DR</th>\n",
       "      <th>Team2Ast</th>\n",
       "      <th>Team2TO</th>\n",
       "      <th>Team2Stl</th>\n",
       "      <th>Team2Blk</th>\n",
       "      <th>Team2PF</th>\n",
       "    </tr>\n",
       "  </thead>\n",
       "  <tbody>\n",
       "    <tr>\n",
       "      <th>0</th>\n",
       "      <td>1421.0</td>\n",
       "      <td>1411.0</td>\n",
       "      <td>70.857116</td>\n",
       "      <td>24.835506</td>\n",
       "      <td>56.434951</td>\n",
       "      <td>6.414692</td>\n",
       "      <td>18.565785</td>\n",
       "      <td>14.771413</td>\n",
       "      <td>20.665618</td>\n",
       "      <td>10.963364</td>\n",
       "      <td>...</td>\n",
       "      <td>17.683849</td>\n",
       "      <td>15.710680</td>\n",
       "      <td>24.005781</td>\n",
       "      <td>11.705997</td>\n",
       "      <td>24.357526</td>\n",
       "      <td>12.123150</td>\n",
       "      <td>15.493189</td>\n",
       "      <td>6.690597</td>\n",
       "      <td>3.153172</td>\n",
       "      <td>18.467932</td>\n",
       "    </tr>\n",
       "    <tr>\n",
       "      <th>1</th>\n",
       "      <td>1436.0</td>\n",
       "      <td>1112.0</td>\n",
       "      <td>69.855278</td>\n",
       "      <td>24.480532</td>\n",
       "      <td>53.811272</td>\n",
       "      <td>5.963383</td>\n",
       "      <td>16.755914</td>\n",
       "      <td>14.930832</td>\n",
       "      <td>21.279172</td>\n",
       "      <td>10.879975</td>\n",
       "      <td>...</td>\n",
       "      <td>17.556715</td>\n",
       "      <td>16.325509</td>\n",
       "      <td>22.252281</td>\n",
       "      <td>11.423081</td>\n",
       "      <td>25.023546</td>\n",
       "      <td>14.801796</td>\n",
       "      <td>12.812651</td>\n",
       "      <td>6.345888</td>\n",
       "      <td>3.615896</td>\n",
       "      <td>16.994665</td>\n",
       "    </tr>\n",
       "    <tr>\n",
       "      <th>2</th>\n",
       "      <td>1272.0</td>\n",
       "      <td>1113.0</td>\n",
       "      <td>74.907473</td>\n",
       "      <td>26.294729</td>\n",
       "      <td>58.543421</td>\n",
       "      <td>6.600664</td>\n",
       "      <td>19.351685</td>\n",
       "      <td>15.717352</td>\n",
       "      <td>23.277168</td>\n",
       "      <td>12.826705</td>\n",
       "      <td>...</td>\n",
       "      <td>20.337147</td>\n",
       "      <td>14.981736</td>\n",
       "      <td>21.478844</td>\n",
       "      <td>10.385801</td>\n",
       "      <td>23.829096</td>\n",
       "      <td>14.160912</td>\n",
       "      <td>13.034717</td>\n",
       "      <td>6.020814</td>\n",
       "      <td>3.427225</td>\n",
       "      <td>18.325749</td>\n",
       "    </tr>\n",
       "    <tr>\n",
       "      <th>3</th>\n",
       "      <td>1166.0</td>\n",
       "      <td>1141.0</td>\n",
       "      <td>73.853850</td>\n",
       "      <td>25.786073</td>\n",
       "      <td>55.304019</td>\n",
       "      <td>8.163962</td>\n",
       "      <td>21.624711</td>\n",
       "      <td>14.117741</td>\n",
       "      <td>19.608092</td>\n",
       "      <td>9.641230</td>\n",
       "      <td>...</td>\n",
       "      <td>21.995512</td>\n",
       "      <td>14.649615</td>\n",
       "      <td>20.785129</td>\n",
       "      <td>11.083005</td>\n",
       "      <td>21.987842</td>\n",
       "      <td>11.666412</td>\n",
       "      <td>14.050869</td>\n",
       "      <td>6.743972</td>\n",
       "      <td>2.753055</td>\n",
       "      <td>20.340310</td>\n",
       "    </tr>\n",
       "    <tr>\n",
       "      <th>4</th>\n",
       "      <td>1143.0</td>\n",
       "      <td>1301.0</td>\n",
       "      <td>70.866565</td>\n",
       "      <td>25.397341</td>\n",
       "      <td>56.385076</td>\n",
       "      <td>5.714419</td>\n",
       "      <td>16.266095</td>\n",
       "      <td>14.357464</td>\n",
       "      <td>20.499749</td>\n",
       "      <td>10.694625</td>\n",
       "      <td>...</td>\n",
       "      <td>18.742337</td>\n",
       "      <td>14.982759</td>\n",
       "      <td>21.068132</td>\n",
       "      <td>11.159053</td>\n",
       "      <td>24.149595</td>\n",
       "      <td>14.311193</td>\n",
       "      <td>12.886297</td>\n",
       "      <td>6.121473</td>\n",
       "      <td>4.054906</td>\n",
       "      <td>17.563236</td>\n",
       "    </tr>\n",
       "  </tbody>\n",
       "</table>\n",
       "<p>5 rows × 30 columns</p>\n",
       "</div>"
      ],
      "text/plain": [
       "    Team1   Team2  Team1Score   Team1FGM   Team1FGA  Team1FGM3  Team1FGA3  \\\n",
       "0  1421.0  1411.0   70.857116  24.835506  56.434951   6.414692  18.565785   \n",
       "1  1436.0  1112.0   69.855278  24.480532  53.811272   5.963383  16.755914   \n",
       "2  1272.0  1113.0   74.907473  26.294729  58.543421   6.600664  19.351685   \n",
       "3  1166.0  1141.0   73.853850  25.786073  55.304019   8.163962  21.624711   \n",
       "4  1143.0  1301.0   70.866565  25.397341  56.385076   5.714419  16.266095   \n",
       "\n",
       "    Team1FTM   Team1FTA    Team1OR  ...  Team2FGA3   Team2FTM   Team2FTA  \\\n",
       "0  14.771413  20.665618  10.963364  ...  17.683849  15.710680  24.005781   \n",
       "1  14.930832  21.279172  10.879975  ...  17.556715  16.325509  22.252281   \n",
       "2  15.717352  23.277168  12.826705  ...  20.337147  14.981736  21.478844   \n",
       "3  14.117741  19.608092   9.641230  ...  21.995512  14.649615  20.785129   \n",
       "4  14.357464  20.499749  10.694625  ...  18.742337  14.982759  21.068132   \n",
       "\n",
       "     Team2OR    Team2DR   Team2Ast    Team2TO  Team2Stl  Team2Blk    Team2PF  \n",
       "0  11.705997  24.357526  12.123150  15.493189  6.690597  3.153172  18.467932  \n",
       "1  11.423081  25.023546  14.801796  12.812651  6.345888  3.615896  16.994665  \n",
       "2  10.385801  23.829096  14.160912  13.034717  6.020814  3.427225  18.325749  \n",
       "3  11.083005  21.987842  11.666412  14.050869  6.743972  2.753055  20.340310  \n",
       "4  11.159053  24.149595  14.311193  12.886297  6.121473  4.054906  17.563236  \n",
       "\n",
       "[5 rows x 30 columns]"
      ]
     },
     "execution_count": 3,
     "metadata": {},
     "output_type": "execute_result"
    }
   ],
   "source": [
    "df6 = pd.read_csv('matches.csv').dropna()\n",
    "Labels = df6['Win']\n",
    "#df3.drop(df3.columns[0], axis=1, inplace=True)\n",
    "df6.drop(['Win'], axis=1, inplace=True)\n",
    "Features6 = np.array(df6)\n",
    "print(Features6.shape)\n",
    "df6.head()"
   ]
  },
  {
   "cell_type": "code",
   "execution_count": 48,
   "metadata": {},
   "outputs": [
    {
     "name": "stdout",
     "output_type": "stream",
     "text": [
      "(65628, 30)\n"
     ]
    }
   ],
   "source": [
    "X_train9, y_train9, X_test9, y_test9 = split_and_rescale_data(Features6, Labels)"
   ]
  },
  {
   "cell_type": "code",
   "execution_count": 49,
   "metadata": {},
   "outputs": [
    {
     "name": "stdout",
     "output_type": "stream",
     "text": [
      "(65628, 30, 1)\n"
     ]
    },
    {
     "name": "stderr",
     "output_type": "stream",
     "text": [
      "/Users/grahamcooper/anaconda3/lib/python3.7/site-packages/ipykernel_launcher.py:2: DeprecationWarning: Both axis > a.ndim and axis < -a.ndim - 1 are deprecated and will raise an AxisError in the future.\n",
      "  \n",
      "/Users/grahamcooper/anaconda3/lib/python3.7/site-packages/ipykernel_launcher.py:4: DeprecationWarning: Both axis > a.ndim and axis < -a.ndim - 1 are deprecated and will raise an AxisError in the future.\n",
      "  after removing the cwd from sys.path.\n"
     ]
    }
   ],
   "source": [
    "X_train9 = np.expand_dims(X_train9, axis=2)\n",
    "y_train9 = np.expand_dims(y_train9, axis=2)\n",
    "X_test9 = np.expand_dims(X_test9, axis=2)\n",
    "y_test9 = np.expand_dims(y_test9, axis=2)\n",
    "print(X_train9.shape)\n",
    "#X_train9.shape"
   ]
  },
  {
   "cell_type": "code",
   "execution_count": 50,
   "metadata": {},
   "outputs": [
    {
     "name": "stdout",
     "output_type": "stream",
     "text": [
      "Model: \"sequential_10\"\n",
      "_________________________________________________________________\n",
      "Layer (type)                 Output Shape              Param #   \n",
      "=================================================================\n",
      "bidirectional_16 (Bidirectio (None, 30, 128)           33792     \n",
      "_________________________________________________________________\n",
      "batch_normalization_7 (Batch (None, 30, 128)           512       \n",
      "_________________________________________________________________\n",
      "bidirectional_17 (Bidirectio (None, 64)                41216     \n",
      "_________________________________________________________________\n",
      "dense_7 (Dense)              (None, 1)                 65        \n",
      "=================================================================\n",
      "Total params: 75,585\n",
      "Trainable params: 75,329\n",
      "Non-trainable params: 256\n",
      "_________________________________________________________________\n"
     ]
    }
   ],
   "source": [
    "tf.random.set_seed(1115)\n",
    "\n",
    "model9 = tf.keras.Sequential()\n",
    "\n",
    "model9.add(tf.keras.layers.Bidirectional(tf.keras.layers.LSTM(64, return_sequences=True), \n",
    "                               input_shape=(X_train9.shape[1], X_train9.shape[2])))\n",
    "model9.add(tf.keras.layers.BatchNormalization())\n",
    "model9.add(tf.keras.layers.Bidirectional(tf.keras.layers.LSTM(32)))\n",
    "model9.add(tf.keras.layers.Dense(1, activation=tf.keras.activations.sigmoid))\n",
    "\n",
    "model9.summary()"
   ]
  },
  {
   "cell_type": "code",
   "execution_count": 51,
   "metadata": {},
   "outputs": [],
   "source": [
    "#model9 = tf.keras.Model(inputs=inputs, outputs=outputs)\n",
    "\n",
    "model9.compile(optimizer='adam',\n",
    "              loss=tf.keras.losses.BinaryCrossentropy(),\n",
    "              metrics=['accuracy', 'AUC', 'Precision', 'Recall'])"
   ]
  },
  {
   "cell_type": "code",
   "execution_count": 52,
   "metadata": {},
   "outputs": [
    {
     "name": "stdout",
     "output_type": "stream",
     "text": [
      "Train on 52502 samples, validate on 13126 samples\n",
      "Epoch 1/100\n",
      "52502/52502 [==============================] - 67s 1ms/sample - loss: 0.6655 - accuracy: 0.5918 - AUC: 0.6315 - Precision: 0.5907 - Recall: 0.5882 - val_loss: 0.6543 - val_accuracy: 0.6125 - val_AUC: 0.6565 - val_Precision: 0.6187 - val_Recall: 0.5989\n",
      "Epoch 2/100\n",
      "52502/52502 [==============================] - 58s 1ms/sample - loss: 0.6573 - accuracy: 0.6040 - AUC: 0.6482 - Precision: 0.6012 - Recall: 0.6090 - val_loss: 0.6604 - val_accuracy: 0.6003 - val_AUC: 0.6480 - val_Precision: 0.5859 - val_Recall: 0.7009\n",
      "Epoch 3/100\n",
      "52502/52502 [==============================] - 59s 1ms/sample - loss: 0.6464 - accuracy: 0.6177 - AUC: 0.6680 - Precision: 0.6148 - Recall: 0.6223 - val_loss: 0.6477 - val_accuracy: 0.6112 - val_AUC: 0.6790 - val_Precision: 0.6682 - val_Recall: 0.4511\n",
      "Epoch 4/100\n",
      "52502/52502 [==============================] - 58s 1ms/sample - loss: 0.6376 - accuracy: 0.6279 - AUC: 0.6828 - Precision: 0.6259 - Recall: 0.6290 - val_loss: 0.6359 - val_accuracy: 0.6256 - val_AUC: 0.6853 - val_Precision: 0.6228 - val_Recall: 0.6488\n",
      "Epoch 5/100\n",
      "52502/52502 [==============================] - 58s 1ms/sample - loss: 0.6315 - accuracy: 0.6349 - AUC: 0.6922 - Precision: 0.6326 - Recall: 0.6367 - val_loss: 0.6313 - val_accuracy: 0.6379 - val_AUC: 0.6922 - val_Precision: 0.6311 - val_Recall: 0.6746\n",
      "Epoch 6/100\n",
      "52502/52502 [==============================] - 59s 1ms/sample - loss: 0.6261 - accuracy: 0.6378 - AUC: 0.6998 - Precision: 0.6358 - Recall: 0.6387 - val_loss: 0.6293 - val_accuracy: 0.6393 - val_AUC: 0.6972 - val_Precision: 0.6492 - val_Recall: 0.6160\n",
      "Epoch 7/100\n",
      "52502/52502 [==============================] - 59s 1ms/sample - loss: 0.6217 - accuracy: 0.6445 - AUC: 0.7061 - Precision: 0.6417 - Recall: 0.6479 - val_loss: 0.6284 - val_accuracy: 0.6372 - val_AUC: 0.6957 - val_Precision: 0.6424 - val_Recall: 0.6292\n",
      "Epoch 8/100\n",
      "52502/52502 [==============================] - 59s 1ms/sample - loss: 0.6188 - accuracy: 0.6472 - AUC: 0.7102 - Precision: 0.6443 - Recall: 0.6514 - val_loss: 0.6215 - val_accuracy: 0.6444 - val_AUC: 0.7075 - val_Precision: 0.6687 - val_Recall: 0.5813\n",
      "Epoch 9/100\n",
      "52502/52502 [==============================] - 59s 1ms/sample - loss: 0.6157 - accuracy: 0.6505 - AUC: 0.7141 - Precision: 0.6483 - Recall: 0.6521 - val_loss: 0.6215 - val_accuracy: 0.6432 - val_AUC: 0.7051 - val_Precision: 0.6426 - val_Recall: 0.6554\n",
      "Epoch 10/100\n",
      "52502/52502 [==============================] - 59s 1ms/sample - loss: 0.6119 - accuracy: 0.6539 - AUC: 0.7185 - Precision: 0.6502 - Recall: 0.6602 - val_loss: 0.6216 - val_accuracy: 0.6409 - val_AUC: 0.7033 - val_Precision: 0.6461 - val_Recall: 0.6326\n",
      "Epoch 11/100\n",
      "52502/52502 [==============================] - 59s 1ms/sample - loss: 0.6101 - accuracy: 0.6559 - AUC: 0.7209 - Precision: 0.6532 - Recall: 0.6591 - val_loss: 0.6170 - val_accuracy: 0.6474 - val_AUC: 0.7108 - val_Precision: 0.6485 - val_Recall: 0.6534\n",
      "Epoch 12/100\n",
      "52502/52502 [==============================] - 59s 1ms/sample - loss: 0.6073 - accuracy: 0.6560 - AUC: 0.7241 - Precision: 0.6536 - Recall: 0.6583 - val_loss: 0.6197 - val_accuracy: 0.6407 - val_AUC: 0.7071 - val_Precision: 0.6317 - val_Recall: 0.6856\n",
      "Epoch 13/100\n",
      "52502/52502 [==============================] - 60s 1ms/sample - loss: 0.6054 - accuracy: 0.6601 - AUC: 0.7265 - Precision: 0.6581 - Recall: 0.6611 - val_loss: 0.6187 - val_accuracy: 0.6434 - val_AUC: 0.7101 - val_Precision: 0.6276 - val_Recall: 0.7162\n",
      "Epoch 14/100\n",
      "52502/52502 [==============================] - 59s 1ms/sample - loss: 0.6035 - accuracy: 0.6626 - AUC: 0.7289 - Precision: 0.6602 - Recall: 0.6649 - val_loss: 0.6154 - val_accuracy: 0.6475 - val_AUC: 0.7141 - val_Precision: 0.6664 - val_Recall: 0.5995\n",
      "Epoch 15/100\n",
      "52502/52502 [==============================] - 59s 1ms/sample - loss: 0.6013 - accuracy: 0.6646 - AUC: 0.7317 - Precision: 0.6614 - Recall: 0.6691 - val_loss: 0.6181 - val_accuracy: 0.6446 - val_AUC: 0.7093 - val_Precision: 0.6575 - val_Recall: 0.6130\n",
      "Epoch 16/100\n",
      "52502/52502 [==============================] - 59s 1ms/sample - loss: 0.6003 - accuracy: 0.6657 - AUC: 0.7329 - Precision: 0.6634 - Recall: 0.6676 - val_loss: 0.6126 - val_accuracy: 0.6441 - val_AUC: 0.7152 - val_Precision: 0.6483 - val_Recall: 0.6398\n",
      "Epoch 17/100\n",
      "52502/52502 [==============================] - 59s 1ms/sample - loss: 0.5989 - accuracy: 0.6654 - AUC: 0.7341 - Precision: 0.6627 - Recall: 0.6685 - val_loss: 0.6129 - val_accuracy: 0.6426 - val_AUC: 0.7137 - val_Precision: 0.6452 - val_Recall: 0.6437\n",
      "Epoch 18/100\n",
      "52502/52502 [==============================] - 59s 1ms/sample - loss: 0.5966 - accuracy: 0.6662 - AUC: 0.7373 - Precision: 0.6639 - Recall: 0.6682 - val_loss: 0.6149 - val_accuracy: 0.6477 - val_AUC: 0.7127 - val_Precision: 0.6485 - val_Recall: 0.6548\n",
      "Epoch 19/100\n",
      "52502/52502 [==============================] - 59s 1ms/sample - loss: 0.5960 - accuracy: 0.6667 - AUC: 0.7376 - Precision: 0.6644 - Recall: 0.6683 - val_loss: 0.6176 - val_accuracy: 0.6406 - val_AUC: 0.7084 - val_Precision: 0.6398 - val_Recall: 0.6538\n"
     ]
    },
    {
     "data": {
      "text/plain": [
       "<tensorflow.python.keras.callbacks.History at 0x1a4a8e50b8>"
      ]
     },
     "execution_count": 52,
     "metadata": {},
     "output_type": "execute_result"
    }
   ],
   "source": [
    "callback = [tf.keras.callbacks.EarlyStopping(monitor='val_loss', patience=3)]\n",
    "model9.fit(X_train9, y_train9, epochs=100, validation_split=0.2, callbacks=callback)"
   ]
  },
  {
   "cell_type": "code",
   "execution_count": 53,
   "metadata": {},
   "outputs": [
    {
     "name": "stdout",
     "output_type": "stream",
     "text": [
      "65628/1 - 16s - loss: 0.5845 - accuracy: 0.6648 - AUC: 0.7353 - Precision: 0.6592 - Recall: 0.6799\n"
     ]
    },
    {
     "data": {
      "text/plain": [
       "[0.5978848965380014, 0.66482294, 0.7352924, 0.65921736, 0.67992675]"
      ]
     },
     "execution_count": 53,
     "metadata": {},
     "output_type": "execute_result"
    }
   ],
   "source": [
    "# Prediction on training\n",
    "model9.evaluate(X_train9, y_train9, verbose=2)"
   ]
  },
  {
   "cell_type": "code",
   "execution_count": 54,
   "metadata": {},
   "outputs": [
    {
     "name": "stdout",
     "output_type": "stream",
     "text": [
      "21876/1 - 5s - loss: 0.5959 - accuracy: 0.6523 - AUC: 0.7146 - Precision: 0.6484 - Recall: 0.6667\n"
     ]
    },
    {
     "data": {
      "text/plain": [
       "[0.6144547408079181, 0.65226734, 0.71457326, 0.6484278, 0.66672754]"
      ]
     },
     "execution_count": 54,
     "metadata": {},
     "output_type": "execute_result"
    }
   ],
   "source": [
    "# Prediction on test\n",
    "model9.evaluate(X_test9,  y_test9, verbose=2)"
   ]
  },
  {
   "cell_type": "code",
   "execution_count": 55,
   "metadata": {},
   "outputs": [],
   "source": [
    "#model9.summary()"
   ]
  }
 ],
 "metadata": {
  "kernelspec": {
   "display_name": "Python 3",
   "language": "python",
   "name": "python3"
  },
  "language_info": {
   "codemirror_mode": {
    "name": "ipython",
    "version": 3
   },
   "file_extension": ".py",
   "mimetype": "text/x-python",
   "name": "python",
   "nbconvert_exporter": "python",
   "pygments_lexer": "ipython3",
   "version": "3.7.3"
  }
 },
 "nbformat": 4,
 "nbformat_minor": 2
}
