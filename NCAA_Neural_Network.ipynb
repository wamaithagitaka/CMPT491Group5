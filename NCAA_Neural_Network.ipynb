{
 "cells": [
  {
   "cell_type": "code",
   "execution_count": 1,
   "metadata": {},
   "outputs": [],
   "source": [
    "import pandas as pd\n",
    "import numpy as np\n",
    "import tensorflow as tf\n",
    "import numpy.random as nr\n",
    "import sklearn.model_selection as ms\n",
    "from sklearn import preprocessing"
   ]
  },
  {
   "cell_type": "code",
   "execution_count": 2,
   "metadata": {},
   "outputs": [
    {
     "name": "stdout",
     "output_type": "stream",
     "text": [
      "(87504, 30)\n"
     ]
    },
    {
     "data": {
      "text/html": [
       "<div>\n",
       "<style scoped>\n",
       "    .dataframe tbody tr th:only-of-type {\n",
       "        vertical-align: middle;\n",
       "    }\n",
       "\n",
       "    .dataframe tbody tr th {\n",
       "        vertical-align: top;\n",
       "    }\n",
       "\n",
       "    .dataframe thead th {\n",
       "        text-align: right;\n",
       "    }\n",
       "</style>\n",
       "<table border=\"1\" class=\"dataframe\">\n",
       "  <thead>\n",
       "    <tr style=\"text-align: right;\">\n",
       "      <th></th>\n",
       "      <th>Team1</th>\n",
       "      <th>Team2</th>\n",
       "      <th>Team1Score</th>\n",
       "      <th>Team1FGM</th>\n",
       "      <th>Team1FGA</th>\n",
       "      <th>Team1FGM3</th>\n",
       "      <th>Team1FGA3</th>\n",
       "      <th>Team1FTM</th>\n",
       "      <th>Team1FTA</th>\n",
       "      <th>Team1OR</th>\n",
       "      <th>...</th>\n",
       "      <th>Team2FGA3</th>\n",
       "      <th>Team2FTM</th>\n",
       "      <th>Team2FTA</th>\n",
       "      <th>Team2OR</th>\n",
       "      <th>Team2DR</th>\n",
       "      <th>Team2Ast</th>\n",
       "      <th>Team2TO</th>\n",
       "      <th>Team2Stl</th>\n",
       "      <th>Team2Blk</th>\n",
       "      <th>Team2PF</th>\n",
       "    </tr>\n",
       "  </thead>\n",
       "  <tbody>\n",
       "    <tr>\n",
       "      <th>0</th>\n",
       "      <td>1421.0</td>\n",
       "      <td>1411.0</td>\n",
       "      <td>2</td>\n",
       "      <td>2</td>\n",
       "      <td>2</td>\n",
       "      <td>0</td>\n",
       "      <td>1</td>\n",
       "      <td>2</td>\n",
       "      <td>1</td>\n",
       "      <td>1</td>\n",
       "      <td>...</td>\n",
       "      <td>0</td>\n",
       "      <td>3</td>\n",
       "      <td>3</td>\n",
       "      <td>3</td>\n",
       "      <td>3</td>\n",
       "      <td>1</td>\n",
       "      <td>0</td>\n",
       "      <td>2</td>\n",
       "      <td>2</td>\n",
       "      <td>1</td>\n",
       "    </tr>\n",
       "    <tr>\n",
       "      <th>1</th>\n",
       "      <td>1436.0</td>\n",
       "      <td>1112.0</td>\n",
       "      <td>1</td>\n",
       "      <td>1</td>\n",
       "      <td>1</td>\n",
       "      <td>0</td>\n",
       "      <td>0</td>\n",
       "      <td>2</td>\n",
       "      <td>2</td>\n",
       "      <td>1</td>\n",
       "      <td>...</td>\n",
       "      <td>0</td>\n",
       "      <td>3</td>\n",
       "      <td>3</td>\n",
       "      <td>3</td>\n",
       "      <td>3</td>\n",
       "      <td>3</td>\n",
       "      <td>3</td>\n",
       "      <td>1</td>\n",
       "      <td>3</td>\n",
       "      <td>0</td>\n",
       "    </tr>\n",
       "    <tr>\n",
       "      <th>2</th>\n",
       "      <td>1272.0</td>\n",
       "      <td>1113.0</td>\n",
       "      <td>3</td>\n",
       "      <td>3</td>\n",
       "      <td>3</td>\n",
       "      <td>1</td>\n",
       "      <td>1</td>\n",
       "      <td>3</td>\n",
       "      <td>3</td>\n",
       "      <td>3</td>\n",
       "      <td>...</td>\n",
       "      <td>2</td>\n",
       "      <td>2</td>\n",
       "      <td>2</td>\n",
       "      <td>0</td>\n",
       "      <td>2</td>\n",
       "      <td>3</td>\n",
       "      <td>2</td>\n",
       "      <td>1</td>\n",
       "      <td>2</td>\n",
       "      <td>1</td>\n",
       "    </tr>\n",
       "    <tr>\n",
       "      <th>3</th>\n",
       "      <td>1166.0</td>\n",
       "      <td>1141.0</td>\n",
       "      <td>3</td>\n",
       "      <td>3</td>\n",
       "      <td>2</td>\n",
       "      <td>3</td>\n",
       "      <td>2</td>\n",
       "      <td>2</td>\n",
       "      <td>0</td>\n",
       "      <td>0</td>\n",
       "      <td>...</td>\n",
       "      <td>2</td>\n",
       "      <td>2</td>\n",
       "      <td>1</td>\n",
       "      <td>2</td>\n",
       "      <td>0</td>\n",
       "      <td>0</td>\n",
       "      <td>0</td>\n",
       "      <td>2</td>\n",
       "      <td>0</td>\n",
       "      <td>3</td>\n",
       "    </tr>\n",
       "    <tr>\n",
       "      <th>4</th>\n",
       "      <td>1143.0</td>\n",
       "      <td>1301.0</td>\n",
       "      <td>2</td>\n",
       "      <td>2</td>\n",
       "      <td>2</td>\n",
       "      <td>0</td>\n",
       "      <td>0</td>\n",
       "      <td>2</td>\n",
       "      <td>1</td>\n",
       "      <td>1</td>\n",
       "      <td>...</td>\n",
       "      <td>1</td>\n",
       "      <td>2</td>\n",
       "      <td>2</td>\n",
       "      <td>2</td>\n",
       "      <td>3</td>\n",
       "      <td>3</td>\n",
       "      <td>3</td>\n",
       "      <td>1</td>\n",
       "      <td>3</td>\n",
       "      <td>0</td>\n",
       "    </tr>\n",
       "  </tbody>\n",
       "</table>\n",
       "<p>5 rows × 30 columns</p>\n",
       "</div>"
      ],
      "text/plain": [
       "    Team1   Team2  Team1Score  Team1FGM  Team1FGA  Team1FGM3  Team1FGA3  \\\n",
       "0  1421.0  1411.0           2         2         2          0          1   \n",
       "1  1436.0  1112.0           1         1         1          0          0   \n",
       "2  1272.0  1113.0           3         3         3          1          1   \n",
       "3  1166.0  1141.0           3         3         2          3          2   \n",
       "4  1143.0  1301.0           2         2         2          0          0   \n",
       "\n",
       "   Team1FTM  Team1FTA  Team1OR  ...  Team2FGA3  Team2FTM  Team2FTA  Team2OR  \\\n",
       "0         2         1        1  ...          0         3         3        3   \n",
       "1         2         2        1  ...          0         3         3        3   \n",
       "2         3         3        3  ...          2         2         2        0   \n",
       "3         2         0        0  ...          2         2         1        2   \n",
       "4         2         1        1  ...          1         2         2        2   \n",
       "\n",
       "   Team2DR  Team2Ast  Team2TO  Team2Stl  Team2Blk  Team2PF  \n",
       "0        3         1        0         2         2        1  \n",
       "1        3         3        3         1         3        0  \n",
       "2        2         3        2         1         2        1  \n",
       "3        0         0        0         2         0        3  \n",
       "4        3         3        3         1         3        0  \n",
       "\n",
       "[5 rows x 30 columns]"
      ]
     },
     "execution_count": 2,
     "metadata": {},
     "output_type": "execute_result"
    }
   ],
   "source": [
    "df = pd.read_csv('ncaa_matches_binned.csv')\n",
    "Labels = df['Win']\n",
    "df.drop(df.columns[0], axis=1, inplace=True)\n",
    "df.drop(['Win'], axis=1, inplace=True)\n",
    "Features = np.array(df)\n",
    "print(Features.shape)\n",
    "df.head()"
   ]
  },
  {
   "cell_type": "code",
   "execution_count": 3,
   "metadata": {},
   "outputs": [],
   "source": [
    "# Randomly sample cases to create independent training and test data\n",
    "nr.seed(1115)\n",
    "indx = range(Features.shape[0])\n",
    "indx = ms.train_test_split(indx, test_size = 5000)\n",
    "X_train = Features[indx[0],:]\n",
    "y_train = np.ravel(Labels[indx[0]])\n",
    "X_test = Features[indx[1],:]\n",
    "y_test = np.ravel(Labels[indx[1]])"
   ]
  },
  {
   "cell_type": "code",
   "execution_count": 4,
   "metadata": {
    "scrolled": true
   },
   "outputs": [
    {
     "name": "stdout",
     "output_type": "stream",
     "text": [
      "(82504, 30)\n"
     ]
    },
    {
     "data": {
      "text/plain": [
       "array([[0.56712329, 0.56438356, 0.66666667, 1.        , 0.66666667,\n",
       "        0.        , 0.        , 1.        , 1.        , 1.        ,\n",
       "        1.        , 0.66666667, 0.        , 0.        , 1.        ,\n",
       "        0.        , 0.66666667, 0.33333333, 0.33333333, 0.66666667,\n",
       "        1.        , 1.        , 1.        , 0.        , 1.        ,\n",
       "        1.        , 1.        , 0.25      , 0.66666667, 0.33333333],\n",
       "       [0.82739726, 0.62465753, 0.66666667, 0.66666667, 0.66666667,\n",
       "        0.        , 0.        , 1.        , 0.66666667, 0.        ,\n",
       "        0.33333333, 0.66666667, 0.66666667, 0.5       , 0.66666667,\n",
       "        0.33333333, 0.66666667, 0.66666667, 0.66666667, 0.33333333,\n",
       "        0.5       , 1.        , 1.        , 0.33333333, 0.66666667,\n",
       "        0.66666667, 0.66666667, 1.        , 1.        , 0.66666667],\n",
       "       [0.6630137 , 0.16712329, 0.        , 0.        , 0.        ,\n",
       "        1.        , 1.        , 0.        , 0.        , 0.        ,\n",
       "        0.        , 0.33333333, 1.        , 0.25      , 0.        ,\n",
       "        0.        , 0.        , 0.        , 0.        , 0.66666667,\n",
       "        0.5       , 0.        , 0.        , 0.        , 0.66666667,\n",
       "        0.33333333, 0.33333333, 0.25      , 0.        , 0.66666667],\n",
       "       [0.20547945, 0.16164384, 0.33333333, 0.        , 0.        ,\n",
       "        0.66666667, 0.5       , 0.        , 0.        , 0.        ,\n",
       "        0.        , 1.        , 0.66666667, 0.25      , 0.66666667,\n",
       "        0.33333333, 0.66666667, 0.66666667, 0.66666667, 0.        ,\n",
       "        0.5       , 1.        , 1.        , 0.66666667, 1.        ,\n",
       "        0.66666667, 0.33333333, 0.25      , 1.        , 0.33333333],\n",
       "       [0.11506849, 0.01917808, 0.66666667, 0.66666667, 0.66666667,\n",
       "        0.        , 0.        , 0.66666667, 0.33333333, 0.33333333,\n",
       "        1.        , 1.        , 1.        , 0.        , 0.66666667,\n",
       "        0.        , 0.        , 0.        , 0.66666667, 0.        ,\n",
       "        0.        , 0.66666667, 0.66666667, 0.33333333, 0.33333333,\n",
       "        0.        , 0.        , 0.5       , 0.66666667, 1.        ]])"
      ]
     },
     "execution_count": 4,
     "metadata": {},
     "output_type": "execute_result"
    }
   ],
   "source": [
    "# Rescale numeric features\n",
    "scaler = preprocessing.MinMaxScaler().fit(X_train)\n",
    "X_train = scaler.transform(X_train)\n",
    "X_test = scaler.transform(X_test)\n",
    "print(X_train.shape)\n",
    "X_train[:5,:]"
   ]
  },
  {
   "cell_type": "code",
   "execution_count": 5,
   "metadata": {},
   "outputs": [],
   "source": [
    "# I tried a alot of different neural network structures this one is one of the best. \n",
    "# More complext networks are all slightly worse than this one.\n",
    "activation_fn = tf.nn.relu"
   ]
  },
  {
   "cell_type": "code",
   "execution_count": 22,
   "metadata": {},
   "outputs": [],
   "source": [
    "nr.seed(1115)\n",
    "inputs = tf.keras.Input(shape=(X_train.shape[1], ))  # Returns an input placeholder\n",
    "\n",
    "# A layer instance is callable on a tensor, and returns a tensor.\n",
    "x = tf.keras.layers.Dense(256, activation=activation_fn)(inputs)\n",
    "x = tf.keras.layers.Dense(256, activation=activation_fn)(x)\n",
    "x = tf.keras.layers.Dense(256, activation=activation_fn)(x)\n",
    "x = tf.keras.layers.Dropout(0.2)(x)\n",
    "outputs = tf.keras.layers.Dense(1, activation=tf.keras.activations.sigmoid)(x)\n",
    "\n",
    "model = tf.keras.Model(inputs=inputs, outputs=outputs)\n",
    "\n",
    "model.compile(optimizer='adam',\n",
    "              loss=tf.keras.losses.BinaryCrossentropy(),\n",
    "              metrics=['accuracy', 'AUC', 'Precision', 'Recall'])\n"
   ]
  },
  {
   "cell_type": "code",
   "execution_count": 23,
   "metadata": {},
   "outputs": [
    {
     "name": "stdout",
     "output_type": "stream",
     "text": [
      "Train on 66003 samples, validate on 16501 samples\n",
      "Epoch 1/10\n",
      "66003/66003 [==============================] - 7s 99us/sample - loss: 0.6316 - accuracy: 0.6338 - AUC: 0.6911 - Precision: 0.6325 - Recall: 0.6343 - val_loss: 0.6221 - val_accuracy: 0.6417 - val_AUC: 0.7036 - val_Precision: 0.6491 - val_Recall: 0.6223\n",
      "Epoch 2/10\n",
      "66003/66003 [==============================] - 5s 76us/sample - loss: 0.6258 - accuracy: 0.6417 - AUC: 0.6990 - Precision: 0.6393 - Recall: 0.6461 - val_loss: 0.6263 - val_accuracy: 0.6346 - val_AUC: 0.7034 - val_Precision: 0.6829 - val_Recall: 0.5075\n",
      "Epoch 3/10\n",
      "66003/66003 [==============================] - 5s 75us/sample - loss: 0.6230 - accuracy: 0.6414 - AUC: 0.7018 - Precision: 0.6380 - Recall: 0.6493 - val_loss: 0.6186 - val_accuracy: 0.6460 - val_AUC: 0.7084 - val_Precision: 0.6323 - val_Recall: 0.7039\n",
      "Epoch 4/10\n",
      "66003/66003 [==============================] - 5s 80us/sample - loss: 0.6205 - accuracy: 0.6463 - AUC: 0.7059 - Precision: 0.6435 - Recall: 0.6515 - val_loss: 0.6206 - val_accuracy: 0.6489 - val_AUC: 0.7090 - val_Precision: 0.6404 - val_Recall: 0.6847\n",
      "Epoch 5/10\n",
      "66003/66003 [==============================] - 5s 74us/sample - loss: 0.6184 - accuracy: 0.6478 - AUC: 0.7083 - Precision: 0.6452 - Recall: 0.6526 - val_loss: 0.6249 - val_accuracy: 0.6461 - val_AUC: 0.7063 - val_Precision: 0.6413 - val_Recall: 0.6691\n",
      "Epoch 6/10\n",
      "66003/66003 [==============================] - 5s 75us/sample - loss: 0.6147 - accuracy: 0.6494 - AUC: 0.7134 - Precision: 0.6482 - Recall: 0.6491 - val_loss: 0.6175 - val_accuracy: 0.6455 - val_AUC: 0.7124 - val_Precision: 0.6243 - val_Recall: 0.7373\n",
      "Epoch 7/10\n",
      "66003/66003 [==============================] - 5s 74us/sample - loss: 0.6121 - accuracy: 0.6532 - AUC: 0.7164 - Precision: 0.6509 - Recall: 0.6568 - val_loss: 0.6167 - val_accuracy: 0.6474 - val_AUC: 0.7097 - val_Precision: 0.6524 - val_Recall: 0.6361\n",
      "Epoch 8/10\n",
      "66003/66003 [==============================] - 5s 75us/sample - loss: 0.6103 - accuracy: 0.6549 - AUC: 0.7190 - Precision: 0.6529 - Recall: 0.6576 - val_loss: 0.6148 - val_accuracy: 0.6509 - val_AUC: 0.7132 - val_Precision: 0.6365 - val_Recall: 0.7093\n",
      "Epoch 9/10\n",
      "66003/66003 [==============================] - 5s 75us/sample - loss: 0.6081 - accuracy: 0.6549 - AUC: 0.7216 - Precision: 0.6516 - Recall: 0.6619 - val_loss: 0.6179 - val_accuracy: 0.6472 - val_AUC: 0.7100 - val_Precision: 0.6397 - val_Recall: 0.6801\n",
      "Epoch 10/10\n",
      "66003/66003 [==============================] - 5s 74us/sample - loss: 0.6061 - accuracy: 0.6572 - AUC: 0.7243 - Precision: 0.6536 - Recall: 0.6649 - val_loss: 0.6139 - val_accuracy: 0.6466 - val_AUC: 0.7138 - val_Precision: 0.6286 - val_Recall: 0.7229\n",
      "5000/1 - 0s - loss: 0.6055 - accuracy: 0.6474 - AUC: 0.7116 - Precision: 0.6303 - Recall: 0.7199\n"
     ]
    },
    {
     "data": {
      "text/plain": [
       "[0.6149863168716431, 0.6474, 0.71159357, 0.63027555, 0.71992034]"
      ]
     },
     "execution_count": 23,
     "metadata": {},
     "output_type": "execute_result"
    }
   ],
   "source": [
    "model.fit(X_train, y_train, epochs=10, validation_split=0.2)\n",
    "\n",
    "model.evaluate(X_test,  y_test, verbose=2)"
   ]
  },
  {
   "cell_type": "code",
   "execution_count": 24,
   "metadata": {},
   "outputs": [
    {
     "name": "stdout",
     "output_type": "stream",
     "text": [
      "Model: \"model_4\"\n",
      "_________________________________________________________________\n",
      "Layer (type)                 Output Shape              Param #   \n",
      "=================================================================\n",
      "input_5 (InputLayer)         [(None, 30)]              0         \n",
      "_________________________________________________________________\n",
      "dense_16 (Dense)             (None, 256)               7936      \n",
      "_________________________________________________________________\n",
      "dense_17 (Dense)             (None, 256)               65792     \n",
      "_________________________________________________________________\n",
      "dense_18 (Dense)             (None, 256)               65792     \n",
      "_________________________________________________________________\n",
      "dropout_1 (Dropout)          (None, 256)               0         \n",
      "_________________________________________________________________\n",
      "dense_19 (Dense)             (None, 1)                 257       \n",
      "=================================================================\n",
      "Total params: 139,777\n",
      "Trainable params: 139,777\n",
      "Non-trainable params: 0\n",
      "_________________________________________________________________\n"
     ]
    }
   ],
   "source": [
    "model.summary()"
   ]
  },
  {
   "cell_type": "code",
   "execution_count": 25,
   "metadata": {},
   "outputs": [
    {
     "data": {
      "image/png": "[encoded data removed]",
      "text/plain": [
       "<IPython.core.display.Image object>"
      ]
     },
     "execution_count": 25,
     "metadata": {},
     "output_type": "execute_result"
    }
   ],
   "source": [
    "tf.keras.utils.plot_model(model, 'neural_network_shape_info.png', show_shapes=True)"
   ]
  },
  {
   "cell_type": "code",
   "execution_count": null,
   "metadata": {},
   "outputs": [],
   "source": []
  }
 ],
 "metadata": {
  "kernelspec": {
   "display_name": "Python 3",
   "language": "python",
   "name": "python3"
  },
  "language_info": {
   "codemirror_mode": {
    "name": "ipython",
    "version": 3
   },
   "file_extension": ".py",
   "mimetype": "text/x-python",
   "name": "python",
   "nbconvert_exporter": "python",
   "pygments_lexer": "ipython3",
   "version": "3.7.3"
  }
 },
 "nbformat": 4,
 "nbformat_minor": 2
}
