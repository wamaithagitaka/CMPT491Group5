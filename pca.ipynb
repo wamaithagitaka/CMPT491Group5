{
 "cells": [
  {
   "cell_type": "code",
   "execution_count": 1,
   "metadata": {},
   "outputs": [],
   "source": [
    "import pandas as pd\n",
    "import numpy as np\n",
    "from pandas.plotting import scatter_matrix\n",
    "import itertools\n",
    "import matplotlib.pyplot as plt\n",
    "\n",
    "%matplotlib inline\n",
    "import sklearn.decomposition as skde"
   ]
  },
  {
   "cell_type": "code",
   "execution_count": 2,
   "metadata": {},
   "outputs": [
    {
     "name": "stdout",
     "output_type": "stream",
     "text": [
      "Reading file data/fbpac-ads-en-US-cleaned.csv... done\n"
     ]
    }
   ],
   "source": [
    "filebase = 'data/fbpac-ads-en-US-cleaned'\n",
    "\n",
    "print(f'Reading file {filebase}.csv...', end='', flush=True)\n",
    "df = pd.read_csv(filebase + '.csv')\n",
    "print(' done')"
   ]
  },
  {
   "cell_type": "code",
   "execution_count": 3,
   "metadata": {},
   "outputs": [
    {
     "name": "stdout",
     "output_type": "stream",
     "text": [
      "(5731, 19)\n"
     ]
    },
    {
     "data": {
      "text/html": [
       "<div>\n",
       "<style scoped>\n",
       "    .dataframe tbody tr th:only-of-type {\n",
       "        vertical-align: middle;\n",
       "    }\n",
       "\n",
       "    .dataframe tbody tr th {\n",
       "        vertical-align: top;\n",
       "    }\n",
       "\n",
       "    .dataframe thead th {\n",
       "        text-align: right;\n",
       "    }\n",
       "</style>\n",
       "<table border=\"1\" class=\"dataframe\">\n",
       "  <thead>\n",
       "    <tr style=\"text-align: right;\">\n",
       "      <th></th>\n",
       "      <th>political</th>\n",
       "      <th>not_political</th>\n",
       "      <th>impressions</th>\n",
       "      <th>political_probability</th>\n",
       "      <th>targetedness</th>\n",
       "      <th>listbuilding_fundraising_proba</th>\n",
       "      <th>Activity on the Facebook Family</th>\n",
       "      <th>MaxAge</th>\n",
       "      <th>Like</th>\n",
       "      <th>MinAge</th>\n",
       "      <th>Created_At_Year</th>\n",
       "      <th>Created_At_Month</th>\n",
       "      <th>Updated_At_Year</th>\n",
       "      <th>Updated_At_Month</th>\n",
       "      <th>political_probability_int</th>\n",
       "      <th>fundraising_proba_int</th>\n",
       "      <th>is_political</th>\n",
       "      <th>is_not_political</th>\n",
       "      <th>is_impressions</th>\n",
       "    </tr>\n",
       "  </thead>\n",
       "  <tbody>\n",
       "    <tr>\n",
       "      <th>44</th>\n",
       "      <td>0</td>\n",
       "      <td>1</td>\n",
       "      <td>1</td>\n",
       "      <td>0.808638</td>\n",
       "      <td>5.0</td>\n",
       "      <td>0.226403</td>\n",
       "      <td>0</td>\n",
       "      <td>29.0</td>\n",
       "      <td>0</td>\n",
       "      <td>15.0</td>\n",
       "      <td>2017</td>\n",
       "      <td>12</td>\n",
       "      <td>2017</td>\n",
       "      <td>12</td>\n",
       "      <td>7</td>\n",
       "      <td>1.0</td>\n",
       "      <td>0</td>\n",
       "      <td>1</td>\n",
       "      <td>1</td>\n",
       "    </tr>\n",
       "    <tr>\n",
       "      <th>82</th>\n",
       "      <td>18</td>\n",
       "      <td>1</td>\n",
       "      <td>1</td>\n",
       "      <td>0.997653</td>\n",
       "      <td>5.0</td>\n",
       "      <td>0.167494</td>\n",
       "      <td>0</td>\n",
       "      <td>29.0</td>\n",
       "      <td>0</td>\n",
       "      <td>18.0</td>\n",
       "      <td>2018</td>\n",
       "      <td>11</td>\n",
       "      <td>2018</td>\n",
       "      <td>11</td>\n",
       "      <td>8</td>\n",
       "      <td>0.0</td>\n",
       "      <td>1</td>\n",
       "      <td>0</td>\n",
       "      <td>1</td>\n",
       "    </tr>\n",
       "    <tr>\n",
       "      <th>91</th>\n",
       "      <td>1</td>\n",
       "      <td>0</td>\n",
       "      <td>1</td>\n",
       "      <td>0.999991</td>\n",
       "      <td>9.0</td>\n",
       "      <td>0.871742</td>\n",
       "      <td>0</td>\n",
       "      <td>49.0</td>\n",
       "      <td>0</td>\n",
       "      <td>34.0</td>\n",
       "      <td>2018</td>\n",
       "      <td>10</td>\n",
       "      <td>2018</td>\n",
       "      <td>10</td>\n",
       "      <td>8</td>\n",
       "      <td>7.0</td>\n",
       "      <td>1</td>\n",
       "      <td>0</td>\n",
       "      <td>1</td>\n",
       "    </tr>\n",
       "    <tr>\n",
       "      <th>95</th>\n",
       "      <td>1</td>\n",
       "      <td>4</td>\n",
       "      <td>3</td>\n",
       "      <td>0.885469</td>\n",
       "      <td>4.0</td>\n",
       "      <td>0.352562</td>\n",
       "      <td>0</td>\n",
       "      <td>64.0</td>\n",
       "      <td>0</td>\n",
       "      <td>25.0</td>\n",
       "      <td>2019</td>\n",
       "      <td>1</td>\n",
       "      <td>2019</td>\n",
       "      <td>1</td>\n",
       "      <td>7</td>\n",
       "      <td>2.0</td>\n",
       "      <td>0</td>\n",
       "      <td>1</td>\n",
       "      <td>1</td>\n",
       "    </tr>\n",
       "    <tr>\n",
       "      <th>98</th>\n",
       "      <td>10</td>\n",
       "      <td>1</td>\n",
       "      <td>1</td>\n",
       "      <td>1.000000</td>\n",
       "      <td>2.0</td>\n",
       "      <td>0.296376</td>\n",
       "      <td>0</td>\n",
       "      <td>35.0</td>\n",
       "      <td>0</td>\n",
       "      <td>18.0</td>\n",
       "      <td>2018</td>\n",
       "      <td>11</td>\n",
       "      <td>2018</td>\n",
       "      <td>11</td>\n",
       "      <td>8</td>\n",
       "      <td>1.0</td>\n",
       "      <td>1</td>\n",
       "      <td>0</td>\n",
       "      <td>1</td>\n",
       "    </tr>\n",
       "  </tbody>\n",
       "</table>\n",
       "</div>"
      ],
      "text/plain": [
       "    political  not_political  impressions  political_probability  \\\n",
       "44          0              1            1               0.808638   \n",
       "82         18              1            1               0.997653   \n",
       "91          1              0            1               0.999991   \n",
       "95          1              4            3               0.885469   \n",
       "98         10              1            1               1.000000   \n",
       "\n",
       "    targetedness  listbuilding_fundraising_proba  \\\n",
       "44           5.0                        0.226403   \n",
       "82           5.0                        0.167494   \n",
       "91           9.0                        0.871742   \n",
       "95           4.0                        0.352562   \n",
       "98           2.0                        0.296376   \n",
       "\n",
       "    Activity on the Facebook Family  MaxAge  Like  MinAge  Created_At_Year  \\\n",
       "44                                0    29.0     0    15.0             2017   \n",
       "82                                0    29.0     0    18.0             2018   \n",
       "91                                0    49.0     0    34.0             2018   \n",
       "95                                0    64.0     0    25.0             2019   \n",
       "98                                0    35.0     0    18.0             2018   \n",
       "\n",
       "    Created_At_Month  Updated_At_Year  Updated_At_Month  \\\n",
       "44                12             2017                12   \n",
       "82                11             2018                11   \n",
       "91                10             2018                10   \n",
       "95                 1             2019                 1   \n",
       "98                11             2018                11   \n",
       "\n",
       "    political_probability_int  fundraising_proba_int  is_political  \\\n",
       "44                          7                    1.0             0   \n",
       "82                          8                    0.0             1   \n",
       "91                          8                    7.0             1   \n",
       "95                          7                    2.0             0   \n",
       "98                          8                    1.0             1   \n",
       "\n",
       "    is_not_political  is_impressions  \n",
       "44                 1               1  \n",
       "82                 0               1  \n",
       "91                 0               1  \n",
       "95                 1               1  \n",
       "98                 0               1  "
      ]
     },
     "execution_count": 3,
     "metadata": {},
     "output_type": "execute_result"
    }
   ],
   "source": [
    "numerics = ['int16', 'int32', 'int64', 'float16', 'float32', 'float64']\n",
    "\n",
    "df2 = pd.DataFrame(df.select_dtypes(include=numerics))\n",
    "df2 = df2.dropna()\n",
    "print(df2.shape)\n",
    "df2.head()"
   ]
  },
  {
   "cell_type": "code",
   "execution_count": 4,
   "metadata": {},
   "outputs": [
    {
     "data": {
      "text/plain": [
       "PCA(copy=True, iterated_power='auto', n_components=None, random_state=None,\n",
       "    svd_solver='auto', tol=0.0, whiten=False)"
      ]
     },
     "execution_count": 4,
     "metadata": {},
     "output_type": "execute_result"
    }
   ],
   "source": [
    "pca_mod = skde.PCA()\n",
    "pca_comps = pca_mod.fit(df2)\n",
    "pca_comps"
   ]
  },
  {
   "cell_type": "code",
   "execution_count": 5,
   "metadata": {},
   "outputs": [
    {
     "name": "stdout",
     "output_type": "stream",
     "text": [
      "[5.01745931e-01 2.40567655e-01 1.67104366e-01 5.89422264e-02\n",
      " 1.19657597e-02 8.82222014e-03 5.01026535e-03 3.66508124e-03\n",
      " 1.55590465e-03 2.66624031e-04 1.59333233e-04 1.18529630e-04\n",
      " 4.35192618e-05 1.49730024e-05 1.05996123e-05 3.22831281e-06\n",
      " 2.38220893e-06 9.42165866e-07 4.59342586e-07]\n",
      "1.0\n"
     ]
    }
   ],
   "source": [
    "print(pca_comps.explained_variance_ratio_)\n",
    "print(np.sum(pca_comps.explained_variance_ratio_))"
   ]
  },
  {
   "cell_type": "code",
   "execution_count": 6,
   "metadata": {},
   "outputs": [
    {
     "data": {
      "image/png": "[encoded data removed]",
      "text/plain": [
       "<Figure size 432x288 with 1 Axes>"
      ]
     },
     "metadata": {
      "needs_background": "light"
     },
     "output_type": "display_data"
    }
   ],
   "source": [
    "def plot_explained(mod):\n",
    "    comps = mod.explained_variance_ratio_\n",
    "    x = range(len(comps))\n",
    "    x = [y + 1 for y in x]          \n",
    "    plt.plot(x,comps)\n",
    "\n",
    "plot_explained(pca_comps)"
   ]
  },
  {
   "cell_type": "code",
   "execution_count": 7,
   "metadata": {},
   "outputs": [
    {
     "data": {
      "text/plain": [
       "<matplotlib.axes._subplots.AxesSubplot at 0x1a1e853898>"
      ]
     },
     "execution_count": 7,
     "metadata": {},
     "output_type": "execute_result"
    },
    {
     "data": {
      "image/png": "[encoded data removed]",
      "text/plain": [
       "<Figure size 432x288 with 1 Axes>"
      ]
     },
     "metadata": {
      "needs_background": "light"
     },
     "output_type": "display_data"
    }
   ],
   "source": [
    "(pd.Series(pca_comps.explained_variance_ratio_, index=df2.columns)\n",
    "   .nlargest(12)\n",
    "   .plot(kind='barh')) "
   ]
  },
  {
   "cell_type": "code",
   "execution_count": null,
   "metadata": {},
   "outputs": [],
   "source": []
  }
 ],
 "metadata": {
  "kernelspec": {
   "display_name": "Python 3",
   "language": "python",
   "name": "python3"
  },
  "language_info": {
   "codemirror_mode": {
    "name": "ipython",
    "version": 3
   },
   "file_extension": ".py",
   "mimetype": "text/x-python",
   "name": "python",
   "nbconvert_exporter": "python",
   "pygments_lexer": "ipython3",
   "version": "3.7.3"
  }
 },
 "nbformat": 4,
 "nbformat_minor": 2
}
