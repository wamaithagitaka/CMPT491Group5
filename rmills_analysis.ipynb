{
 "cells": [
  {
   "cell_type": "code",
   "execution_count": 1,
   "metadata": {},
   "outputs": [],
   "source": [
    "import pandas as pd\n",
    "import numpy as np"
   ]
  },
  {
   "cell_type": "code",
   "execution_count": 2,
   "metadata": {},
   "outputs": [
    {
     "name": "stderr",
     "output_type": "stream",
     "text": [
      "/usr/lib/python3.7/site-packages/IPython/core/interactiveshell.py:3058: DtypeWarning: Columns (0,1,6,10,38,40,44,45,46,47,48,49,52,53) have mixed types. Specify dtype option on import or set low_memory=False.\n",
      "  interactivity=interactivity, compiler=compiler, result=result)\n"
     ]
    },
    {
     "data": {
      "text/plain": [
       "(87504, 56)"
      ]
     },
     "execution_count": 2,
     "metadata": {},
     "output_type": "execute_result"
    }
   ],
   "source": [
    "df = pd.read_csv('data/ncaa_dataset_outer_join.csv')\n",
    "df.shape"
   ]
  },
  {
   "cell_type": "code",
   "execution_count": 3,
   "metadata": {},
   "outputs": [],
   "source": [
    "common_columns = [\n",
    "    'Assists',\n",
    "    'Blocks',\n",
    "    'DefensiveRebounds',\n",
    "    'FieldGoalsAttempted',\n",
    "    'FieldGoalsMade',\n",
    "    'FreeThrowsAttempted',\n",
    "    'FreeThrowsMade',\n",
    "    'OffensiveRebounds',\n",
    "    'PersonalFouls',\n",
    "    'Score',\n",
    "    'Steals',\n",
    "    'ThreePointersAttempted',\n",
    "    'ThreePointersMade',\n",
    "    'Turnovers',\n",
    "]\n",
    "\n",
    "team1_columns = []\n",
    "team2_columns = []\n",
    "\n",
    "for column in common_columns:\n",
    "    team1_columns.append(f'Team1{column}')\n",
    "    team2_columns.append(f'Team2{column}')"
   ]
  },
  {
   "cell_type": "code",
   "execution_count": 4,
   "metadata": {},
   "outputs": [],
   "source": [
    "teams_dict = {}\n",
    "n = df.shape[0]\n",
    "\n",
    "for column in team1_columns + team2_columns:\n",
    "    teams_dict[column] = [''] * n\n",
    "teams_dict['Win'] = [''] * n"
   ]
  },
  {
   "cell_type": "code",
   "execution_count": 7,
   "metadata": {},
   "outputs": [],
   "source": [
    "import random\n",
    "\n",
    "for i, game in df.iterrows():\n",
    "    team1 = random.choice(['W', 'L'])\n",
    "    if team1 == 'W':\n",
    "        team2 = 'L'\n",
    "        teams_dict['Win'][i] = 1\n",
    "    else:\n",
    "        team2 = 'W'\n",
    "        teams_dict['Win'][i] = 0\n",
    "        \n",
    "    for column in common_columns:\n",
    "        teams_dict[f'Team1{column}'][i] = game[f'{team1}{column}']\n",
    "        teams_dict[f'Team2{column}'][i] = game[f'{team2}{column}']"
   ]
  },
  {
   "cell_type": "code",
   "execution_count": 8,
   "metadata": {},
   "outputs": [
    {
     "data": {
      "text/html": [
       "<div>\n",
       "<style scoped>\n",
       "    .dataframe tbody tr th:only-of-type {\n",
       "        vertical-align: middle;\n",
       "    }\n",
       "\n",
       "    .dataframe tbody tr th {\n",
       "        vertical-align: top;\n",
       "    }\n",
       "\n",
       "    .dataframe thead th {\n",
       "        text-align: right;\n",
       "    }\n",
       "</style>\n",
       "<table border=\"1\" class=\"dataframe\">\n",
       "  <thead>\n",
       "    <tr style=\"text-align: right;\">\n",
       "      <th></th>\n",
       "      <th>Team1Assists</th>\n",
       "      <th>Team1Blocks</th>\n",
       "      <th>Team1DefensiveRebounds</th>\n",
       "      <th>Team1FieldGoalsAttempted</th>\n",
       "      <th>Team1FieldGoalsMade</th>\n",
       "      <th>Team1FreeThrowsAttempted</th>\n",
       "      <th>Team1FreeThrowsMade</th>\n",
       "      <th>Team1OffensiveRebounds</th>\n",
       "      <th>Team1PersonalFouls</th>\n",
       "      <th>Team1Score</th>\n",
       "      <th>...</th>\n",
       "      <th>Team2FreeThrowsAttempted</th>\n",
       "      <th>Team2FreeThrowsMade</th>\n",
       "      <th>Team2OffensiveRebounds</th>\n",
       "      <th>Team2PersonalFouls</th>\n",
       "      <th>Team2Score</th>\n",
       "      <th>Team2Steals</th>\n",
       "      <th>Team2ThreePointersAttempted</th>\n",
       "      <th>Team2ThreePointersMade</th>\n",
       "      <th>Team2Turnovers</th>\n",
       "      <th>Win</th>\n",
       "    </tr>\n",
       "  </thead>\n",
       "  <tbody>\n",
       "    <tr>\n",
       "      <th>0</th>\n",
       "      <td>16.0</td>\n",
       "      <td>0.0</td>\n",
       "      <td>28.0</td>\n",
       "      <td>67.0</td>\n",
       "      <td>29.0</td>\n",
       "      <td>31.0</td>\n",
       "      <td>14.0</td>\n",
       "      <td>17.0</td>\n",
       "      <td>22.0</td>\n",
       "      <td>84.0</td>\n",
       "      <td>...</td>\n",
       "      <td>26.0</td>\n",
       "      <td>17.0</td>\n",
       "      <td>14.0</td>\n",
       "      <td>22.0</td>\n",
       "      <td>92.0</td>\n",
       "      <td>5.0</td>\n",
       "      <td>29.0</td>\n",
       "      <td>11.0</td>\n",
       "      <td>12.0</td>\n",
       "      <td>0</td>\n",
       "    </tr>\n",
       "    <tr>\n",
       "      <th>1</th>\n",
       "      <td>22.0</td>\n",
       "      <td>7.0</td>\n",
       "      <td>36.0</td>\n",
       "      <td>66.0</td>\n",
       "      <td>31.0</td>\n",
       "      <td>14.0</td>\n",
       "      <td>11.0</td>\n",
       "      <td>11.0</td>\n",
       "      <td>8.0</td>\n",
       "      <td>80.0</td>\n",
       "      <td>...</td>\n",
       "      <td>7.0</td>\n",
       "      <td>7.0</td>\n",
       "      <td>8.0</td>\n",
       "      <td>15.0</td>\n",
       "      <td>51.0</td>\n",
       "      <td>10.0</td>\n",
       "      <td>16.0</td>\n",
       "      <td>4.0</td>\n",
       "      <td>17.0</td>\n",
       "      <td>1</td>\n",
       "    </tr>\n",
       "    <tr>\n",
       "      <th>2</th>\n",
       "      <td>11.0</td>\n",
       "      <td>5.0</td>\n",
       "      <td>22.0</td>\n",
       "      <td>69.0</td>\n",
       "      <td>25.0</td>\n",
       "      <td>21.0</td>\n",
       "      <td>14.0</td>\n",
       "      <td>20.0</td>\n",
       "      <td>18.0</td>\n",
       "      <td>71.0</td>\n",
       "      <td>...</td>\n",
       "      <td>22.0</td>\n",
       "      <td>16.0</td>\n",
       "      <td>10.0</td>\n",
       "      <td>19.0</td>\n",
       "      <td>84.0</td>\n",
       "      <td>7.0</td>\n",
       "      <td>14.0</td>\n",
       "      <td>6.0</td>\n",
       "      <td>9.0</td>\n",
       "      <td>0</td>\n",
       "    </tr>\n",
       "    <tr>\n",
       "      <th>3</th>\n",
       "      <td>20.0</td>\n",
       "      <td>6.0</td>\n",
       "      <td>17.0</td>\n",
       "      <td>60.0</td>\n",
       "      <td>27.0</td>\n",
       "      <td>17.0</td>\n",
       "      <td>12.0</td>\n",
       "      <td>14.0</td>\n",
       "      <td>21.0</td>\n",
       "      <td>73.0</td>\n",
       "      <td>...</td>\n",
       "      <td>25.0</td>\n",
       "      <td>18.0</td>\n",
       "      <td>11.0</td>\n",
       "      <td>19.0</td>\n",
       "      <td>79.0</td>\n",
       "      <td>13.0</td>\n",
       "      <td>7.0</td>\n",
       "      <td>3.0</td>\n",
       "      <td>18.0</td>\n",
       "      <td>0</td>\n",
       "    </tr>\n",
       "    <tr>\n",
       "      <th>4</th>\n",
       "      <td>17.0</td>\n",
       "      <td>2.0</td>\n",
       "      <td>20.0</td>\n",
       "      <td>64.0</td>\n",
       "      <td>27.0</td>\n",
       "      <td>23.0</td>\n",
       "      <td>15.0</td>\n",
       "      <td>18.0</td>\n",
       "      <td>14.0</td>\n",
       "      <td>76.0</td>\n",
       "      <td>...</td>\n",
       "      <td>20.0</td>\n",
       "      <td>15.0</td>\n",
       "      <td>10.0</td>\n",
       "      <td>19.0</td>\n",
       "      <td>74.0</td>\n",
       "      <td>5.0</td>\n",
       "      <td>21.0</td>\n",
       "      <td>9.0</td>\n",
       "      <td>14.0</td>\n",
       "      <td>1</td>\n",
       "    </tr>\n",
       "  </tbody>\n",
       "</table>\n",
       "<p>5 rows × 29 columns</p>\n",
       "</div>"
      ],
      "text/plain": [
       "   Team1Assists  Team1Blocks  Team1DefensiveRebounds  \\\n",
       "0          16.0          0.0                    28.0   \n",
       "1          22.0          7.0                    36.0   \n",
       "2          11.0          5.0                    22.0   \n",
       "3          20.0          6.0                    17.0   \n",
       "4          17.0          2.0                    20.0   \n",
       "\n",
       "   Team1FieldGoalsAttempted  Team1FieldGoalsMade  Team1FreeThrowsAttempted  \\\n",
       "0                      67.0                 29.0                      31.0   \n",
       "1                      66.0                 31.0                      14.0   \n",
       "2                      69.0                 25.0                      21.0   \n",
       "3                      60.0                 27.0                      17.0   \n",
       "4                      64.0                 27.0                      23.0   \n",
       "\n",
       "   Team1FreeThrowsMade  Team1OffensiveRebounds  Team1PersonalFouls  \\\n",
       "0                 14.0                    17.0                22.0   \n",
       "1                 11.0                    11.0                 8.0   \n",
       "2                 14.0                    20.0                18.0   \n",
       "3                 12.0                    14.0                21.0   \n",
       "4                 15.0                    18.0                14.0   \n",
       "\n",
       "   Team1Score  ...  Team2FreeThrowsAttempted  Team2FreeThrowsMade  \\\n",
       "0        84.0  ...                      26.0                 17.0   \n",
       "1        80.0  ...                       7.0                  7.0   \n",
       "2        71.0  ...                      22.0                 16.0   \n",
       "3        73.0  ...                      25.0                 18.0   \n",
       "4        76.0  ...                      20.0                 15.0   \n",
       "\n",
       "   Team2OffensiveRebounds  Team2PersonalFouls  Team2Score  Team2Steals  \\\n",
       "0                    14.0                22.0        92.0          5.0   \n",
       "1                     8.0                15.0        51.0         10.0   \n",
       "2                    10.0                19.0        84.0          7.0   \n",
       "3                    11.0                19.0        79.0         13.0   \n",
       "4                    10.0                19.0        74.0          5.0   \n",
       "\n",
       "   Team2ThreePointersAttempted  Team2ThreePointersMade  Team2Turnovers  Win  \n",
       "0                         29.0                    11.0            12.0    0  \n",
       "1                         16.0                     4.0            17.0    1  \n",
       "2                         14.0                     6.0             9.0    0  \n",
       "3                          7.0                     3.0            18.0    0  \n",
       "4                         21.0                     9.0            14.0    1  \n",
       "\n",
       "[5 rows x 29 columns]"
      ]
     },
     "execution_count": 8,
     "metadata": {},
     "output_type": "execute_result"
    }
   ],
   "source": [
    "df_teams = pd.DataFrame.from_dict(teams_dict)\n",
    "df_teams.head()"
   ]
  },
  {
   "cell_type": "code",
   "execution_count": 9,
   "metadata": {},
   "outputs": [
    {
     "data": {
      "text/plain": [
       "(87504, 29)"
      ]
     },
     "execution_count": 9,
     "metadata": {},
     "output_type": "execute_result"
    }
   ],
   "source": [
    "df_teams.shape"
   ]
  },
  {
   "cell_type": "code",
   "execution_count": 10,
   "metadata": {},
   "outputs": [
    {
     "data": {
      "text/plain": [
       "(87504, 28)"
      ]
     },
     "execution_count": 10,
     "metadata": {},
     "output_type": "execute_result"
    }
   ],
   "source": [
    "for column in common_columns:\n",
    "    df.drop(labels=[f'W{column}', f'L{column}'], axis=1, inplace=True)\n",
    "\n",
    "df.shape"
   ]
  },
  {
   "cell_type": "code",
   "execution_count": 11,
   "metadata": {},
   "outputs": [
    {
     "data": {
      "text/plain": [
       "(87504, 57)"
      ]
     },
     "execution_count": 11,
     "metadata": {},
     "output_type": "execute_result"
    }
   ],
   "source": [
    "df_new = pd.concat([df, df_teams], axis=1, sort=False)\n",
    "df_new.shape"
   ]
  },
  {
   "cell_type": "code",
   "execution_count": 12,
   "metadata": {},
   "outputs": [
    {
     "data": {
      "text/html": [
       "<div>\n",
       "<style scoped>\n",
       "    .dataframe tbody tr th:only-of-type {\n",
       "        vertical-align: middle;\n",
       "    }\n",
       "\n",
       "    .dataframe tbody tr th {\n",
       "        vertical-align: top;\n",
       "    }\n",
       "\n",
       "    .dataframe thead th {\n",
       "        text-align: right;\n",
       "    }\n",
       "</style>\n",
       "<table border=\"1\" class=\"dataframe\">\n",
       "  <thead>\n",
       "    <tr style=\"text-align: right;\">\n",
       "      <th></th>\n",
       "      <th>ConfAbbrev</th>\n",
       "      <th>Description</th>\n",
       "      <th>Season</th>\n",
       "      <th>DayNum</th>\n",
       "      <th>WTeamID</th>\n",
       "      <th>LTeamID</th>\n",
       "      <th>CRType</th>\n",
       "      <th>CityID</th>\n",
       "      <th>WLocation</th>\n",
       "      <th>NumOTPeriods</th>\n",
       "      <th>...</th>\n",
       "      <th>Team2FreeThrowsAttempted</th>\n",
       "      <th>Team2FreeThrowsMade</th>\n",
       "      <th>Team2OffensiveRebounds</th>\n",
       "      <th>Team2PersonalFouls</th>\n",
       "      <th>Team2Score</th>\n",
       "      <th>Team2Steals</th>\n",
       "      <th>Team2ThreePointersAttempted</th>\n",
       "      <th>Team2ThreePointersMade</th>\n",
       "      <th>Team2Turnovers</th>\n",
       "      <th>Win</th>\n",
       "    </tr>\n",
       "  </thead>\n",
       "  <tbody>\n",
       "    <tr>\n",
       "      <th>0</th>\n",
       "      <td>a_sun</td>\n",
       "      <td>Atlantic Sun Conference</td>\n",
       "      <td>2001.0</td>\n",
       "      <td>121.0</td>\n",
       "      <td>1194.0</td>\n",
       "      <td>1144.0</td>\n",
       "      <td>Regular</td>\n",
       "      <td>4027.0</td>\n",
       "      <td>N</td>\n",
       "      <td>1.0</td>\n",
       "      <td>...</td>\n",
       "      <td>26.0</td>\n",
       "      <td>17.0</td>\n",
       "      <td>14.0</td>\n",
       "      <td>22.0</td>\n",
       "      <td>92.0</td>\n",
       "      <td>5.0</td>\n",
       "      <td>29.0</td>\n",
       "      <td>11.0</td>\n",
       "      <td>12.0</td>\n",
       "      <td>0</td>\n",
       "    </tr>\n",
       "    <tr>\n",
       "      <th>1</th>\n",
       "      <td>a_ten</td>\n",
       "      <td>Atlantic 10 Conference</td>\n",
       "      <td>2001.0</td>\n",
       "      <td>121.0</td>\n",
       "      <td>1416.0</td>\n",
       "      <td>1240.0</td>\n",
       "      <td>Regular</td>\n",
       "      <td>4061.0</td>\n",
       "      <td>N</td>\n",
       "      <td>0.0</td>\n",
       "      <td>...</td>\n",
       "      <td>7.0</td>\n",
       "      <td>7.0</td>\n",
       "      <td>8.0</td>\n",
       "      <td>15.0</td>\n",
       "      <td>51.0</td>\n",
       "      <td>10.0</td>\n",
       "      <td>16.0</td>\n",
       "      <td>4.0</td>\n",
       "      <td>17.0</td>\n",
       "      <td>1</td>\n",
       "    </tr>\n",
       "    <tr>\n",
       "      <th>2</th>\n",
       "      <td>aac</td>\n",
       "      <td>American Athletic Conference</td>\n",
       "      <td>2001.0</td>\n",
       "      <td>122.0</td>\n",
       "      <td>1209.0</td>\n",
       "      <td>1194.0</td>\n",
       "      <td>Regular</td>\n",
       "      <td>4080.0</td>\n",
       "      <td>N</td>\n",
       "      <td>0.0</td>\n",
       "      <td>...</td>\n",
       "      <td>22.0</td>\n",
       "      <td>16.0</td>\n",
       "      <td>10.0</td>\n",
       "      <td>19.0</td>\n",
       "      <td>84.0</td>\n",
       "      <td>7.0</td>\n",
       "      <td>14.0</td>\n",
       "      <td>6.0</td>\n",
       "      <td>9.0</td>\n",
       "      <td>0</td>\n",
       "    </tr>\n",
       "    <tr>\n",
       "      <th>3</th>\n",
       "      <td>acc</td>\n",
       "      <td>Atlantic Coast Conference</td>\n",
       "      <td>2001.0</td>\n",
       "      <td>122.0</td>\n",
       "      <td>1359.0</td>\n",
       "      <td>1239.0</td>\n",
       "      <td>Regular</td>\n",
       "      <td>4340.0</td>\n",
       "      <td>N</td>\n",
       "      <td>0.0</td>\n",
       "      <td>...</td>\n",
       "      <td>25.0</td>\n",
       "      <td>18.0</td>\n",
       "      <td>11.0</td>\n",
       "      <td>19.0</td>\n",
       "      <td>79.0</td>\n",
       "      <td>13.0</td>\n",
       "      <td>7.0</td>\n",
       "      <td>3.0</td>\n",
       "      <td>18.0</td>\n",
       "      <td>0</td>\n",
       "    </tr>\n",
       "    <tr>\n",
       "      <th>4</th>\n",
       "      <td>aec</td>\n",
       "      <td>America East Conference</td>\n",
       "      <td>2001.0</td>\n",
       "      <td>122.0</td>\n",
       "      <td>1391.0</td>\n",
       "      <td>1273.0</td>\n",
       "      <td>Regular</td>\n",
       "      <td>4027.0</td>\n",
       "      <td>N</td>\n",
       "      <td>1.0</td>\n",
       "      <td>...</td>\n",
       "      <td>20.0</td>\n",
       "      <td>15.0</td>\n",
       "      <td>10.0</td>\n",
       "      <td>19.0</td>\n",
       "      <td>74.0</td>\n",
       "      <td>5.0</td>\n",
       "      <td>21.0</td>\n",
       "      <td>9.0</td>\n",
       "      <td>14.0</td>\n",
       "      <td>1</td>\n",
       "    </tr>\n",
       "  </tbody>\n",
       "</table>\n",
       "<p>5 rows × 57 columns</p>\n",
       "</div>"
      ],
      "text/plain": [
       "  ConfAbbrev                   Description  Season  DayNum  WTeamID  LTeamID  \\\n",
       "0      a_sun       Atlantic Sun Conference  2001.0   121.0   1194.0   1144.0   \n",
       "1      a_ten        Atlantic 10 Conference  2001.0   121.0   1416.0   1240.0   \n",
       "2        aac  American Athletic Conference  2001.0   122.0   1209.0   1194.0   \n",
       "3        acc     Atlantic Coast Conference  2001.0   122.0   1359.0   1239.0   \n",
       "4        aec       America East Conference  2001.0   122.0   1391.0   1273.0   \n",
       "\n",
       "    CRType  CityID WLocation  NumOTPeriods  ... Team2FreeThrowsAttempted  \\\n",
       "0  Regular  4027.0         N           1.0  ...                     26.0   \n",
       "1  Regular  4061.0         N           0.0  ...                      7.0   \n",
       "2  Regular  4080.0         N           0.0  ...                     22.0   \n",
       "3  Regular  4340.0         N           0.0  ...                     25.0   \n",
       "4  Regular  4027.0         N           1.0  ...                     20.0   \n",
       "\n",
       "   Team2FreeThrowsMade Team2OffensiveRebounds  Team2PersonalFouls  Team2Score  \\\n",
       "0                 17.0                   14.0                22.0        92.0   \n",
       "1                  7.0                    8.0                15.0        51.0   \n",
       "2                 16.0                   10.0                19.0        84.0   \n",
       "3                 18.0                   11.0                19.0        79.0   \n",
       "4                 15.0                   10.0                19.0        74.0   \n",
       "\n",
       "   Team2Steals Team2ThreePointersAttempted Team2ThreePointersMade  \\\n",
       "0          5.0                        29.0                   11.0   \n",
       "1         10.0                        16.0                    4.0   \n",
       "2          7.0                        14.0                    6.0   \n",
       "3         13.0                         7.0                    3.0   \n",
       "4          5.0                        21.0                    9.0   \n",
       "\n",
       "  Team2Turnovers Win  \n",
       "0           12.0   0  \n",
       "1           17.0   1  \n",
       "2            9.0   0  \n",
       "3           18.0   0  \n",
       "4           14.0   1  \n",
       "\n",
       "[5 rows x 57 columns]"
      ]
     },
     "execution_count": 12,
     "metadata": {},
     "output_type": "execute_result"
    }
   ],
   "source": [
    "df = df_new\n",
    "df.head()"
   ]
  },
  {
   "cell_type": "code",
   "execution_count": 13,
   "metadata": {},
   "outputs": [
    {
     "data": {
      "text/plain": [
       "43639"
      ]
     },
     "execution_count": 13,
     "metadata": {},
     "output_type": "execute_result"
    }
   ],
   "source": [
    "df['Win'].sum()"
   ]
  },
  {
   "cell_type": "code",
   "execution_count": 16,
   "metadata": {},
   "outputs": [
    {
     "name": "stdout",
     "output_type": "stream",
     "text": [
      "Team1Assists\n",
      "Team1Blocks\n",
      "Team1DefensiveRebounds\n",
      "Team1FieldGoalsAttempted\n",
      "Team1FieldGoalsMade\n",
      "Team1FreeThrowsAttempted\n",
      "Team1FreeThrowsMade\n",
      "Team1OffensiveRebounds\n",
      "Team1PersonalFouls\n",
      "Team1Score\n",
      "Team1Steals\n",
      "Team1ThreePointersAttempted\n",
      "Team1ThreePointersMade\n",
      "Team1Turnovers\n",
      "Team2Assists\n",
      "Team2Blocks\n",
      "Team2DefensiveRebounds\n",
      "Team2FieldGoalsAttempted\n",
      "Team2FieldGoalsMade\n",
      "Team2FreeThrowsAttempted\n",
      "Team2FreeThrowsMade\n",
      "Team2OffensiveRebounds\n",
      "Team2PersonalFouls\n",
      "Team2Score\n",
      "Team2Steals\n",
      "Team2ThreePointersAttempted\n",
      "Team2ThreePointersMade\n",
      "Team2Turnovers\n"
     ]
    }
   ],
   "source": [
    "columns = []\n",
    "\n",
    "for column in df.columns:\n",
    "    if column.startswith('Team1') or column.startswith('Team2'):\n",
    "        columns.append(column)\n",
    "        \n",
    "for column in columns:\n",
    "    print(column)"
   ]
  },
  {
   "cell_type": "code",
   "execution_count": 17,
   "metadata": {},
   "outputs": [],
   "source": [
    "from sklearn.model_selection import train_test_split\n",
    "from sklearn.impute import SimpleImputer\n",
    "\n",
    "for column in columns:\n",
    "    imp = SimpleImputer(missing_values=np.nan, strategy='mean')\n",
    "    imr = imp.fit(df[[column]])\n",
    "    df[column] = imr.transform(df[[column]]).ravel()\n",
    "\n",
    "X_train, X_test, y_train, y_test = train_test_split(df[columns], df['Win'], test_size=0.30, random_state=42)"
   ]
  },
  {
   "cell_type": "code",
   "execution_count": 18,
   "metadata": {},
   "outputs": [
    {
     "data": {
      "text/plain": [
       "SVR(C=1.0, cache_size=200, coef0=0.0, degree=3, epsilon=0.1, gamma='scale',\n",
       "    kernel='linear', max_iter=-1, shrinking=True, tol=0.001, verbose=False)"
      ]
     },
     "execution_count": 18,
     "metadata": {},
     "output_type": "execute_result"
    }
   ],
   "source": [
    "from sklearn import svm\n",
    "\n",
    "clf = svm.SVR(kernel='linear', gamma='scale')\n",
    "clf.fit(X_train, y_train)"
   ]
  },
  {
   "cell_type": "code",
   "execution_count": 19,
   "metadata": {},
   "outputs": [],
   "source": [
    "pred = clf.predict(X_test)"
   ]
  },
  {
   "cell_type": "code",
   "execution_count": 20,
   "metadata": {},
   "outputs": [
    {
     "data": {
      "text/plain": [
       "-1.1417562568217932"
      ]
     },
     "execution_count": 20,
     "metadata": {},
     "output_type": "execute_result"
    }
   ],
   "source": [
    "from sklearn.metrics import r2_score\n",
    "\n",
    "r2_score(y_test, pred)"
   ]
  },
  {
   "cell_type": "code",
   "execution_count": 21,
   "metadata": {},
   "outputs": [
    {
     "data": {
      "text/plain": [
       "Lasso(alpha=0.1, copy_X=True, fit_intercept=True, max_iter=1000,\n",
       "      normalize=False, positive=False, precompute=False, random_state=None,\n",
       "      selection='cyclic', tol=0.0001, warm_start=False)"
      ]
     },
     "execution_count": 21,
     "metadata": {},
     "output_type": "execute_result"
    }
   ],
   "source": [
    "from sklearn import linear_model\n",
    "\n",
    "reg = linear_model.Lasso(alpha=0.1)\n",
    "reg.fit(X_train, y_train)"
   ]
  },
  {
   "cell_type": "code",
   "execution_count": 22,
   "metadata": {},
   "outputs": [],
   "source": [
    "pred = reg.predict(X_test)"
   ]
  },
  {
   "cell_type": "code",
   "execution_count": 23,
   "metadata": {},
   "outputs": [
    {
     "data": {
      "text/plain": [
       "-0.0002140065965166027"
      ]
     },
     "execution_count": 23,
     "metadata": {},
     "output_type": "execute_result"
    }
   ],
   "source": [
    "r2_score(y_test, pred)"
   ]
  },
  {
   "cell_type": "code",
   "execution_count": 24,
   "metadata": {},
   "outputs": [
    {
     "data": {
      "text/plain": [
       "ElasticNetCV(alphas=None, copy_X=True, cv=5, eps=0.001, fit_intercept=True,\n",
       "             l1_ratio=0.5, max_iter=1000, n_alphas=100, n_jobs=None,\n",
       "             normalize=False, positive=False, precompute='auto', random_state=0,\n",
       "             selection='cyclic', tol=0.0001, verbose=0)"
      ]
     },
     "execution_count": 24,
     "metadata": {},
     "output_type": "execute_result"
    }
   ],
   "source": [
    "from sklearn.linear_model import ElasticNetCV\n",
    "\n",
    "regr = ElasticNetCV(cv=5, random_state=0)\n",
    "regr.fit(X_train, y_train)"
   ]
  },
  {
   "cell_type": "code",
   "execution_count": 25,
   "metadata": {},
   "outputs": [
    {
     "data": {
      "text/plain": [
       "0.06377585025442123"
      ]
     },
     "execution_count": 25,
     "metadata": {},
     "output_type": "execute_result"
    }
   ],
   "source": [
    "pred = regr.predict(X_test)\n",
    "\n",
    "r2_score(y_test, pred)"
   ]
  },
  {
   "cell_type": "code",
   "execution_count": 26,
   "metadata": {},
   "outputs": [
    {
     "data": {
      "text/plain": [
       "Ridge(alpha=0.5, copy_X=True, fit_intercept=True, max_iter=None,\n",
       "      normalize=False, random_state=None, solver='auto', tol=0.001)"
      ]
     },
     "execution_count": 26,
     "metadata": {},
     "output_type": "execute_result"
    }
   ],
   "source": [
    "reg = linear_model.Ridge(alpha=.5)\n",
    "reg.fit(X_train, y_train)"
   ]
  },
  {
   "cell_type": "code",
   "execution_count": 27,
   "metadata": {},
   "outputs": [
    {
     "data": {
      "text/plain": [
       "0.05900762717471841"
      ]
     },
     "execution_count": 27,
     "metadata": {},
     "output_type": "execute_result"
    }
   ],
   "source": [
    "pred = reg.predict(X_test)\n",
    "\n",
    "r2_score(y_test, pred)"
   ]
  },
  {
   "cell_type": "code",
   "execution_count": null,
   "metadata": {},
   "outputs": [],
   "source": []
  }
 ],
 "metadata": {
  "kernelspec": {
   "display_name": "Python 3",
   "language": "python",
   "name": "python3"
  },
  "language_info": {
   "codemirror_mode": {
    "name": "ipython",
    "version": 3
   },
   "file_extension": ".py",
   "mimetype": "text/x-python",
   "name": "python",
   "nbconvert_exporter": "python",
   "pygments_lexer": "ipython3",
   "version": "3.7.4"
  }
 },
 "nbformat": 4,
 "nbformat_minor": 2
}
