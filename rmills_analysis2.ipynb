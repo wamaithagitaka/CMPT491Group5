{
 "cells": [
  {
   "cell_type": "code",
   "execution_count": 1,
   "metadata": {},
   "outputs": [],
   "source": [
    "import pandas as pd"
   ]
  },
  {
   "cell_type": "code",
   "execution_count": 20,
   "metadata": {},
   "outputs": [
    {
     "name": "stdout",
     "output_type": "stream",
     "text": [
      "(87504, 31)\n"
     ]
    },
    {
     "data": {
      "text/html": [
       "<div>\n",
       "<style scoped>\n",
       "    .dataframe tbody tr th:only-of-type {\n",
       "        vertical-align: middle;\n",
       "    }\n",
       "\n",
       "    .dataframe tbody tr th {\n",
       "        vertical-align: top;\n",
       "    }\n",
       "\n",
       "    .dataframe thead th {\n",
       "        text-align: right;\n",
       "    }\n",
       "</style>\n",
       "<table border=\"1\" class=\"dataframe\">\n",
       "  <thead>\n",
       "    <tr style=\"text-align: right;\">\n",
       "      <th></th>\n",
       "      <th>Team1</th>\n",
       "      <th>Team2</th>\n",
       "      <th>Team1Score</th>\n",
       "      <th>Team1FGM</th>\n",
       "      <th>Team1FGA</th>\n",
       "      <th>Team1FGM3</th>\n",
       "      <th>Team1FGA3</th>\n",
       "      <th>Team1FTM</th>\n",
       "      <th>Team1FTA</th>\n",
       "      <th>Team1OR</th>\n",
       "      <th>...</th>\n",
       "      <th>Team2FTM</th>\n",
       "      <th>Team2FTA</th>\n",
       "      <th>Team2OR</th>\n",
       "      <th>Team2DR</th>\n",
       "      <th>Team2Ast</th>\n",
       "      <th>Team2TO</th>\n",
       "      <th>Team2Stl</th>\n",
       "      <th>Team2Blk</th>\n",
       "      <th>Team2PF</th>\n",
       "      <th>Win</th>\n",
       "    </tr>\n",
       "  </thead>\n",
       "  <tbody>\n",
       "    <tr>\n",
       "      <th>0</th>\n",
       "      <td>1421.0</td>\n",
       "      <td>1411.0</td>\n",
       "      <td>70.857116</td>\n",
       "      <td>24.835506</td>\n",
       "      <td>56.434951</td>\n",
       "      <td>6.414692</td>\n",
       "      <td>18.565785</td>\n",
       "      <td>14.771413</td>\n",
       "      <td>20.665618</td>\n",
       "      <td>10.963364</td>\n",
       "      <td>...</td>\n",
       "      <td>15.710680</td>\n",
       "      <td>24.005781</td>\n",
       "      <td>11.705997</td>\n",
       "      <td>24.357526</td>\n",
       "      <td>12.123150</td>\n",
       "      <td>15.493189</td>\n",
       "      <td>6.690597</td>\n",
       "      <td>3.153172</td>\n",
       "      <td>18.467932</td>\n",
       "      <td>1.0</td>\n",
       "    </tr>\n",
       "    <tr>\n",
       "      <th>1</th>\n",
       "      <td>1436.0</td>\n",
       "      <td>1112.0</td>\n",
       "      <td>69.855278</td>\n",
       "      <td>24.480532</td>\n",
       "      <td>53.811272</td>\n",
       "      <td>5.963383</td>\n",
       "      <td>16.755914</td>\n",
       "      <td>14.930832</td>\n",
       "      <td>21.279172</td>\n",
       "      <td>10.879975</td>\n",
       "      <td>...</td>\n",
       "      <td>16.325509</td>\n",
       "      <td>22.252281</td>\n",
       "      <td>11.423081</td>\n",
       "      <td>25.023546</td>\n",
       "      <td>14.801796</td>\n",
       "      <td>12.812651</td>\n",
       "      <td>6.345888</td>\n",
       "      <td>3.615896</td>\n",
       "      <td>16.994665</td>\n",
       "      <td>0.0</td>\n",
       "    </tr>\n",
       "    <tr>\n",
       "      <th>2</th>\n",
       "      <td>1272.0</td>\n",
       "      <td>1113.0</td>\n",
       "      <td>74.907473</td>\n",
       "      <td>26.294729</td>\n",
       "      <td>58.543421</td>\n",
       "      <td>6.600664</td>\n",
       "      <td>19.351685</td>\n",
       "      <td>15.717352</td>\n",
       "      <td>23.277168</td>\n",
       "      <td>12.826705</td>\n",
       "      <td>...</td>\n",
       "      <td>14.981736</td>\n",
       "      <td>21.478844</td>\n",
       "      <td>10.385801</td>\n",
       "      <td>23.829096</td>\n",
       "      <td>14.160912</td>\n",
       "      <td>13.034717</td>\n",
       "      <td>6.020814</td>\n",
       "      <td>3.427225</td>\n",
       "      <td>18.325749</td>\n",
       "      <td>0.0</td>\n",
       "    </tr>\n",
       "    <tr>\n",
       "      <th>3</th>\n",
       "      <td>1166.0</td>\n",
       "      <td>1141.0</td>\n",
       "      <td>73.853850</td>\n",
       "      <td>25.786073</td>\n",
       "      <td>55.304019</td>\n",
       "      <td>8.163962</td>\n",
       "      <td>21.624711</td>\n",
       "      <td>14.117741</td>\n",
       "      <td>19.608092</td>\n",
       "      <td>9.641230</td>\n",
       "      <td>...</td>\n",
       "      <td>14.649615</td>\n",
       "      <td>20.785129</td>\n",
       "      <td>11.083005</td>\n",
       "      <td>21.987842</td>\n",
       "      <td>11.666412</td>\n",
       "      <td>14.050869</td>\n",
       "      <td>6.743972</td>\n",
       "      <td>2.753055</td>\n",
       "      <td>20.340310</td>\n",
       "      <td>0.0</td>\n",
       "    </tr>\n",
       "    <tr>\n",
       "      <th>4</th>\n",
       "      <td>1143.0</td>\n",
       "      <td>1301.0</td>\n",
       "      <td>70.866565</td>\n",
       "      <td>25.397341</td>\n",
       "      <td>56.385076</td>\n",
       "      <td>5.714419</td>\n",
       "      <td>16.266095</td>\n",
       "      <td>14.357464</td>\n",
       "      <td>20.499749</td>\n",
       "      <td>10.694625</td>\n",
       "      <td>...</td>\n",
       "      <td>14.982759</td>\n",
       "      <td>21.068132</td>\n",
       "      <td>11.159053</td>\n",
       "      <td>24.149595</td>\n",
       "      <td>14.311193</td>\n",
       "      <td>12.886297</td>\n",
       "      <td>6.121473</td>\n",
       "      <td>4.054906</td>\n",
       "      <td>17.563236</td>\n",
       "      <td>1.0</td>\n",
       "    </tr>\n",
       "  </tbody>\n",
       "</table>\n",
       "<p>5 rows × 31 columns</p>\n",
       "</div>"
      ],
      "text/plain": [
       "    Team1   Team2  Team1Score   Team1FGM   Team1FGA  Team1FGM3  Team1FGA3  \\\n",
       "0  1421.0  1411.0   70.857116  24.835506  56.434951   6.414692  18.565785   \n",
       "1  1436.0  1112.0   69.855278  24.480532  53.811272   5.963383  16.755914   \n",
       "2  1272.0  1113.0   74.907473  26.294729  58.543421   6.600664  19.351685   \n",
       "3  1166.0  1141.0   73.853850  25.786073  55.304019   8.163962  21.624711   \n",
       "4  1143.0  1301.0   70.866565  25.397341  56.385076   5.714419  16.266095   \n",
       "\n",
       "    Team1FTM   Team1FTA    Team1OR  ...   Team2FTM   Team2FTA    Team2OR  \\\n",
       "0  14.771413  20.665618  10.963364  ...  15.710680  24.005781  11.705997   \n",
       "1  14.930832  21.279172  10.879975  ...  16.325509  22.252281  11.423081   \n",
       "2  15.717352  23.277168  12.826705  ...  14.981736  21.478844  10.385801   \n",
       "3  14.117741  19.608092   9.641230  ...  14.649615  20.785129  11.083005   \n",
       "4  14.357464  20.499749  10.694625  ...  14.982759  21.068132  11.159053   \n",
       "\n",
       "     Team2DR   Team2Ast    Team2TO  Team2Stl  Team2Blk    Team2PF  Win  \n",
       "0  24.357526  12.123150  15.493189  6.690597  3.153172  18.467932  1.0  \n",
       "1  25.023546  14.801796  12.812651  6.345888  3.615896  16.994665  0.0  \n",
       "2  23.829096  14.160912  13.034717  6.020814  3.427225  18.325749  0.0  \n",
       "3  21.987842  11.666412  14.050869  6.743972  2.753055  20.340310  0.0  \n",
       "4  24.149595  14.311193  12.886297  6.121473  4.054906  17.563236  1.0  \n",
       "\n",
       "[5 rows x 31 columns]"
      ]
     },
     "execution_count": 20,
     "metadata": {},
     "output_type": "execute_result"
    }
   ],
   "source": [
    "df = pd.read_csv('matches.csv', index_col=0)\n",
    "df = df.dropna()\n",
    "print(df.shape)\n",
    "df.head()"
   ]
  },
  {
   "cell_type": "code",
   "execution_count": 21,
   "metadata": {},
   "outputs": [
    {
     "data": {
      "text/plain": [
       "['Team1',\n",
       " 'Team2',\n",
       " 'Team1Score',\n",
       " 'Team1FGM',\n",
       " 'Team1FGA',\n",
       " 'Team1FGM3',\n",
       " 'Team1FGA3',\n",
       " 'Team1FTM',\n",
       " 'Team1FTA',\n",
       " 'Team1OR',\n",
       " 'Team1DR',\n",
       " 'Team1Ast',\n",
       " 'Team1TO',\n",
       " 'Team1Stl',\n",
       " 'Team1Blk',\n",
       " 'Team1PF',\n",
       " 'Team2Score',\n",
       " 'Team2FGM',\n",
       " 'Team2FGA',\n",
       " 'Team2FGM3',\n",
       " 'Team2FGA3',\n",
       " 'Team2FTM',\n",
       " 'Team2FTA',\n",
       " 'Team2OR',\n",
       " 'Team2DR',\n",
       " 'Team2Ast',\n",
       " 'Team2TO',\n",
       " 'Team2Stl',\n",
       " 'Team2Blk',\n",
       " 'Team2PF']"
      ]
     },
     "execution_count": 21,
     "metadata": {},
     "output_type": "execute_result"
    }
   ],
   "source": [
    "columns = list(df.columns.copy())\n",
    "columns.remove('Win')\n",
    "columns"
   ]
  },
  {
   "cell_type": "code",
   "execution_count": 22,
   "metadata": {},
   "outputs": [],
   "source": [
    "from sklearn.model_selection import train_test_split\n",
    "\n",
    "X_train, X_test, y_train, y_test = train_test_split(df[columns], df['Win'], test_size=0.30, random_state=42)"
   ]
  },
  {
   "cell_type": "code",
   "execution_count": 28,
   "metadata": {},
   "outputs": [],
   "source": [
    "from sklearn import svm\n",
    "\n",
    "clf = svm.SVC(kernel='linear', gamma='scale')\n",
    "clf.fit(X_train, y_train)\n",
    "\n",
    "pred = clf.predict(X_test)"
   ]
  },
  {
   "cell_type": "code",
   "execution_count": 29,
   "metadata": {},
   "outputs": [
    {
     "data": {
      "text/plain": [
       "0.6578590785907859"
      ]
     },
     "execution_count": 29,
     "metadata": {},
     "output_type": "execute_result"
    }
   ],
   "source": [
    "from sklearn.metrics import f1_score\n",
    "\n",
    "f1_score(y_test, pred)"
   ]
  },
  {
   "cell_type": "code",
   "execution_count": 30,
   "metadata": {},
   "outputs": [
    {
     "data": {
      "text/plain": [
       "KNeighborsClassifier(algorithm='auto', leaf_size=30, metric='minkowski',\n",
       "                     metric_params=None, n_jobs=None, n_neighbors=15, p=2,\n",
       "                     weights='uniform')"
      ]
     },
     "execution_count": 30,
     "metadata": {},
     "output_type": "execute_result"
    }
   ],
   "source": [
    "from sklearn import neighbors\n",
    "\n",
    "clf = neighbors.KNeighborsClassifier(15)\n",
    "clf.fit(X_train, y_train)"
   ]
  },
  {
   "cell_type": "code",
   "execution_count": 31,
   "metadata": {},
   "outputs": [
    {
     "data": {
      "text/plain": [
       "0.6050902499811193"
      ]
     },
     "execution_count": 31,
     "metadata": {},
     "output_type": "execute_result"
    }
   ],
   "source": [
    "pred = clf.predict(X_test)\n",
    "\n",
    "f1_score(y_test, pred)"
   ]
  },
  {
   "cell_type": "code",
   "execution_count": 32,
   "metadata": {},
   "outputs": [
    {
     "data": {
      "text/plain": [
       "SVC(C=1.0, cache_size=200, class_weight=None, coef0=0.0,\n",
       "    decision_function_shape='ovr', degree=3, gamma='scale', kernel='rbf',\n",
       "    max_iter=-1, probability=False, random_state=None, shrinking=True,\n",
       "    tol=0.001, verbose=False)"
      ]
     },
     "execution_count": 32,
     "metadata": {},
     "output_type": "execute_result"
    }
   ],
   "source": [
    "clf = svm.SVC(gamma='scale')\n",
    "clf.fit(X_train, y_train)"
   ]
  },
  {
   "cell_type": "code",
   "execution_count": 33,
   "metadata": {},
   "outputs": [
    {
     "data": {
      "text/plain": [
       "0.5464513706346225"
      ]
     },
     "execution_count": 33,
     "metadata": {},
     "output_type": "execute_result"
    }
   ],
   "source": [
    "pred = clf.predict(X_test)\n",
    "\n",
    "f1_score(y_test, pred)"
   ]
  },
  {
   "cell_type": "code",
   "execution_count": 34,
   "metadata": {},
   "outputs": [],
   "source": [
    "from sklearn.ensemble import RandomForestClassifier\n",
    "\n",
    "clf = RandomForestClassifier(n_estimators=10)\n",
    "clf = clf.fit(X_train, y_train)"
   ]
  },
  {
   "cell_type": "code",
   "execution_count": 35,
   "metadata": {},
   "outputs": [
    {
     "data": {
      "text/plain": [
       "0.6204605338526749"
      ]
     },
     "execution_count": 35,
     "metadata": {},
     "output_type": "execute_result"
    }
   ],
   "source": [
    "pred = clf.predict(X_test)\n",
    "\n",
    "f1_score(y_test, pred)"
   ]
  },
  {
   "cell_type": "code",
   "execution_count": 36,
   "metadata": {},
   "outputs": [
    {
     "data": {
      "text/plain": [
       "ExtraTreesClassifier(bootstrap=False, class_weight=None, criterion='gini',\n",
       "                     max_depth=None, max_features='auto', max_leaf_nodes=None,\n",
       "                     min_impurity_decrease=0.0, min_impurity_split=None,\n",
       "                     min_samples_leaf=1, min_samples_split=2,\n",
       "                     min_weight_fraction_leaf=0.0, n_estimators=10, n_jobs=None,\n",
       "                     oob_score=False, random_state=0, verbose=0,\n",
       "                     warm_start=False)"
      ]
     },
     "execution_count": 36,
     "metadata": {},
     "output_type": "execute_result"
    }
   ],
   "source": [
    "from sklearn.ensemble import ExtraTreesClassifier\n",
    "\n",
    "clf = ExtraTreesClassifier(n_estimators=10, max_depth=None, min_samples_split=2, random_state=0)\n",
    "clf.fit(X_train, y_train)"
   ]
  },
  {
   "cell_type": "code",
   "execution_count": 38,
   "metadata": {},
   "outputs": [
    {
     "data": {
      "text/plain": [
       "0.6015677848076081"
      ]
     },
     "execution_count": 38,
     "metadata": {},
     "output_type": "execute_result"
    }
   ],
   "source": [
    "pred = clf.predict(X_test)\n",
    "\n",
    "f1_score(y_test, pred)"
   ]
  },
  {
   "cell_type": "code",
   "execution_count": 39,
   "metadata": {},
   "outputs": [
    {
     "data": {
      "text/plain": [
       "AdaBoostClassifier(algorithm='SAMME.R', base_estimator=None, learning_rate=1.0,\n",
       "                   n_estimators=100, random_state=None)"
      ]
     },
     "execution_count": 39,
     "metadata": {},
     "output_type": "execute_result"
    }
   ],
   "source": [
    "from sklearn.ensemble import AdaBoostClassifier\n",
    "\n",
    "clf = AdaBoostClassifier(n_estimators=100)\n",
    "clf.fit(X_train, y_train)"
   ]
  },
  {
   "cell_type": "code",
   "execution_count": 40,
   "metadata": {},
   "outputs": [
    {
     "data": {
      "text/plain": [
       "0.6521739130434782"
      ]
     },
     "execution_count": 40,
     "metadata": {},
     "output_type": "execute_result"
    }
   ],
   "source": [
    "pred = clf.predict(X_test)\n",
    "\n",
    "f1_score(y_test, pred)"
   ]
  },
  {
   "cell_type": "code",
   "execution_count": 41,
   "metadata": {},
   "outputs": [
    {
     "data": {
      "text/plain": [
       "GradientBoostingClassifier(criterion='friedman_mse', init=None,\n",
       "                           learning_rate=1.0, loss='deviance', max_depth=1,\n",
       "                           max_features=None, max_leaf_nodes=None,\n",
       "                           min_impurity_decrease=0.0, min_impurity_split=None,\n",
       "                           min_samples_leaf=1, min_samples_split=2,\n",
       "                           min_weight_fraction_leaf=0.0, n_estimators=100,\n",
       "                           n_iter_no_change=None, presort='auto',\n",
       "                           random_state=0, subsample=1.0, tol=0.0001,\n",
       "                           validation_fraction=0.1, verbose=0,\n",
       "                           warm_start=False)"
      ]
     },
     "execution_count": 41,
     "metadata": {},
     "output_type": "execute_result"
    }
   ],
   "source": [
    "from sklearn.ensemble import GradientBoostingClassifier\n",
    "\n",
    "clf = GradientBoostingClassifier(n_estimators=100, learning_rate=1.0, max_depth=1, random_state=0)\n",
    "clf.fit(X_train, y_train)"
   ]
  },
  {
   "cell_type": "code",
   "execution_count": 42,
   "metadata": {},
   "outputs": [
    {
     "data": {
      "text/plain": [
       "0.6509390746678881"
      ]
     },
     "execution_count": 42,
     "metadata": {},
     "output_type": "execute_result"
    }
   ],
   "source": [
    "pred = clf.predict(X_test)\n",
    "\n",
    "f1_score(y_test, pred)"
   ]
  },
  {
   "cell_type": "code",
   "execution_count": 43,
   "metadata": {},
   "outputs": [
    {
     "data": {
      "text/plain": [
       "GaussianNB(priors=None, var_smoothing=1e-09)"
      ]
     },
     "execution_count": 43,
     "metadata": {},
     "output_type": "execute_result"
    }
   ],
   "source": [
    "from sklearn.naive_bayes import GaussianNB\n",
    "\n",
    "clf = GaussianNB()\n",
    "clf.fit(X_train, y_train)"
   ]
  },
  {
   "cell_type": "code",
   "execution_count": 44,
   "metadata": {},
   "outputs": [
    {
     "data": {
      "text/plain": [
       "0.6320451190431129"
      ]
     },
     "execution_count": 44,
     "metadata": {},
     "output_type": "execute_result"
    }
   ],
   "source": [
    "pred = clf.predict(X_test)\n",
    "\n",
    "f1_score(y_test, pred)"
   ]
  },
  {
   "cell_type": "code",
   "execution_count": null,
   "metadata": {},
   "outputs": [],
   "source": []
  }
 ],
 "metadata": {
  "kernelspec": {
   "display_name": "Python 3",
   "language": "python",
   "name": "python3"
  },
  "language_info": {
   "codemirror_mode": {
    "name": "ipython",
    "version": 3
   },
   "file_extension": ".py",
   "mimetype": "text/x-python",
   "name": "python",
   "nbconvert_exporter": "python",
   "pygments_lexer": "ipython3",
   "version": "3.7.4"
  }
 },
 "nbformat": 4,
 "nbformat_minor": 2
}
