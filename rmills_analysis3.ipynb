{
 "cells": [
  {
   "cell_type": "code",
   "execution_count": 5,
   "metadata": {},
   "outputs": [],
   "source": [
    "import pandas as pd\n",
    "from sklearn.metrics import f1_score"
   ]
  },
  {
   "cell_type": "code",
   "execution_count": 2,
   "metadata": {},
   "outputs": [
    {
     "data": {
      "text/html": [
       "<div>\n",
       "<style scoped>\n",
       "    .dataframe tbody tr th:only-of-type {\n",
       "        vertical-align: middle;\n",
       "    }\n",
       "\n",
       "    .dataframe tbody tr th {\n",
       "        vertical-align: top;\n",
       "    }\n",
       "\n",
       "    .dataframe thead th {\n",
       "        text-align: right;\n",
       "    }\n",
       "</style>\n",
       "<table border=\"1\" class=\"dataframe\">\n",
       "  <thead>\n",
       "    <tr style=\"text-align: right;\">\n",
       "      <th></th>\n",
       "      <th>Team1</th>\n",
       "      <th>Team2</th>\n",
       "      <th>Team1Score</th>\n",
       "      <th>Team1FGM</th>\n",
       "      <th>Team1FGA</th>\n",
       "      <th>Team1FGM3</th>\n",
       "      <th>Team1FGA3</th>\n",
       "      <th>Team1FTM</th>\n",
       "      <th>Team1FTA</th>\n",
       "      <th>Team1OR</th>\n",
       "      <th>...</th>\n",
       "      <th>Team2FTM</th>\n",
       "      <th>Team2FTA</th>\n",
       "      <th>Team2OR</th>\n",
       "      <th>Team2DR</th>\n",
       "      <th>Team2Ast</th>\n",
       "      <th>Team2TO</th>\n",
       "      <th>Team2Stl</th>\n",
       "      <th>Team2Blk</th>\n",
       "      <th>Team2PF</th>\n",
       "      <th>Win</th>\n",
       "    </tr>\n",
       "  </thead>\n",
       "  <tbody>\n",
       "    <tr>\n",
       "      <th>0</th>\n",
       "      <td>1104</td>\n",
       "      <td>1328</td>\n",
       "      <td>71.787879</td>\n",
       "      <td>25.060606</td>\n",
       "      <td>56.848485</td>\n",
       "      <td>7.060606</td>\n",
       "      <td>20.848485</td>\n",
       "      <td>14.606061</td>\n",
       "      <td>21.878788</td>\n",
       "      <td>11.151515</td>\n",
       "      <td>...</td>\n",
       "      <td>12.656250</td>\n",
       "      <td>18.312500</td>\n",
       "      <td>9.218750</td>\n",
       "      <td>28.375000</td>\n",
       "      <td>12.687500</td>\n",
       "      <td>12.187500</td>\n",
       "      <td>5.937500</td>\n",
       "      <td>3.093750</td>\n",
       "      <td>15.750000</td>\n",
       "      <td>1</td>\n",
       "    </tr>\n",
       "    <tr>\n",
       "      <th>1</th>\n",
       "      <td>1272</td>\n",
       "      <td>1393</td>\n",
       "      <td>80.617647</td>\n",
       "      <td>28.176471</td>\n",
       "      <td>62.323529</td>\n",
       "      <td>7.411765</td>\n",
       "      <td>22.794118</td>\n",
       "      <td>16.852941</td>\n",
       "      <td>23.705882</td>\n",
       "      <td>12.529412</td>\n",
       "      <td>...</td>\n",
       "      <td>14.090909</td>\n",
       "      <td>20.696970</td>\n",
       "      <td>10.787879</td>\n",
       "      <td>24.000000</td>\n",
       "      <td>12.000000</td>\n",
       "      <td>12.454545</td>\n",
       "      <td>8.272727</td>\n",
       "      <td>4.787879</td>\n",
       "      <td>17.424242</td>\n",
       "      <td>1</td>\n",
       "    </tr>\n",
       "    <tr>\n",
       "      <th>2</th>\n",
       "      <td>1437</td>\n",
       "      <td>1266</td>\n",
       "      <td>74.470588</td>\n",
       "      <td>24.705882</td>\n",
       "      <td>56.235294</td>\n",
       "      <td>10.617647</td>\n",
       "      <td>30.088235</td>\n",
       "      <td>14.441176</td>\n",
       "      <td>19.852941</td>\n",
       "      <td>10.500000</td>\n",
       "      <td>...</td>\n",
       "      <td>15.636364</td>\n",
       "      <td>20.606061</td>\n",
       "      <td>9.606061</td>\n",
       "      <td>28.454545</td>\n",
       "      <td>13.636364</td>\n",
       "      <td>13.909091</td>\n",
       "      <td>4.818182</td>\n",
       "      <td>4.272727</td>\n",
       "      <td>18.666667</td>\n",
       "      <td>0</td>\n",
       "    </tr>\n",
       "    <tr>\n",
       "      <th>3</th>\n",
       "      <td>1296</td>\n",
       "      <td>1457</td>\n",
       "      <td>73.125000</td>\n",
       "      <td>27.406250</td>\n",
       "      <td>58.687500</td>\n",
       "      <td>6.906250</td>\n",
       "      <td>18.937500</td>\n",
       "      <td>11.406250</td>\n",
       "      <td>15.562500</td>\n",
       "      <td>9.125000</td>\n",
       "      <td>...</td>\n",
       "      <td>13.370370</td>\n",
       "      <td>18.481481</td>\n",
       "      <td>10.518519</td>\n",
       "      <td>28.407407</td>\n",
       "      <td>14.185185</td>\n",
       "      <td>14.962963</td>\n",
       "      <td>4.000000</td>\n",
       "      <td>2.481481</td>\n",
       "      <td>17.962963</td>\n",
       "      <td>1</td>\n",
       "    </tr>\n",
       "    <tr>\n",
       "      <th>4</th>\n",
       "      <td>1400</td>\n",
       "      <td>1208</td>\n",
       "      <td>70.750000</td>\n",
       "      <td>25.031250</td>\n",
       "      <td>57.750000</td>\n",
       "      <td>8.500000</td>\n",
       "      <td>24.968750</td>\n",
       "      <td>12.187500</td>\n",
       "      <td>17.187500</td>\n",
       "      <td>9.906250</td>\n",
       "      <td>...</td>\n",
       "      <td>16.000000</td>\n",
       "      <td>22.687500</td>\n",
       "      <td>11.156250</td>\n",
       "      <td>26.781250</td>\n",
       "      <td>13.218750</td>\n",
       "      <td>15.812500</td>\n",
       "      <td>5.781250</td>\n",
       "      <td>5.093750</td>\n",
       "      <td>17.656250</td>\n",
       "      <td>1</td>\n",
       "    </tr>\n",
       "  </tbody>\n",
       "</table>\n",
       "<p>5 rows × 31 columns</p>\n",
       "</div>"
      ],
      "text/plain": [
       "   Team1  Team2  Team1Score   Team1FGM   Team1FGA  Team1FGM3  Team1FGA3  \\\n",
       "0   1104   1328   71.787879  25.060606  56.848485   7.060606  20.848485   \n",
       "1   1272   1393   80.617647  28.176471  62.323529   7.411765  22.794118   \n",
       "2   1437   1266   74.470588  24.705882  56.235294  10.617647  30.088235   \n",
       "3   1296   1457   73.125000  27.406250  58.687500   6.906250  18.937500   \n",
       "4   1400   1208   70.750000  25.031250  57.750000   8.500000  24.968750   \n",
       "\n",
       "    Team1FTM   Team1FTA    Team1OR  ...   Team2FTM   Team2FTA    Team2OR  \\\n",
       "0  14.606061  21.878788  11.151515  ...  12.656250  18.312500   9.218750   \n",
       "1  16.852941  23.705882  12.529412  ...  14.090909  20.696970  10.787879   \n",
       "2  14.441176  19.852941  10.500000  ...  15.636364  20.606061   9.606061   \n",
       "3  11.406250  15.562500   9.125000  ...  13.370370  18.481481  10.518519   \n",
       "4  12.187500  17.187500   9.906250  ...  16.000000  22.687500  11.156250   \n",
       "\n",
       "     Team2DR   Team2Ast    Team2TO  Team2Stl  Team2Blk    Team2PF  Win  \n",
       "0  28.375000  12.687500  12.187500  5.937500  3.093750  15.750000    1  \n",
       "1  24.000000  12.000000  12.454545  8.272727  4.787879  17.424242    1  \n",
       "2  28.454545  13.636364  13.909091  4.818182  4.272727  18.666667    0  \n",
       "3  28.407407  14.185185  14.962963  4.000000  2.481481  17.962963    1  \n",
       "4  26.781250  13.218750  15.812500  5.781250  5.093750  17.656250    1  \n",
       "\n",
       "[5 rows x 31 columns]"
      ]
     },
     "execution_count": 2,
     "metadata": {},
     "output_type": "execute_result"
    }
   ],
   "source": [
    "df = pd.read_csv('season_matches.csv', index_col=0)\n",
    "df.head()"
   ]
  },
  {
   "cell_type": "code",
   "execution_count": 3,
   "metadata": {},
   "outputs": [
    {
     "data": {
      "text/plain": [
       "['Team1',\n",
       " 'Team2',\n",
       " 'Team1Score',\n",
       " 'Team1FGM',\n",
       " 'Team1FGA',\n",
       " 'Team1FGM3',\n",
       " 'Team1FGA3',\n",
       " 'Team1FTM',\n",
       " 'Team1FTA',\n",
       " 'Team1OR',\n",
       " 'Team1DR',\n",
       " 'Team1Ast',\n",
       " 'Team1TO',\n",
       " 'Team1Stl',\n",
       " 'Team1Blk',\n",
       " 'Team1PF',\n",
       " 'Team2Score',\n",
       " 'Team2FGM',\n",
       " 'Team2FGA',\n",
       " 'Team2FGM3',\n",
       " 'Team2FGA3',\n",
       " 'Team2FTM',\n",
       " 'Team2FTA',\n",
       " 'Team2OR',\n",
       " 'Team2DR',\n",
       " 'Team2Ast',\n",
       " 'Team2TO',\n",
       " 'Team2Stl',\n",
       " 'Team2Blk',\n",
       " 'Team2PF']"
      ]
     },
     "execution_count": 3,
     "metadata": {},
     "output_type": "execute_result"
    }
   ],
   "source": [
    "columns = list(df.columns.copy())\n",
    "columns.remove('Win')\n",
    "columns"
   ]
  },
  {
   "cell_type": "code",
   "execution_count": 4,
   "metadata": {},
   "outputs": [],
   "source": [
    "from sklearn.model_selection import train_test_split\n",
    "\n",
    "X_train, X_test, y_train, y_test = train_test_split(df[columns], df['Win'], test_size=0.30, random_state=42)"
   ]
  },
  {
   "cell_type": "code",
   "execution_count": null,
   "metadata": {},
   "outputs": [],
   "source": [
    "from sklearn import svm\n",
    "\n",
    "clf = svm.SVC(kernel='linear', gamma='scale')\n",
    "clf.fit(X_train, y_train)\n",
    "\n",
    "pred = clf.predict(X_test)"
   ]
  },
  {
   "cell_type": "code",
   "execution_count": 6,
   "metadata": {},
   "outputs": [
    {
     "data": {
      "text/plain": [
       "0.6025462876028093"
      ]
     },
     "execution_count": 6,
     "metadata": {},
     "output_type": "execute_result"
    }
   ],
   "source": [
    "f1_score(y_test, pred)"
   ]
  },
  {
   "cell_type": "code",
   "execution_count": 7,
   "metadata": {},
   "outputs": [
    {
     "data": {
      "text/plain": [
       "0.5855687411760216"
      ]
     },
     "execution_count": 7,
     "metadata": {},
     "output_type": "execute_result"
    }
   ],
   "source": [
    "from sklearn import neighbors\n",
    "\n",
    "clf = neighbors.KNeighborsClassifier(15)\n",
    "clf.fit(X_train, y_train)\n",
    "pred = clf.predict(X_test)\n",
    "\n",
    "f1_score(y_test, pred)"
   ]
  },
  {
   "cell_type": "code",
   "execution_count": 8,
   "metadata": {},
   "outputs": [
    {
     "data": {
      "text/plain": [
       "0.5400802730785101"
      ]
     },
     "execution_count": 8,
     "metadata": {},
     "output_type": "execute_result"
    }
   ],
   "source": [
    "clf = svm.SVC(gamma='scale')\n",
    "clf.fit(X_train, y_train)\n",
    "pred = clf.predict(X_test)\n",
    "\n",
    "f1_score(y_test, pred)"
   ]
  },
  {
   "cell_type": "code",
   "execution_count": 9,
   "metadata": {},
   "outputs": [
    {
     "data": {
      "text/plain": [
       "0.6138879313646635"
      ]
     },
     "execution_count": 9,
     "metadata": {},
     "output_type": "execute_result"
    }
   ],
   "source": [
    "from sklearn.ensemble import RandomForestClassifier\n",
    "\n",
    "clf = RandomForestClassifier(n_estimators=10)\n",
    "clf = clf.fit(X_train, y_train)\n",
    "pred = clf.predict(X_test)\n",
    "\n",
    "f1_score(y_test, pred)"
   ]
  },
  {
   "cell_type": "code",
   "execution_count": 6,
   "metadata": {},
   "outputs": [
    {
     "data": {
      "text/plain": [
       "0.594937210315731"
      ]
     },
     "execution_count": 6,
     "metadata": {},
     "output_type": "execute_result"
    }
   ],
   "source": [
    "from sklearn.ensemble import ExtraTreesClassifier\n",
    "\n",
    "clf = ExtraTreesClassifier(n_estimators=10, max_depth=None, min_samples_split=2, random_state=0)\n",
    "clf.fit(X_train, y_train)\n",
    "\n",
    "pred = clf.predict(X_test)\n",
    "\n",
    "f1_score(y_test, pred)"
   ]
  },
  {
   "cell_type": "code",
   "execution_count": 7,
   "metadata": {},
   "outputs": [
    {
     "data": {
      "text/plain": [
       "0.6239564984299608"
      ]
     },
     "execution_count": 7,
     "metadata": {},
     "output_type": "execute_result"
    }
   ],
   "source": [
    "from sklearn.ensemble import AdaBoostClassifier\n",
    "\n",
    "clf = AdaBoostClassifier(n_estimators=100)\n",
    "clf.fit(X_train, y_train)\n",
    "\n",
    "pred = clf.predict(X_test)\n",
    "\n",
    "f1_score(y_test, pred)"
   ]
  },
  {
   "cell_type": "code",
   "execution_count": 8,
   "metadata": {},
   "outputs": [
    {
     "data": {
      "text/plain": [
       "0.6242164806604495"
      ]
     },
     "execution_count": 8,
     "metadata": {},
     "output_type": "execute_result"
    }
   ],
   "source": [
    "from sklearn.ensemble import GradientBoostingClassifier\n",
    "\n",
    "clf = GradientBoostingClassifier(n_estimators=100, learning_rate=1.0, max_depth=1, random_state=0)\n",
    "clf.fit(X_train, y_train)\n",
    "\n",
    "pred = clf.predict(X_test)\n",
    "\n",
    "f1_score(y_test, pred)"
   ]
  },
  {
   "cell_type": "code",
   "execution_count": 15,
   "metadata": {},
   "outputs": [
    {
     "data": {
      "text/plain": [
       "0.5677369439071567"
      ]
     },
     "execution_count": 15,
     "metadata": {},
     "output_type": "execute_result"
    }
   ],
   "source": [
    "from sklearn.naive_bayes import GaussianNB\n",
    "\n",
    "clf = GaussianNB()\n",
    "clf.fit(X_train, y_train)\n",
    "pred = clf.predict(X_test)\n",
    "\n",
    "f1_score(y_test, pred)"
   ]
  },
  {
   "cell_type": "code",
   "execution_count": null,
   "metadata": {},
   "outputs": [],
   "source": []
  },
  {
   "cell_type": "code",
   "execution_count": null,
   "metadata": {},
   "outputs": [],
   "source": []
  }
 ],
 "metadata": {
  "kernelspec": {
   "display_name": "Python 3",
   "language": "python",
   "name": "python3"
  },
  "language_info": {
   "codemirror_mode": {
    "name": "ipython",
    "version": 3
   },
   "file_extension": ".py",
   "mimetype": "text/x-python",
   "name": "python",
   "nbconvert_exporter": "python",
   "pygments_lexer": "ipython3",
   "version": "3.7.4"
  }
 },
 "nbformat": 4,
 "nbformat_minor": 2
}
