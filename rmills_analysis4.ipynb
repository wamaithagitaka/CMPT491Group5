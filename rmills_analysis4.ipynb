{
 "cells": [
  {
   "cell_type": "code",
   "execution_count": 1,
   "metadata": {},
   "outputs": [],
   "source": [
    "import pandas as pd\n",
    "from sklearn.metrics import f1_score\n",
    "from sklearn.model_selection import train_test_split\n",
    "from sklearn import svm\n",
    "from sklearn import neighbors\n",
    "from sklearn.ensemble import RandomForestClassifier\n",
    "from sklearn.ensemble import ExtraTreesClassifier\n",
    "from sklearn.ensemble import AdaBoostClassifier\n",
    "from sklearn.ensemble import GradientBoostingClassifier\n",
    "from sklearn.naive_bayes import GaussianNB"
   ]
  },
  {
   "cell_type": "code",
   "execution_count": 5,
   "metadata": {},
   "outputs": [
    {
     "name": "stdout",
     "output_type": "stream",
     "text": [
      "(87504, 17)\n"
     ]
    },
    {
     "data": {
      "text/html": [
       "<div>\n",
       "<style scoped>\n",
       "    .dataframe tbody tr th:only-of-type {\n",
       "        vertical-align: middle;\n",
       "    }\n",
       "\n",
       "    .dataframe tbody tr th {\n",
       "        vertical-align: top;\n",
       "    }\n",
       "\n",
       "    .dataframe thead th {\n",
       "        text-align: right;\n",
       "    }\n",
       "</style>\n",
       "<table border=\"1\" class=\"dataframe\">\n",
       "  <thead>\n",
       "    <tr style=\"text-align: right;\">\n",
       "      <th></th>\n",
       "      <th>Team1</th>\n",
       "      <th>Team2</th>\n",
       "      <th>Win</th>\n",
       "      <th>Score</th>\n",
       "      <th>FGM</th>\n",
       "      <th>FGA</th>\n",
       "      <th>FGM3</th>\n",
       "      <th>FGA3</th>\n",
       "      <th>FTM</th>\n",
       "      <th>FTA</th>\n",
       "      <th>OR</th>\n",
       "      <th>DR</th>\n",
       "      <th>Ast</th>\n",
       "      <th>TO</th>\n",
       "      <th>Stl</th>\n",
       "      <th>Blk</th>\n",
       "      <th>PF</th>\n",
       "    </tr>\n",
       "  </thead>\n",
       "  <tbody>\n",
       "    <tr>\n",
       "      <th>0</th>\n",
       "      <td>1421.0</td>\n",
       "      <td>1411.0</td>\n",
       "      <td>1.0</td>\n",
       "      <td>1.994712</td>\n",
       "      <td>1.118415</td>\n",
       "      <td>1.377522</td>\n",
       "      <td>0.697148</td>\n",
       "      <td>0.881936</td>\n",
       "      <td>-0.939267</td>\n",
       "      <td>-3.340163</td>\n",
       "      <td>-0.742632</td>\n",
       "      <td>-0.677068</td>\n",
       "      <td>1.729802</td>\n",
       "      <td>-0.756330</td>\n",
       "      <td>0.648304</td>\n",
       "      <td>0.664272</td>\n",
       "      <td>-0.607997</td>\n",
       "    </tr>\n",
       "    <tr>\n",
       "      <th>1</th>\n",
       "      <td>1436.0</td>\n",
       "      <td>1112.0</td>\n",
       "      <td>0.0</td>\n",
       "      <td>-6.405532</td>\n",
       "      <td>-2.235668</td>\n",
       "      <td>-3.294793</td>\n",
       "      <td>-0.539518</td>\n",
       "      <td>-0.800801</td>\n",
       "      <td>-1.394677</td>\n",
       "      <td>-0.973109</td>\n",
       "      <td>-0.543107</td>\n",
       "      <td>-0.034545</td>\n",
       "      <td>-1.456050</td>\n",
       "      <td>0.284372</td>\n",
       "      <td>-0.239265</td>\n",
       "      <td>0.017690</td>\n",
       "      <td>0.474607</td>\n",
       "    </tr>\n",
       "    <tr>\n",
       "      <th>2</th>\n",
       "      <td>1272.0</td>\n",
       "      <td>1113.0</td>\n",
       "      <td>0.0</td>\n",
       "      <td>3.853308</td>\n",
       "      <td>1.852635</td>\n",
       "      <td>3.768736</td>\n",
       "      <td>-0.587577</td>\n",
       "      <td>-0.985461</td>\n",
       "      <td>0.735616</td>\n",
       "      <td>1.798324</td>\n",
       "      <td>2.440904</td>\n",
       "      <td>1.049760</td>\n",
       "      <td>0.727133</td>\n",
       "      <td>0.345803</td>\n",
       "      <td>1.952151</td>\n",
       "      <td>1.948516</td>\n",
       "      <td>0.417965</td>\n",
       "    </tr>\n",
       "    <tr>\n",
       "      <th>3</th>\n",
       "      <td>1166.0</td>\n",
       "      <td>1141.0</td>\n",
       "      <td>0.0</td>\n",
       "      <td>4.173797</td>\n",
       "      <td>2.105784</td>\n",
       "      <td>-0.446416</td>\n",
       "      <td>0.494102</td>\n",
       "      <td>-0.370801</td>\n",
       "      <td>-0.531874</td>\n",
       "      <td>-1.177037</td>\n",
       "      <td>-1.441776</td>\n",
       "      <td>2.729467</td>\n",
       "      <td>3.557566</td>\n",
       "      <td>-1.665977</td>\n",
       "      <td>-0.634785</td>\n",
       "      <td>0.228078</td>\n",
       "      <td>-2.998282</td>\n",
       "    </tr>\n",
       "    <tr>\n",
       "      <th>4</th>\n",
       "      <td>1143.0</td>\n",
       "      <td>1301.0</td>\n",
       "      <td>1.0</td>\n",
       "      <td>-2.580861</td>\n",
       "      <td>-0.504182</td>\n",
       "      <td>-0.052969</td>\n",
       "      <td>-0.947201</td>\n",
       "      <td>-2.476242</td>\n",
       "      <td>-0.625295</td>\n",
       "      <td>-0.568383</td>\n",
       "      <td>-0.464428</td>\n",
       "      <td>0.210106</td>\n",
       "      <td>-0.569521</td>\n",
       "      <td>-0.228914</td>\n",
       "      <td>-0.782866</td>\n",
       "      <td>-0.714186</td>\n",
       "      <td>0.253653</td>\n",
       "    </tr>\n",
       "  </tbody>\n",
       "</table>\n",
       "</div>"
      ],
      "text/plain": [
       "    Team1   Team2  Win     Score       FGM       FGA      FGM3      FGA3  \\\n",
       "0  1421.0  1411.0  1.0  1.994712  1.118415  1.377522  0.697148  0.881936   \n",
       "1  1436.0  1112.0  0.0 -6.405532 -2.235668 -3.294793 -0.539518 -0.800801   \n",
       "2  1272.0  1113.0  0.0  3.853308  1.852635  3.768736 -0.587577 -0.985461   \n",
       "3  1166.0  1141.0  0.0  4.173797  2.105784 -0.446416  0.494102 -0.370801   \n",
       "4  1143.0  1301.0  1.0 -2.580861 -0.504182 -0.052969 -0.947201 -2.476242   \n",
       "\n",
       "        FTM       FTA        OR        DR       Ast        TO       Stl  \\\n",
       "0 -0.939267 -3.340163 -0.742632 -0.677068  1.729802 -0.756330  0.648304   \n",
       "1 -1.394677 -0.973109 -0.543107 -0.034545 -1.456050  0.284372 -0.239265   \n",
       "2  0.735616  1.798324  2.440904  1.049760  0.727133  0.345803  1.952151   \n",
       "3 -0.531874 -1.177037 -1.441776  2.729467  3.557566 -1.665977 -0.634785   \n",
       "4 -0.625295 -0.568383 -0.464428  0.210106 -0.569521 -0.228914 -0.782866   \n",
       "\n",
       "        Blk        PF  \n",
       "0  0.664272 -0.607997  \n",
       "1  0.017690  0.474607  \n",
       "2  1.948516  0.417965  \n",
       "3  0.228078 -2.998282  \n",
       "4 -0.714186  0.253653  "
      ]
     },
     "execution_count": 5,
     "metadata": {},
     "output_type": "execute_result"
    }
   ],
   "source": [
    "df = pd.read_csv('delta_matches.csv', index_col=0)\n",
    "print(df.shape)\n",
    "df.head()"
   ]
  },
  {
   "cell_type": "code",
   "execution_count": 6,
   "metadata": {},
   "outputs": [],
   "source": [
    "columns = list(df.columns.copy())\n",
    "columns.remove('Win')"
   ]
  },
  {
   "cell_type": "code",
   "execution_count": 8,
   "metadata": {},
   "outputs": [],
   "source": [
    "X_train, X_test, y_train, y_test = train_test_split(df[columns],\n",
    "                                                    df['Win'],\n",
    "                                                    test_size=0.3,\n",
    "                                                    random_state=42\n",
    "                                                   )"
   ]
  },
  {
   "cell_type": "code",
   "execution_count": 9,
   "metadata": {},
   "outputs": [],
   "source": [
    "def fit_pred_score(estimator):\n",
    "    estimator.fit(X_train, y_train)\n",
    "    pred = estimator.predict(X_test)\n",
    "    score = f1_score(y_test, pred)\n",
    "    return pred, score"
   ]
  },
  {
   "cell_type": "code",
   "execution_count": 11,
   "metadata": {},
   "outputs": [
    {
     "data": {
      "text/plain": [
       "0.6039588884659308"
      ]
     },
     "execution_count": 11,
     "metadata": {},
     "output_type": "execute_result"
    }
   ],
   "source": [
    "clf = neighbors.KNeighborsClassifier(15)\n",
    "_, score = fit_pred_score(clf)\n",
    "score"
   ]
  },
  {
   "cell_type": "code",
   "execution_count": 12,
   "metadata": {},
   "outputs": [
    {
     "data": {
      "text/plain": [
       "0.6185392826971814"
      ]
     },
     "execution_count": 12,
     "metadata": {},
     "output_type": "execute_result"
    }
   ],
   "source": [
    "clf = RandomForestClassifier(n_estimators=10)\n",
    "_, score = fit_pred_score(clf)\n",
    "score"
   ]
  },
  {
   "cell_type": "code",
   "execution_count": 14,
   "metadata": {},
   "outputs": [
    {
     "data": {
      "text/plain": [
       "0.6025340588632482"
      ]
     },
     "execution_count": 14,
     "metadata": {},
     "output_type": "execute_result"
    }
   ],
   "source": [
    "clf = ExtraTreesClassifier(n_estimators=10, max_depth=None, min_samples_split=2, random_state=0)\n",
    "_, score = fit_pred_score(clf)\n",
    "score"
   ]
  },
  {
   "cell_type": "code",
   "execution_count": 15,
   "metadata": {},
   "outputs": [
    {
     "data": {
      "text/plain": [
       "0.6513520708933938"
      ]
     },
     "execution_count": 15,
     "metadata": {},
     "output_type": "execute_result"
    }
   ],
   "source": [
    "clf = AdaBoostClassifier(n_estimators=100)\n",
    "_, score = fit_pred_score(clf)\n",
    "score"
   ]
  },
  {
   "cell_type": "code",
   "execution_count": 16,
   "metadata": {},
   "outputs": [
    {
     "data": {
      "text/plain": [
       "0.6552901023890785"
      ]
     },
     "execution_count": 16,
     "metadata": {},
     "output_type": "execute_result"
    }
   ],
   "source": [
    "clf = GradientBoostingClassifier(n_estimators=100, learning_rate=1.0, max_depth=1, random_state=0)\n",
    "_, score = fit_pred_score(clf)\n",
    "score"
   ]
  },
  {
   "cell_type": "code",
   "execution_count": 17,
   "metadata": {},
   "outputs": [
    {
     "data": {
      "text/plain": [
       "0.631830419779303"
      ]
     },
     "execution_count": 17,
     "metadata": {},
     "output_type": "execute_result"
    }
   ],
   "source": [
    "clf = GaussianNB()\n",
    "_, score = fit_pred_score(clf)\n",
    "score"
   ]
  },
  {
   "cell_type": "code",
   "execution_count": 18,
   "metadata": {},
   "outputs": [
    {
     "data": {
      "text/plain": [
       "0.6516052318668252"
      ]
     },
     "execution_count": 18,
     "metadata": {},
     "output_type": "execute_result"
    }
   ],
   "source": [
    "clf = svm.SVC(kernel='linear', gamma='scale')\n",
    "_, score = fit_pred_score(clf)\n",
    "score"
   ]
  },
  {
   "cell_type": "code",
   "execution_count": 19,
   "metadata": {},
   "outputs": [
    {
     "data": {
      "text/plain": [
       "0.5782154401262873"
      ]
     },
     "execution_count": 19,
     "metadata": {},
     "output_type": "execute_result"
    }
   ],
   "source": [
    "clf = svm.SVC(gamma='scale')\n",
    "_, score = fit_pred_score(clf)\n",
    "score"
   ]
  },
  {
   "cell_type": "code",
   "execution_count": null,
   "metadata": {},
   "outputs": [],
   "source": []
  }
 ],
 "metadata": {
  "kernelspec": {
   "display_name": "Python 3",
   "language": "python",
   "name": "python3"
  },
  "language_info": {
   "codemirror_mode": {
    "name": "ipython",
    "version": 3
   },
   "file_extension": ".py",
   "mimetype": "text/x-python",
   "name": "python",
   "nbconvert_exporter": "python",
   "pygments_lexer": "ipython3",
   "version": "3.7.4"
  }
 },
 "nbformat": 4,
 "nbformat_minor": 2
}
